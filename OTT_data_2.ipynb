{
 "cells": [
  {
   "cell_type": "code",
   "execution_count": 1,
   "id": "caa4a159",
   "metadata": {},
   "outputs": [],
   "source": [
    "import pandas as pd\n",
    "import numpy as np\n",
    "import matplotlib.pyplot as plt\n",
    "import os\n",
    "\n",
    "amazon_data = ('/Users/user/aiffel/project/TeamP/AmazonPrime_data/titles.csv')\n",
    "amazon = pd.read_csv(amazon_data) \n",
    "disney_data = ('/Users/user/aiffel/project/TeamP/Disney_data/titles.csv')\n",
    "disney = pd.read_csv(disney_data)\n",
    "netflix_data = ('/Users/user/aiffel/project/TeamP/Netflix_data/titles.csv')\n",
    "netflix = pd.read_csv(netflix_data)\n",
    "paramount_data = ('/Users/user/aiffel/project/TeamP/Paramount_data/titles.csv')\n",
    "paramount = pd.read_csv(paramount_data)"
   ]
  },
  {
   "cell_type": "code",
   "execution_count": 3,
   "id": "4a4baa12",
   "metadata": {},
   "outputs": [
    {
     "ename": "KeyError",
     "evalue": "\"['age_certification'] not found in axis\"",
     "output_type": "error",
     "traceback": [
      "\u001b[1;31m---------------------------------------------------------------------------\u001b[0m",
      "\u001b[1;31mKeyError\u001b[0m                                  Traceback (most recent call last)",
      "\u001b[1;32m~\\AppData\\Local\\Temp/ipykernel_13292/1140461798.py\u001b[0m in \u001b[0;36m<module>\u001b[1;34m\u001b[0m\n\u001b[1;32m----> 1\u001b[1;33m \u001b[0mnetflix\u001b[0m \u001b[1;33m=\u001b[0m \u001b[0mnetflix\u001b[0m\u001b[1;33m.\u001b[0m\u001b[0mdrop\u001b[0m\u001b[1;33m(\u001b[0m\u001b[1;34m'age_certification'\u001b[0m\u001b[1;33m,\u001b[0m \u001b[0maxis\u001b[0m\u001b[1;33m=\u001b[0m\u001b[1;36m1\u001b[0m\u001b[1;33m)\u001b[0m\u001b[1;33m\u001b[0m\u001b[1;33m\u001b[0m\u001b[0m\n\u001b[0m\u001b[0;32m      2\u001b[0m \u001b[0mparamount\u001b[0m \u001b[1;33m=\u001b[0m \u001b[0mparamount\u001b[0m\u001b[1;33m.\u001b[0m\u001b[0mdrop\u001b[0m\u001b[1;33m(\u001b[0m\u001b[1;34m'age_certification'\u001b[0m\u001b[1;33m,\u001b[0m \u001b[0maxis\u001b[0m\u001b[1;33m=\u001b[0m\u001b[1;36m1\u001b[0m\u001b[1;33m)\u001b[0m\u001b[1;33m\u001b[0m\u001b[1;33m\u001b[0m\u001b[0m\n\u001b[0;32m      3\u001b[0m \u001b[0mamazon\u001b[0m \u001b[1;33m=\u001b[0m \u001b[0mamazon\u001b[0m\u001b[1;33m.\u001b[0m\u001b[0mdrop\u001b[0m\u001b[1;33m(\u001b[0m\u001b[1;34m'age_certification'\u001b[0m\u001b[1;33m,\u001b[0m \u001b[0maxis\u001b[0m\u001b[1;33m=\u001b[0m\u001b[1;36m1\u001b[0m\u001b[1;33m)\u001b[0m\u001b[1;33m\u001b[0m\u001b[1;33m\u001b[0m\u001b[0m\n\u001b[0;32m      4\u001b[0m \u001b[0mdisney\u001b[0m \u001b[1;33m=\u001b[0m \u001b[0mdisney\u001b[0m\u001b[1;33m.\u001b[0m\u001b[0mdrop\u001b[0m\u001b[1;33m(\u001b[0m\u001b[1;34m'age_certification'\u001b[0m\u001b[1;33m,\u001b[0m \u001b[0maxis\u001b[0m\u001b[1;33m=\u001b[0m\u001b[1;36m1\u001b[0m\u001b[1;33m)\u001b[0m\u001b[1;33m\u001b[0m\u001b[1;33m\u001b[0m\u001b[0m\n",
      "\u001b[1;32m~\\anaconda3\\lib\\site-packages\\pandas\\util\\_decorators.py\u001b[0m in \u001b[0;36mwrapper\u001b[1;34m(*args, **kwargs)\u001b[0m\n\u001b[0;32m    309\u001b[0m                     \u001b[0mstacklevel\u001b[0m\u001b[1;33m=\u001b[0m\u001b[0mstacklevel\u001b[0m\u001b[1;33m,\u001b[0m\u001b[1;33m\u001b[0m\u001b[1;33m\u001b[0m\u001b[0m\n\u001b[0;32m    310\u001b[0m                 )\n\u001b[1;32m--> 311\u001b[1;33m             \u001b[1;32mreturn\u001b[0m \u001b[0mfunc\u001b[0m\u001b[1;33m(\u001b[0m\u001b[1;33m*\u001b[0m\u001b[0margs\u001b[0m\u001b[1;33m,\u001b[0m \u001b[1;33m**\u001b[0m\u001b[0mkwargs\u001b[0m\u001b[1;33m)\u001b[0m\u001b[1;33m\u001b[0m\u001b[1;33m\u001b[0m\u001b[0m\n\u001b[0m\u001b[0;32m    312\u001b[0m \u001b[1;33m\u001b[0m\u001b[0m\n\u001b[0;32m    313\u001b[0m         \u001b[1;32mreturn\u001b[0m \u001b[0mwrapper\u001b[0m\u001b[1;33m\u001b[0m\u001b[1;33m\u001b[0m\u001b[0m\n",
      "\u001b[1;32m~\\anaconda3\\lib\\site-packages\\pandas\\core\\frame.py\u001b[0m in \u001b[0;36mdrop\u001b[1;34m(self, labels, axis, index, columns, level, inplace, errors)\u001b[0m\n\u001b[0;32m   4904\u001b[0m                 \u001b[0mweight\u001b[0m  \u001b[1;36m1.0\u001b[0m     \u001b[1;36m0.8\u001b[0m\u001b[1;33m\u001b[0m\u001b[1;33m\u001b[0m\u001b[0m\n\u001b[0;32m   4905\u001b[0m         \"\"\"\n\u001b[1;32m-> 4906\u001b[1;33m         return super().drop(\n\u001b[0m\u001b[0;32m   4907\u001b[0m             \u001b[0mlabels\u001b[0m\u001b[1;33m=\u001b[0m\u001b[0mlabels\u001b[0m\u001b[1;33m,\u001b[0m\u001b[1;33m\u001b[0m\u001b[1;33m\u001b[0m\u001b[0m\n\u001b[0;32m   4908\u001b[0m             \u001b[0maxis\u001b[0m\u001b[1;33m=\u001b[0m\u001b[0maxis\u001b[0m\u001b[1;33m,\u001b[0m\u001b[1;33m\u001b[0m\u001b[1;33m\u001b[0m\u001b[0m\n",
      "\u001b[1;32m~\\anaconda3\\lib\\site-packages\\pandas\\core\\generic.py\u001b[0m in \u001b[0;36mdrop\u001b[1;34m(self, labels, axis, index, columns, level, inplace, errors)\u001b[0m\n\u001b[0;32m   4148\u001b[0m         \u001b[1;32mfor\u001b[0m \u001b[0maxis\u001b[0m\u001b[1;33m,\u001b[0m \u001b[0mlabels\u001b[0m \u001b[1;32min\u001b[0m \u001b[0maxes\u001b[0m\u001b[1;33m.\u001b[0m\u001b[0mitems\u001b[0m\u001b[1;33m(\u001b[0m\u001b[1;33m)\u001b[0m\u001b[1;33m:\u001b[0m\u001b[1;33m\u001b[0m\u001b[1;33m\u001b[0m\u001b[0m\n\u001b[0;32m   4149\u001b[0m             \u001b[1;32mif\u001b[0m \u001b[0mlabels\u001b[0m \u001b[1;32mis\u001b[0m \u001b[1;32mnot\u001b[0m \u001b[1;32mNone\u001b[0m\u001b[1;33m:\u001b[0m\u001b[1;33m\u001b[0m\u001b[1;33m\u001b[0m\u001b[0m\n\u001b[1;32m-> 4150\u001b[1;33m                 \u001b[0mobj\u001b[0m \u001b[1;33m=\u001b[0m \u001b[0mobj\u001b[0m\u001b[1;33m.\u001b[0m\u001b[0m_drop_axis\u001b[0m\u001b[1;33m(\u001b[0m\u001b[0mlabels\u001b[0m\u001b[1;33m,\u001b[0m \u001b[0maxis\u001b[0m\u001b[1;33m,\u001b[0m \u001b[0mlevel\u001b[0m\u001b[1;33m=\u001b[0m\u001b[0mlevel\u001b[0m\u001b[1;33m,\u001b[0m \u001b[0merrors\u001b[0m\u001b[1;33m=\u001b[0m\u001b[0merrors\u001b[0m\u001b[1;33m)\u001b[0m\u001b[1;33m\u001b[0m\u001b[1;33m\u001b[0m\u001b[0m\n\u001b[0m\u001b[0;32m   4151\u001b[0m \u001b[1;33m\u001b[0m\u001b[0m\n\u001b[0;32m   4152\u001b[0m         \u001b[1;32mif\u001b[0m \u001b[0minplace\u001b[0m\u001b[1;33m:\u001b[0m\u001b[1;33m\u001b[0m\u001b[1;33m\u001b[0m\u001b[0m\n",
      "\u001b[1;32m~\\anaconda3\\lib\\site-packages\\pandas\\core\\generic.py\u001b[0m in \u001b[0;36m_drop_axis\u001b[1;34m(self, labels, axis, level, errors)\u001b[0m\n\u001b[0;32m   4183\u001b[0m                 \u001b[0mnew_axis\u001b[0m \u001b[1;33m=\u001b[0m \u001b[0maxis\u001b[0m\u001b[1;33m.\u001b[0m\u001b[0mdrop\u001b[0m\u001b[1;33m(\u001b[0m\u001b[0mlabels\u001b[0m\u001b[1;33m,\u001b[0m \u001b[0mlevel\u001b[0m\u001b[1;33m=\u001b[0m\u001b[0mlevel\u001b[0m\u001b[1;33m,\u001b[0m \u001b[0merrors\u001b[0m\u001b[1;33m=\u001b[0m\u001b[0merrors\u001b[0m\u001b[1;33m)\u001b[0m\u001b[1;33m\u001b[0m\u001b[1;33m\u001b[0m\u001b[0m\n\u001b[0;32m   4184\u001b[0m             \u001b[1;32melse\u001b[0m\u001b[1;33m:\u001b[0m\u001b[1;33m\u001b[0m\u001b[1;33m\u001b[0m\u001b[0m\n\u001b[1;32m-> 4185\u001b[1;33m                 \u001b[0mnew_axis\u001b[0m \u001b[1;33m=\u001b[0m \u001b[0maxis\u001b[0m\u001b[1;33m.\u001b[0m\u001b[0mdrop\u001b[0m\u001b[1;33m(\u001b[0m\u001b[0mlabels\u001b[0m\u001b[1;33m,\u001b[0m \u001b[0merrors\u001b[0m\u001b[1;33m=\u001b[0m\u001b[0merrors\u001b[0m\u001b[1;33m)\u001b[0m\u001b[1;33m\u001b[0m\u001b[1;33m\u001b[0m\u001b[0m\n\u001b[0m\u001b[0;32m   4186\u001b[0m             \u001b[0mresult\u001b[0m \u001b[1;33m=\u001b[0m \u001b[0mself\u001b[0m\u001b[1;33m.\u001b[0m\u001b[0mreindex\u001b[0m\u001b[1;33m(\u001b[0m\u001b[1;33m**\u001b[0m\u001b[1;33m{\u001b[0m\u001b[0maxis_name\u001b[0m\u001b[1;33m:\u001b[0m \u001b[0mnew_axis\u001b[0m\u001b[1;33m}\u001b[0m\u001b[1;33m)\u001b[0m\u001b[1;33m\u001b[0m\u001b[1;33m\u001b[0m\u001b[0m\n\u001b[0;32m   4187\u001b[0m \u001b[1;33m\u001b[0m\u001b[0m\n",
      "\u001b[1;32m~\\anaconda3\\lib\\site-packages\\pandas\\core\\indexes\\base.py\u001b[0m in \u001b[0;36mdrop\u001b[1;34m(self, labels, errors)\u001b[0m\n\u001b[0;32m   6015\u001b[0m         \u001b[1;32mif\u001b[0m \u001b[0mmask\u001b[0m\u001b[1;33m.\u001b[0m\u001b[0many\u001b[0m\u001b[1;33m(\u001b[0m\u001b[1;33m)\u001b[0m\u001b[1;33m:\u001b[0m\u001b[1;33m\u001b[0m\u001b[1;33m\u001b[0m\u001b[0m\n\u001b[0;32m   6016\u001b[0m             \u001b[1;32mif\u001b[0m \u001b[0merrors\u001b[0m \u001b[1;33m!=\u001b[0m \u001b[1;34m\"ignore\"\u001b[0m\u001b[1;33m:\u001b[0m\u001b[1;33m\u001b[0m\u001b[1;33m\u001b[0m\u001b[0m\n\u001b[1;32m-> 6017\u001b[1;33m                 \u001b[1;32mraise\u001b[0m \u001b[0mKeyError\u001b[0m\u001b[1;33m(\u001b[0m\u001b[1;34mf\"{labels[mask]} not found in axis\"\u001b[0m\u001b[1;33m)\u001b[0m\u001b[1;33m\u001b[0m\u001b[1;33m\u001b[0m\u001b[0m\n\u001b[0m\u001b[0;32m   6018\u001b[0m             \u001b[0mindexer\u001b[0m \u001b[1;33m=\u001b[0m \u001b[0mindexer\u001b[0m\u001b[1;33m[\u001b[0m\u001b[1;33m~\u001b[0m\u001b[0mmask\u001b[0m\u001b[1;33m]\u001b[0m\u001b[1;33m\u001b[0m\u001b[1;33m\u001b[0m\u001b[0m\n\u001b[0;32m   6019\u001b[0m         \u001b[1;32mreturn\u001b[0m \u001b[0mself\u001b[0m\u001b[1;33m.\u001b[0m\u001b[0mdelete\u001b[0m\u001b[1;33m(\u001b[0m\u001b[0mindexer\u001b[0m\u001b[1;33m)\u001b[0m\u001b[1;33m\u001b[0m\u001b[1;33m\u001b[0m\u001b[0m\n",
      "\u001b[1;31mKeyError\u001b[0m: \"['age_certification'] not found in axis\""
     ]
    }
   ],
   "source": [
    "netflix = netflix.drop('age_certification', axis=1)\n",
    "paramount = paramount.drop('age_certification', axis=1)\n",
    "amazon = amazon.drop('age_certification', axis=1)\n",
    "disney = disney.drop('age_certification', axis=1)\n"
   ]
  },
  {
   "cell_type": "code",
   "execution_count": 4,
   "id": "c979eeb4",
   "metadata": {},
   "outputs": [],
   "source": [
    "amazon_cred = ('/Users/user/aiffel/project/TeamP/AmazonPrime_data/credits.csv')\n",
    "amazon_c = pd.read_csv(amazon_cred) \n",
    "disney_cred = ('/Users/user/aiffel/project/TeamP/Disney_data/credits.csv')\n",
    "disney_c = pd.read_csv(disney_cred)\n",
    "netflix_cred = ('/Users/user/aiffel/project/TeamP/Netflix_data/credits.csv')\n",
    "netflix_c = pd.read_csv(netflix_cred)\n",
    "paramount_cred = ('/Users/user/aiffel/project/TeamP/Paramount_data/credits.csv')\n",
    "paramount_c = pd.read_csv(paramount_cred)"
   ]
  },
  {
   "cell_type": "code",
   "execution_count": 5,
   "id": "1c4e22f5",
   "metadata": {},
   "outputs": [
    {
     "data": {
      "text/html": [
       "<div>\n",
       "<style scoped>\n",
       "    .dataframe tbody tr th:only-of-type {\n",
       "        vertical-align: middle;\n",
       "    }\n",
       "\n",
       "    .dataframe tbody tr th {\n",
       "        vertical-align: top;\n",
       "    }\n",
       "\n",
       "    .dataframe thead th {\n",
       "        text-align: right;\n",
       "    }\n",
       "</style>\n",
       "<table border=\"1\" class=\"dataframe\">\n",
       "  <thead>\n",
       "    <tr style=\"text-align: right;\">\n",
       "      <th></th>\n",
       "      <th>person_id</th>\n",
       "      <th>id</th>\n",
       "      <th>name</th>\n",
       "      <th>character</th>\n",
       "      <th>role</th>\n",
       "    </tr>\n",
       "  </thead>\n",
       "  <tbody>\n",
       "    <tr>\n",
       "      <th>0</th>\n",
       "      <td>59401</td>\n",
       "      <td>ts20945</td>\n",
       "      <td>Joe Besser</td>\n",
       "      <td>Joe</td>\n",
       "      <td>ACTOR</td>\n",
       "    </tr>\n",
       "    <tr>\n",
       "      <th>1</th>\n",
       "      <td>31460</td>\n",
       "      <td>ts20945</td>\n",
       "      <td>Moe Howard</td>\n",
       "      <td>Moe</td>\n",
       "      <td>ACTOR</td>\n",
       "    </tr>\n",
       "    <tr>\n",
       "      <th>2</th>\n",
       "      <td>31461</td>\n",
       "      <td>ts20945</td>\n",
       "      <td>Larry Fine</td>\n",
       "      <td>Larry</td>\n",
       "      <td>ACTOR</td>\n",
       "    </tr>\n",
       "    <tr>\n",
       "      <th>3</th>\n",
       "      <td>21174</td>\n",
       "      <td>tm19248</td>\n",
       "      <td>Buster Keaton</td>\n",
       "      <td>Johnny Gray</td>\n",
       "      <td>ACTOR</td>\n",
       "    </tr>\n",
       "    <tr>\n",
       "      <th>4</th>\n",
       "      <td>28713</td>\n",
       "      <td>tm19248</td>\n",
       "      <td>Marion Mack</td>\n",
       "      <td>Annabelle Lee</td>\n",
       "      <td>ACTOR</td>\n",
       "    </tr>\n",
       "  </tbody>\n",
       "</table>\n",
       "</div>"
      ],
      "text/plain": [
       "   person_id       id           name      character   role\n",
       "0      59401  ts20945     Joe Besser            Joe  ACTOR\n",
       "1      31460  ts20945     Moe Howard            Moe  ACTOR\n",
       "2      31461  ts20945     Larry Fine          Larry  ACTOR\n",
       "3      21174  tm19248  Buster Keaton    Johnny Gray  ACTOR\n",
       "4      28713  tm19248    Marion Mack  Annabelle Lee  ACTOR"
      ]
     },
     "execution_count": 5,
     "metadata": {},
     "output_type": "execute_result"
    }
   ],
   "source": [
    "amazon_c.head()"
   ]
  },
  {
   "cell_type": "code",
   "execution_count": 6,
   "id": "b8beb010",
   "metadata": {},
   "outputs": [
    {
     "data": {
      "text/html": [
       "<div>\n",
       "<style scoped>\n",
       "    .dataframe tbody tr th:only-of-type {\n",
       "        vertical-align: middle;\n",
       "    }\n",
       "\n",
       "    .dataframe tbody tr th {\n",
       "        vertical-align: top;\n",
       "    }\n",
       "\n",
       "    .dataframe thead th {\n",
       "        text-align: right;\n",
       "    }\n",
       "</style>\n",
       "<table border=\"1\" class=\"dataframe\">\n",
       "  <thead>\n",
       "    <tr style=\"text-align: right;\">\n",
       "      <th></th>\n",
       "      <th>id</th>\n",
       "      <th>title</th>\n",
       "      <th>type</th>\n",
       "      <th>description</th>\n",
       "      <th>release_year</th>\n",
       "      <th>runtime</th>\n",
       "      <th>genres</th>\n",
       "      <th>production_countries</th>\n",
       "      <th>seasons</th>\n",
       "      <th>imdb_id</th>\n",
       "      <th>imdb_score</th>\n",
       "      <th>imdb_votes</th>\n",
       "      <th>tmdb_popularity</th>\n",
       "      <th>tmdb_score</th>\n",
       "    </tr>\n",
       "  </thead>\n",
       "  <tbody>\n",
       "    <tr>\n",
       "      <th>0</th>\n",
       "      <td>ts20945</td>\n",
       "      <td>The Three Stooges</td>\n",
       "      <td>SHOW</td>\n",
       "      <td>The Three Stooges were an American vaudeville ...</td>\n",
       "      <td>1934</td>\n",
       "      <td>19</td>\n",
       "      <td>['comedy', 'family', 'animation', 'action', 'f...</td>\n",
       "      <td>['US']</td>\n",
       "      <td>26.0</td>\n",
       "      <td>tt0850645</td>\n",
       "      <td>8.6</td>\n",
       "      <td>1092.0</td>\n",
       "      <td>15.424</td>\n",
       "      <td>7.6</td>\n",
       "    </tr>\n",
       "    <tr>\n",
       "      <th>1</th>\n",
       "      <td>tm19248</td>\n",
       "      <td>The General</td>\n",
       "      <td>MOVIE</td>\n",
       "      <td>During America’s Civil War, Union spies steal ...</td>\n",
       "      <td>1926</td>\n",
       "      <td>78</td>\n",
       "      <td>['action', 'drama', 'war', 'western', 'comedy'...</td>\n",
       "      <td>['US']</td>\n",
       "      <td>NaN</td>\n",
       "      <td>tt0017925</td>\n",
       "      <td>8.2</td>\n",
       "      <td>89766.0</td>\n",
       "      <td>8.647</td>\n",
       "      <td>8.0</td>\n",
       "    </tr>\n",
       "    <tr>\n",
       "      <th>2</th>\n",
       "      <td>tm82253</td>\n",
       "      <td>The Best Years of Our Lives</td>\n",
       "      <td>MOVIE</td>\n",
       "      <td>It's the hope that sustains the spirit of ever...</td>\n",
       "      <td>1946</td>\n",
       "      <td>171</td>\n",
       "      <td>['romance', 'war', 'drama']</td>\n",
       "      <td>['US']</td>\n",
       "      <td>NaN</td>\n",
       "      <td>tt0036868</td>\n",
       "      <td>8.1</td>\n",
       "      <td>63026.0</td>\n",
       "      <td>8.435</td>\n",
       "      <td>7.8</td>\n",
       "    </tr>\n",
       "    <tr>\n",
       "      <th>3</th>\n",
       "      <td>tm83884</td>\n",
       "      <td>His Girl Friday</td>\n",
       "      <td>MOVIE</td>\n",
       "      <td>Hildy, the journalist former wife of newspaper...</td>\n",
       "      <td>1940</td>\n",
       "      <td>92</td>\n",
       "      <td>['comedy', 'drama', 'romance']</td>\n",
       "      <td>['US']</td>\n",
       "      <td>NaN</td>\n",
       "      <td>tt0032599</td>\n",
       "      <td>7.8</td>\n",
       "      <td>57835.0</td>\n",
       "      <td>11.270</td>\n",
       "      <td>7.4</td>\n",
       "    </tr>\n",
       "    <tr>\n",
       "      <th>4</th>\n",
       "      <td>tm56584</td>\n",
       "      <td>In a Lonely Place</td>\n",
       "      <td>MOVIE</td>\n",
       "      <td>An aspiring actress begins to suspect that her...</td>\n",
       "      <td>1950</td>\n",
       "      <td>94</td>\n",
       "      <td>['thriller', 'drama', 'romance']</td>\n",
       "      <td>['US']</td>\n",
       "      <td>NaN</td>\n",
       "      <td>tt0042593</td>\n",
       "      <td>7.9</td>\n",
       "      <td>30924.0</td>\n",
       "      <td>8.273</td>\n",
       "      <td>7.6</td>\n",
       "    </tr>\n",
       "  </tbody>\n",
       "</table>\n",
       "</div>"
      ],
      "text/plain": [
       "        id                        title   type  \\\n",
       "0  ts20945            The Three Stooges   SHOW   \n",
       "1  tm19248                  The General  MOVIE   \n",
       "2  tm82253  The Best Years of Our Lives  MOVIE   \n",
       "3  tm83884              His Girl Friday  MOVIE   \n",
       "4  tm56584            In a Lonely Place  MOVIE   \n",
       "\n",
       "                                         description  release_year  runtime  \\\n",
       "0  The Three Stooges were an American vaudeville ...          1934       19   \n",
       "1  During America’s Civil War, Union spies steal ...          1926       78   \n",
       "2  It's the hope that sustains the spirit of ever...          1946      171   \n",
       "3  Hildy, the journalist former wife of newspaper...          1940       92   \n",
       "4  An aspiring actress begins to suspect that her...          1950       94   \n",
       "\n",
       "                                              genres production_countries  \\\n",
       "0  ['comedy', 'family', 'animation', 'action', 'f...               ['US']   \n",
       "1  ['action', 'drama', 'war', 'western', 'comedy'...               ['US']   \n",
       "2                        ['romance', 'war', 'drama']               ['US']   \n",
       "3                     ['comedy', 'drama', 'romance']               ['US']   \n",
       "4                   ['thriller', 'drama', 'romance']               ['US']   \n",
       "\n",
       "   seasons    imdb_id  imdb_score  imdb_votes  tmdb_popularity  tmdb_score  \n",
       "0     26.0  tt0850645         8.6      1092.0           15.424         7.6  \n",
       "1      NaN  tt0017925         8.2     89766.0            8.647         8.0  \n",
       "2      NaN  tt0036868         8.1     63026.0            8.435         7.8  \n",
       "3      NaN  tt0032599         7.8     57835.0           11.270         7.4  \n",
       "4      NaN  tt0042593         7.9     30924.0            8.273         7.6  "
      ]
     },
     "execution_count": 6,
     "metadata": {},
     "output_type": "execute_result"
    }
   ],
   "source": [
    "amazon.head()"
   ]
  },
  {
   "cell_type": "code",
   "execution_count": 7,
   "id": "879cf629",
   "metadata": {},
   "outputs": [
    {
     "data": {
      "text/plain": [
       "124235"
      ]
     },
     "execution_count": 7,
     "metadata": {},
     "output_type": "execute_result"
    }
   ],
   "source": [
    "len(amazon_c)"
   ]
  },
  {
   "cell_type": "code",
   "execution_count": 8,
   "id": "13cea384",
   "metadata": {},
   "outputs": [
    {
     "data": {
      "text/plain": [
       "<pandas.core.groupby.generic.DataFrameGroupBy object at 0x000002DF058493A0>"
      ]
     },
     "execution_count": 8,
     "metadata": {},
     "output_type": "execute_result"
    }
   ],
   "source": [
    "id_group = amazon_c.groupby('id')\n",
    "id_group"
   ]
  },
  {
   "cell_type": "code",
   "execution_count": 10,
   "id": "fdbc05a9",
   "metadata": {},
   "outputs": [
    {
     "data": {
      "text/html": [
       "<div>\n",
       "<style scoped>\n",
       "    .dataframe tbody tr th:only-of-type {\n",
       "        vertical-align: middle;\n",
       "    }\n",
       "\n",
       "    .dataframe tbody tr th {\n",
       "        vertical-align: top;\n",
       "    }\n",
       "\n",
       "    .dataframe thead th {\n",
       "        text-align: right;\n",
       "    }\n",
       "</style>\n",
       "<table border=\"1\" class=\"dataframe\">\n",
       "  <thead>\n",
       "    <tr style=\"text-align: right;\">\n",
       "      <th></th>\n",
       "      <th>person_id</th>\n",
       "      <th>id</th>\n",
       "      <th>name</th>\n",
       "      <th>character</th>\n",
       "      <th>role</th>\n",
       "    </tr>\n",
       "  </thead>\n",
       "  <tbody>\n",
       "    <tr>\n",
       "      <th>0</th>\n",
       "      <td>59401</td>\n",
       "      <td>ts20945</td>\n",
       "      <td>Joe Besser</td>\n",
       "      <td>Joe</td>\n",
       "      <td>ACTOR</td>\n",
       "    </tr>\n",
       "    <tr>\n",
       "      <th>1</th>\n",
       "      <td>31460</td>\n",
       "      <td>ts20945</td>\n",
       "      <td>Moe Howard</td>\n",
       "      <td>Moe</td>\n",
       "      <td>ACTOR</td>\n",
       "    </tr>\n",
       "    <tr>\n",
       "      <th>2</th>\n",
       "      <td>31461</td>\n",
       "      <td>ts20945</td>\n",
       "      <td>Larry Fine</td>\n",
       "      <td>Larry</td>\n",
       "      <td>ACTOR</td>\n",
       "    </tr>\n",
       "    <tr>\n",
       "      <th>3</th>\n",
       "      <td>21174</td>\n",
       "      <td>tm19248</td>\n",
       "      <td>Buster Keaton</td>\n",
       "      <td>Johnny Gray</td>\n",
       "      <td>ACTOR</td>\n",
       "    </tr>\n",
       "    <tr>\n",
       "      <th>4</th>\n",
       "      <td>28713</td>\n",
       "      <td>tm19248</td>\n",
       "      <td>Marion Mack</td>\n",
       "      <td>Annabelle Lee</td>\n",
       "      <td>ACTOR</td>\n",
       "    </tr>\n",
       "    <tr>\n",
       "      <th>...</th>\n",
       "      <td>...</td>\n",
       "      <td>...</td>\n",
       "      <td>...</td>\n",
       "      <td>...</td>\n",
       "      <td>...</td>\n",
       "    </tr>\n",
       "    <tr>\n",
       "      <th>124230</th>\n",
       "      <td>1938589</td>\n",
       "      <td>tm1054116</td>\n",
       "      <td>Sangam Shukla</td>\n",
       "      <td>Madhav</td>\n",
       "      <td>ACTOR</td>\n",
       "    </tr>\n",
       "    <tr>\n",
       "      <th>124231</th>\n",
       "      <td>1938565</td>\n",
       "      <td>tm1054116</td>\n",
       "      <td>Vijay Thakur</td>\n",
       "      <td>Sanjay Thakur</td>\n",
       "      <td>ACTOR</td>\n",
       "    </tr>\n",
       "    <tr>\n",
       "      <th>124232</th>\n",
       "      <td>728899</td>\n",
       "      <td>tm1054116</td>\n",
       "      <td>Vanya Wellens</td>\n",
       "      <td>Budhiya</td>\n",
       "      <td>ACTOR</td>\n",
       "    </tr>\n",
       "    <tr>\n",
       "      <th>124233</th>\n",
       "      <td>1938620</td>\n",
       "      <td>tm1054116</td>\n",
       "      <td>Vishwa Bhanu</td>\n",
       "      <td>Gissu</td>\n",
       "      <td>ACTOR</td>\n",
       "    </tr>\n",
       "    <tr>\n",
       "      <th>124234</th>\n",
       "      <td>1938620</td>\n",
       "      <td>tm1054116</td>\n",
       "      <td>Vishwa Bhanu</td>\n",
       "      <td>NaN</td>\n",
       "      <td>DIRECTOR</td>\n",
       "    </tr>\n",
       "  </tbody>\n",
       "</table>\n",
       "<p>40529 rows × 5 columns</p>\n",
       "</div>"
      ],
      "text/plain": [
       "        person_id         id           name      character      role\n",
       "0           59401    ts20945     Joe Besser            Joe     ACTOR\n",
       "1           31460    ts20945     Moe Howard            Moe     ACTOR\n",
       "2           31461    ts20945     Larry Fine          Larry     ACTOR\n",
       "3           21174    tm19248  Buster Keaton    Johnny Gray     ACTOR\n",
       "4           28713    tm19248    Marion Mack  Annabelle Lee     ACTOR\n",
       "...           ...        ...            ...            ...       ...\n",
       "124230    1938589  tm1054116  Sangam Shukla         Madhav     ACTOR\n",
       "124231    1938565  tm1054116   Vijay Thakur  Sanjay Thakur     ACTOR\n",
       "124232     728899  tm1054116  Vanya Wellens        Budhiya     ACTOR\n",
       "124233    1938620  tm1054116   Vishwa Bhanu          Gissu     ACTOR\n",
       "124234    1938620  tm1054116   Vishwa Bhanu            NaN  DIRECTOR\n",
       "\n",
       "[40529 rows x 5 columns]"
      ]
     },
     "execution_count": 10,
     "metadata": {},
     "output_type": "execute_result"
    }
   ],
   "source": [
    "id_group.head()"
   ]
  },
  {
   "cell_type": "code",
   "execution_count": 15,
   "id": "a237b723",
   "metadata": {},
   "outputs": [],
   "source": [
    "amazon_a=pd.merge(amazon,amazon_c)"
   ]
  },
  {
   "cell_type": "code",
   "execution_count": 16,
   "id": "5c0de631",
   "metadata": {},
   "outputs": [],
   "source": [
    "disney_a=pd.merge(disney,disney_c)"
   ]
  },
  {
   "cell_type": "code",
   "execution_count": 17,
   "id": "6277b1c7",
   "metadata": {},
   "outputs": [],
   "source": [
    "paramount_a=pd.merge(paramount,paramount_c)"
   ]
  },
  {
   "cell_type": "code",
   "execution_count": 18,
   "id": "a2832e4c",
   "metadata": {},
   "outputs": [],
   "source": [
    "netflix_a=pd.merge(netflix,netflix_c)"
   ]
  },
  {
   "cell_type": "code",
   "execution_count": 20,
   "id": "b5358626",
   "metadata": {},
   "outputs": [
    {
     "data": {
      "text/html": [
       "<div>\n",
       "<style scoped>\n",
       "    .dataframe tbody tr th:only-of-type {\n",
       "        vertical-align: middle;\n",
       "    }\n",
       "\n",
       "    .dataframe tbody tr th {\n",
       "        vertical-align: top;\n",
       "    }\n",
       "\n",
       "    .dataframe thead th {\n",
       "        text-align: right;\n",
       "    }\n",
       "</style>\n",
       "<table border=\"1\" class=\"dataframe\">\n",
       "  <thead>\n",
       "    <tr style=\"text-align: right;\">\n",
       "      <th></th>\n",
       "      <th>id</th>\n",
       "      <th>title</th>\n",
       "      <th>type</th>\n",
       "      <th>description</th>\n",
       "      <th>release_year</th>\n",
       "      <th>runtime</th>\n",
       "      <th>genres</th>\n",
       "      <th>production_countries</th>\n",
       "      <th>seasons</th>\n",
       "      <th>imdb_id</th>\n",
       "      <th>imdb_score</th>\n",
       "      <th>imdb_votes</th>\n",
       "      <th>tmdb_popularity</th>\n",
       "      <th>tmdb_score</th>\n",
       "      <th>person_id</th>\n",
       "      <th>name</th>\n",
       "      <th>character</th>\n",
       "      <th>role</th>\n",
       "    </tr>\n",
       "  </thead>\n",
       "  <tbody>\n",
       "    <tr>\n",
       "      <th>0</th>\n",
       "      <td>tm84618</td>\n",
       "      <td>Taxi Driver</td>\n",
       "      <td>MOVIE</td>\n",
       "      <td>A mentally unstable Vietnam War veteran works ...</td>\n",
       "      <td>1976</td>\n",
       "      <td>114</td>\n",
       "      <td>['drama', 'crime']</td>\n",
       "      <td>['US']</td>\n",
       "      <td>NaN</td>\n",
       "      <td>tt0075314</td>\n",
       "      <td>8.2</td>\n",
       "      <td>808582.0</td>\n",
       "      <td>40.965</td>\n",
       "      <td>8.179</td>\n",
       "      <td>3748</td>\n",
       "      <td>Robert De Niro</td>\n",
       "      <td>Travis Bickle</td>\n",
       "      <td>ACTOR</td>\n",
       "    </tr>\n",
       "    <tr>\n",
       "      <th>1</th>\n",
       "      <td>tm84618</td>\n",
       "      <td>Taxi Driver</td>\n",
       "      <td>MOVIE</td>\n",
       "      <td>A mentally unstable Vietnam War veteran works ...</td>\n",
       "      <td>1976</td>\n",
       "      <td>114</td>\n",
       "      <td>['drama', 'crime']</td>\n",
       "      <td>['US']</td>\n",
       "      <td>NaN</td>\n",
       "      <td>tt0075314</td>\n",
       "      <td>8.2</td>\n",
       "      <td>808582.0</td>\n",
       "      <td>40.965</td>\n",
       "      <td>8.179</td>\n",
       "      <td>14658</td>\n",
       "      <td>Jodie Foster</td>\n",
       "      <td>Iris Steensma</td>\n",
       "      <td>ACTOR</td>\n",
       "    </tr>\n",
       "    <tr>\n",
       "      <th>2</th>\n",
       "      <td>tm84618</td>\n",
       "      <td>Taxi Driver</td>\n",
       "      <td>MOVIE</td>\n",
       "      <td>A mentally unstable Vietnam War veteran works ...</td>\n",
       "      <td>1976</td>\n",
       "      <td>114</td>\n",
       "      <td>['drama', 'crime']</td>\n",
       "      <td>['US']</td>\n",
       "      <td>NaN</td>\n",
       "      <td>tt0075314</td>\n",
       "      <td>8.2</td>\n",
       "      <td>808582.0</td>\n",
       "      <td>40.965</td>\n",
       "      <td>8.179</td>\n",
       "      <td>7064</td>\n",
       "      <td>Albert Brooks</td>\n",
       "      <td>Tom</td>\n",
       "      <td>ACTOR</td>\n",
       "    </tr>\n",
       "    <tr>\n",
       "      <th>3</th>\n",
       "      <td>tm84618</td>\n",
       "      <td>Taxi Driver</td>\n",
       "      <td>MOVIE</td>\n",
       "      <td>A mentally unstable Vietnam War veteran works ...</td>\n",
       "      <td>1976</td>\n",
       "      <td>114</td>\n",
       "      <td>['drama', 'crime']</td>\n",
       "      <td>['US']</td>\n",
       "      <td>NaN</td>\n",
       "      <td>tt0075314</td>\n",
       "      <td>8.2</td>\n",
       "      <td>808582.0</td>\n",
       "      <td>40.965</td>\n",
       "      <td>8.179</td>\n",
       "      <td>3739</td>\n",
       "      <td>Harvey Keitel</td>\n",
       "      <td>Matthew 'Sport' Higgins</td>\n",
       "      <td>ACTOR</td>\n",
       "    </tr>\n",
       "    <tr>\n",
       "      <th>4</th>\n",
       "      <td>tm84618</td>\n",
       "      <td>Taxi Driver</td>\n",
       "      <td>MOVIE</td>\n",
       "      <td>A mentally unstable Vietnam War veteran works ...</td>\n",
       "      <td>1976</td>\n",
       "      <td>114</td>\n",
       "      <td>['drama', 'crime']</td>\n",
       "      <td>['US']</td>\n",
       "      <td>NaN</td>\n",
       "      <td>tt0075314</td>\n",
       "      <td>8.2</td>\n",
       "      <td>808582.0</td>\n",
       "      <td>40.965</td>\n",
       "      <td>8.179</td>\n",
       "      <td>48933</td>\n",
       "      <td>Cybill Shepherd</td>\n",
       "      <td>Betsy</td>\n",
       "      <td>ACTOR</td>\n",
       "    </tr>\n",
       "    <tr>\n",
       "      <th>...</th>\n",
       "      <td>...</td>\n",
       "      <td>...</td>\n",
       "      <td>...</td>\n",
       "      <td>...</td>\n",
       "      <td>...</td>\n",
       "      <td>...</td>\n",
       "      <td>...</td>\n",
       "      <td>...</td>\n",
       "      <td>...</td>\n",
       "      <td>...</td>\n",
       "      <td>...</td>\n",
       "      <td>...</td>\n",
       "      <td>...</td>\n",
       "      <td>...</td>\n",
       "      <td>...</td>\n",
       "      <td>...</td>\n",
       "      <td>...</td>\n",
       "      <td>...</td>\n",
       "    </tr>\n",
       "    <tr>\n",
       "      <th>77796</th>\n",
       "      <td>tm1059008</td>\n",
       "      <td>Lokillo</td>\n",
       "      <td>MOVIE</td>\n",
       "      <td>A controversial TV host and comedian who has b...</td>\n",
       "      <td>2021</td>\n",
       "      <td>90</td>\n",
       "      <td>['comedy']</td>\n",
       "      <td>['CO']</td>\n",
       "      <td>NaN</td>\n",
       "      <td>tt14585902</td>\n",
       "      <td>3.8</td>\n",
       "      <td>68.0</td>\n",
       "      <td>26.005</td>\n",
       "      <td>6.300</td>\n",
       "      <td>736339</td>\n",
       "      <td>Adelaida Buscato</td>\n",
       "      <td>María Paz</td>\n",
       "      <td>ACTOR</td>\n",
       "    </tr>\n",
       "    <tr>\n",
       "      <th>77797</th>\n",
       "      <td>tm1059008</td>\n",
       "      <td>Lokillo</td>\n",
       "      <td>MOVIE</td>\n",
       "      <td>A controversial TV host and comedian who has b...</td>\n",
       "      <td>2021</td>\n",
       "      <td>90</td>\n",
       "      <td>['comedy']</td>\n",
       "      <td>['CO']</td>\n",
       "      <td>NaN</td>\n",
       "      <td>tt14585902</td>\n",
       "      <td>3.8</td>\n",
       "      <td>68.0</td>\n",
       "      <td>26.005</td>\n",
       "      <td>6.300</td>\n",
       "      <td>399499</td>\n",
       "      <td>Luz Stella Luengas</td>\n",
       "      <td>Karen Bayona</td>\n",
       "      <td>ACTOR</td>\n",
       "    </tr>\n",
       "    <tr>\n",
       "      <th>77798</th>\n",
       "      <td>tm1059008</td>\n",
       "      <td>Lokillo</td>\n",
       "      <td>MOVIE</td>\n",
       "      <td>A controversial TV host and comedian who has b...</td>\n",
       "      <td>2021</td>\n",
       "      <td>90</td>\n",
       "      <td>['comedy']</td>\n",
       "      <td>['CO']</td>\n",
       "      <td>NaN</td>\n",
       "      <td>tt14585902</td>\n",
       "      <td>3.8</td>\n",
       "      <td>68.0</td>\n",
       "      <td>26.005</td>\n",
       "      <td>6.300</td>\n",
       "      <td>373198</td>\n",
       "      <td>Inés Prieto</td>\n",
       "      <td>Fanny</td>\n",
       "      <td>ACTOR</td>\n",
       "    </tr>\n",
       "    <tr>\n",
       "      <th>77799</th>\n",
       "      <td>tm1059008</td>\n",
       "      <td>Lokillo</td>\n",
       "      <td>MOVIE</td>\n",
       "      <td>A controversial TV host and comedian who has b...</td>\n",
       "      <td>2021</td>\n",
       "      <td>90</td>\n",
       "      <td>['comedy']</td>\n",
       "      <td>['CO']</td>\n",
       "      <td>NaN</td>\n",
       "      <td>tt14585902</td>\n",
       "      <td>3.8</td>\n",
       "      <td>68.0</td>\n",
       "      <td>26.005</td>\n",
       "      <td>6.300</td>\n",
       "      <td>378132</td>\n",
       "      <td>Isabel Gaona</td>\n",
       "      <td>Cacica</td>\n",
       "      <td>ACTOR</td>\n",
       "    </tr>\n",
       "    <tr>\n",
       "      <th>77800</th>\n",
       "      <td>tm1059008</td>\n",
       "      <td>Lokillo</td>\n",
       "      <td>MOVIE</td>\n",
       "      <td>A controversial TV host and comedian who has b...</td>\n",
       "      <td>2021</td>\n",
       "      <td>90</td>\n",
       "      <td>['comedy']</td>\n",
       "      <td>['CO']</td>\n",
       "      <td>NaN</td>\n",
       "      <td>tt14585902</td>\n",
       "      <td>3.8</td>\n",
       "      <td>68.0</td>\n",
       "      <td>26.005</td>\n",
       "      <td>6.300</td>\n",
       "      <td>1950416</td>\n",
       "      <td>Julian Gaviria</td>\n",
       "      <td>NaN</td>\n",
       "      <td>DIRECTOR</td>\n",
       "    </tr>\n",
       "  </tbody>\n",
       "</table>\n",
       "<p>77801 rows × 18 columns</p>\n",
       "</div>"
      ],
      "text/plain": [
       "              id        title   type  \\\n",
       "0        tm84618  Taxi Driver  MOVIE   \n",
       "1        tm84618  Taxi Driver  MOVIE   \n",
       "2        tm84618  Taxi Driver  MOVIE   \n",
       "3        tm84618  Taxi Driver  MOVIE   \n",
       "4        tm84618  Taxi Driver  MOVIE   \n",
       "...          ...          ...    ...   \n",
       "77796  tm1059008      Lokillo  MOVIE   \n",
       "77797  tm1059008      Lokillo  MOVIE   \n",
       "77798  tm1059008      Lokillo  MOVIE   \n",
       "77799  tm1059008      Lokillo  MOVIE   \n",
       "77800  tm1059008      Lokillo  MOVIE   \n",
       "\n",
       "                                             description  release_year  \\\n",
       "0      A mentally unstable Vietnam War veteran works ...          1976   \n",
       "1      A mentally unstable Vietnam War veteran works ...          1976   \n",
       "2      A mentally unstable Vietnam War veteran works ...          1976   \n",
       "3      A mentally unstable Vietnam War veteran works ...          1976   \n",
       "4      A mentally unstable Vietnam War veteran works ...          1976   \n",
       "...                                                  ...           ...   \n",
       "77796  A controversial TV host and comedian who has b...          2021   \n",
       "77797  A controversial TV host and comedian who has b...          2021   \n",
       "77798  A controversial TV host and comedian who has b...          2021   \n",
       "77799  A controversial TV host and comedian who has b...          2021   \n",
       "77800  A controversial TV host and comedian who has b...          2021   \n",
       "\n",
       "       runtime              genres production_countries  seasons     imdb_id  \\\n",
       "0          114  ['drama', 'crime']               ['US']      NaN   tt0075314   \n",
       "1          114  ['drama', 'crime']               ['US']      NaN   tt0075314   \n",
       "2          114  ['drama', 'crime']               ['US']      NaN   tt0075314   \n",
       "3          114  ['drama', 'crime']               ['US']      NaN   tt0075314   \n",
       "4          114  ['drama', 'crime']               ['US']      NaN   tt0075314   \n",
       "...        ...                 ...                  ...      ...         ...   \n",
       "77796       90          ['comedy']               ['CO']      NaN  tt14585902   \n",
       "77797       90          ['comedy']               ['CO']      NaN  tt14585902   \n",
       "77798       90          ['comedy']               ['CO']      NaN  tt14585902   \n",
       "77799       90          ['comedy']               ['CO']      NaN  tt14585902   \n",
       "77800       90          ['comedy']               ['CO']      NaN  tt14585902   \n",
       "\n",
       "       imdb_score  imdb_votes  tmdb_popularity  tmdb_score  person_id  \\\n",
       "0             8.2    808582.0           40.965       8.179       3748   \n",
       "1             8.2    808582.0           40.965       8.179      14658   \n",
       "2             8.2    808582.0           40.965       8.179       7064   \n",
       "3             8.2    808582.0           40.965       8.179       3739   \n",
       "4             8.2    808582.0           40.965       8.179      48933   \n",
       "...           ...         ...              ...         ...        ...   \n",
       "77796         3.8        68.0           26.005       6.300     736339   \n",
       "77797         3.8        68.0           26.005       6.300     399499   \n",
       "77798         3.8        68.0           26.005       6.300     373198   \n",
       "77799         3.8        68.0           26.005       6.300     378132   \n",
       "77800         3.8        68.0           26.005       6.300    1950416   \n",
       "\n",
       "                     name                character      role  \n",
       "0          Robert De Niro            Travis Bickle     ACTOR  \n",
       "1            Jodie Foster            Iris Steensma     ACTOR  \n",
       "2           Albert Brooks                      Tom     ACTOR  \n",
       "3           Harvey Keitel  Matthew 'Sport' Higgins     ACTOR  \n",
       "4         Cybill Shepherd                    Betsy     ACTOR  \n",
       "...                   ...                      ...       ...  \n",
       "77796    Adelaida Buscato                María Paz     ACTOR  \n",
       "77797  Luz Stella Luengas             Karen Bayona     ACTOR  \n",
       "77798         Inés Prieto                    Fanny     ACTOR  \n",
       "77799        Isabel Gaona                   Cacica     ACTOR  \n",
       "77800      Julian Gaviria                      NaN  DIRECTOR  \n",
       "\n",
       "[77801 rows x 18 columns]"
      ]
     },
     "execution_count": 20,
     "metadata": {},
     "output_type": "execute_result"
    }
   ],
   "source": [
    "netflix_a"
   ]
  },
  {
   "cell_type": "code",
   "execution_count": 21,
   "id": "fb8fb75d",
   "metadata": {},
   "outputs": [],
   "source": [
    "net_a_action=netflix_a[netflix_a['genres'].str.contains('action', na = False)]"
   ]
  },
  {
   "cell_type": "code",
   "execution_count": 22,
   "id": "1d5bd91a",
   "metadata": {},
   "outputs": [
    {
     "data": {
      "text/html": [
       "<div>\n",
       "<style scoped>\n",
       "    .dataframe tbody tr th:only-of-type {\n",
       "        vertical-align: middle;\n",
       "    }\n",
       "\n",
       "    .dataframe tbody tr th {\n",
       "        vertical-align: top;\n",
       "    }\n",
       "\n",
       "    .dataframe thead th {\n",
       "        text-align: right;\n",
       "    }\n",
       "</style>\n",
       "<table border=\"1\" class=\"dataframe\">\n",
       "  <thead>\n",
       "    <tr style=\"text-align: right;\">\n",
       "      <th></th>\n",
       "      <th>id</th>\n",
       "      <th>title</th>\n",
       "      <th>type</th>\n",
       "      <th>description</th>\n",
       "      <th>release_year</th>\n",
       "      <th>runtime</th>\n",
       "      <th>genres</th>\n",
       "      <th>production_countries</th>\n",
       "      <th>seasons</th>\n",
       "      <th>imdb_id</th>\n",
       "      <th>imdb_score</th>\n",
       "      <th>imdb_votes</th>\n",
       "      <th>tmdb_popularity</th>\n",
       "      <th>tmdb_score</th>\n",
       "      <th>person_id</th>\n",
       "      <th>name</th>\n",
       "      <th>character</th>\n",
       "      <th>role</th>\n",
       "    </tr>\n",
       "  </thead>\n",
       "  <tbody>\n",
       "    <tr>\n",
       "      <th>37</th>\n",
       "      <td>tm154986</td>\n",
       "      <td>Deliverance</td>\n",
       "      <td>MOVIE</td>\n",
       "      <td>Intent on seeing the Cahulawassee River before...</td>\n",
       "      <td>1972</td>\n",
       "      <td>109</td>\n",
       "      <td>['drama', 'action', 'thriller', 'european']</td>\n",
       "      <td>['US']</td>\n",
       "      <td>NaN</td>\n",
       "      <td>tt0068473</td>\n",
       "      <td>7.7</td>\n",
       "      <td>107673.0</td>\n",
       "      <td>10.010</td>\n",
       "      <td>7.3</td>\n",
       "      <td>10103</td>\n",
       "      <td>Jon Voight</td>\n",
       "      <td>Ed Gentry</td>\n",
       "      <td>ACTOR</td>\n",
       "    </tr>\n",
       "    <tr>\n",
       "      <th>38</th>\n",
       "      <td>tm154986</td>\n",
       "      <td>Deliverance</td>\n",
       "      <td>MOVIE</td>\n",
       "      <td>Intent on seeing the Cahulawassee River before...</td>\n",
       "      <td>1972</td>\n",
       "      <td>109</td>\n",
       "      <td>['drama', 'action', 'thriller', 'european']</td>\n",
       "      <td>['US']</td>\n",
       "      <td>NaN</td>\n",
       "      <td>tt0068473</td>\n",
       "      <td>7.7</td>\n",
       "      <td>107673.0</td>\n",
       "      <td>10.010</td>\n",
       "      <td>7.3</td>\n",
       "      <td>13020</td>\n",
       "      <td>Burt Reynolds</td>\n",
       "      <td>Lewis Medlock</td>\n",
       "      <td>ACTOR</td>\n",
       "    </tr>\n",
       "    <tr>\n",
       "      <th>39</th>\n",
       "      <td>tm154986</td>\n",
       "      <td>Deliverance</td>\n",
       "      <td>MOVIE</td>\n",
       "      <td>Intent on seeing the Cahulawassee River before...</td>\n",
       "      <td>1972</td>\n",
       "      <td>109</td>\n",
       "      <td>['drama', 'action', 'thriller', 'european']</td>\n",
       "      <td>['US']</td>\n",
       "      <td>NaN</td>\n",
       "      <td>tt0068473</td>\n",
       "      <td>7.7</td>\n",
       "      <td>107673.0</td>\n",
       "      <td>10.010</td>\n",
       "      <td>7.3</td>\n",
       "      <td>6639</td>\n",
       "      <td>Ned Beatty</td>\n",
       "      <td>Bobby Trippe</td>\n",
       "      <td>ACTOR</td>\n",
       "    </tr>\n",
       "    <tr>\n",
       "      <th>40</th>\n",
       "      <td>tm154986</td>\n",
       "      <td>Deliverance</td>\n",
       "      <td>MOVIE</td>\n",
       "      <td>Intent on seeing the Cahulawassee River before...</td>\n",
       "      <td>1972</td>\n",
       "      <td>109</td>\n",
       "      <td>['drama', 'action', 'thriller', 'european']</td>\n",
       "      <td>['US']</td>\n",
       "      <td>NaN</td>\n",
       "      <td>tt0068473</td>\n",
       "      <td>7.7</td>\n",
       "      <td>107673.0</td>\n",
       "      <td>10.010</td>\n",
       "      <td>7.3</td>\n",
       "      <td>11224</td>\n",
       "      <td>Ronny Cox</td>\n",
       "      <td>Drew Ballinger</td>\n",
       "      <td>ACTOR</td>\n",
       "    </tr>\n",
       "    <tr>\n",
       "      <th>41</th>\n",
       "      <td>tm154986</td>\n",
       "      <td>Deliverance</td>\n",
       "      <td>MOVIE</td>\n",
       "      <td>Intent on seeing the Cahulawassee River before...</td>\n",
       "      <td>1972</td>\n",
       "      <td>109</td>\n",
       "      <td>['drama', 'action', 'thriller', 'european']</td>\n",
       "      <td>['US']</td>\n",
       "      <td>NaN</td>\n",
       "      <td>tt0068473</td>\n",
       "      <td>7.7</td>\n",
       "      <td>107673.0</td>\n",
       "      <td>10.010</td>\n",
       "      <td>7.3</td>\n",
       "      <td>24509</td>\n",
       "      <td>Ed Ramey</td>\n",
       "      <td>Old Man at the Gas-Station</td>\n",
       "      <td>ACTOR</td>\n",
       "    </tr>\n",
       "    <tr>\n",
       "      <th>...</th>\n",
       "      <td>...</td>\n",
       "      <td>...</td>\n",
       "      <td>...</td>\n",
       "      <td>...</td>\n",
       "      <td>...</td>\n",
       "      <td>...</td>\n",
       "      <td>...</td>\n",
       "      <td>...</td>\n",
       "      <td>...</td>\n",
       "      <td>...</td>\n",
       "      <td>...</td>\n",
       "      <td>...</td>\n",
       "      <td>...</td>\n",
       "      <td>...</td>\n",
       "      <td>...</td>\n",
       "      <td>...</td>\n",
       "      <td>...</td>\n",
       "      <td>...</td>\n",
       "    </tr>\n",
       "    <tr>\n",
       "      <th>77582</th>\n",
       "      <td>tm1110241</td>\n",
       "      <td>Kaaval</td>\n",
       "      <td>MOVIE</td>\n",
       "      <td>Thampan and Antony are a long time best friend...</td>\n",
       "      <td>2021</td>\n",
       "      <td>148</td>\n",
       "      <td>['thriller', 'action', 'drama']</td>\n",
       "      <td>['IN']</td>\n",
       "      <td>NaN</td>\n",
       "      <td>tt11182984</td>\n",
       "      <td>5.1</td>\n",
       "      <td>1497.0</td>\n",
       "      <td>1.978</td>\n",
       "      <td>5.3</td>\n",
       "      <td>132840</td>\n",
       "      <td>Santhakumari</td>\n",
       "      <td>Leelamma</td>\n",
       "      <td>ACTOR</td>\n",
       "    </tr>\n",
       "    <tr>\n",
       "      <th>77583</th>\n",
       "      <td>tm1110241</td>\n",
       "      <td>Kaaval</td>\n",
       "      <td>MOVIE</td>\n",
       "      <td>Thampan and Antony are a long time best friend...</td>\n",
       "      <td>2021</td>\n",
       "      <td>148</td>\n",
       "      <td>['thriller', 'action', 'drama']</td>\n",
       "      <td>['IN']</td>\n",
       "      <td>NaN</td>\n",
       "      <td>tt11182984</td>\n",
       "      <td>5.1</td>\n",
       "      <td>1497.0</td>\n",
       "      <td>1.978</td>\n",
       "      <td>5.3</td>\n",
       "      <td>184801</td>\n",
       "      <td>Anjali Aneesh Upasana</td>\n",
       "      <td>Padmini</td>\n",
       "      <td>ACTOR</td>\n",
       "    </tr>\n",
       "    <tr>\n",
       "      <th>77584</th>\n",
       "      <td>tm1110241</td>\n",
       "      <td>Kaaval</td>\n",
       "      <td>MOVIE</td>\n",
       "      <td>Thampan and Antony are a long time best friend...</td>\n",
       "      <td>2021</td>\n",
       "      <td>148</td>\n",
       "      <td>['thriller', 'action', 'drama']</td>\n",
       "      <td>['IN']</td>\n",
       "      <td>NaN</td>\n",
       "      <td>tt11182984</td>\n",
       "      <td>5.1</td>\n",
       "      <td>1497.0</td>\n",
       "      <td>1.978</td>\n",
       "      <td>5.3</td>\n",
       "      <td>147363</td>\n",
       "      <td>Ambika Mohan</td>\n",
       "      <td>Annamma</td>\n",
       "      <td>ACTOR</td>\n",
       "    </tr>\n",
       "    <tr>\n",
       "      <th>77585</th>\n",
       "      <td>tm1110241</td>\n",
       "      <td>Kaaval</td>\n",
       "      <td>MOVIE</td>\n",
       "      <td>Thampan and Antony are a long time best friend...</td>\n",
       "      <td>2021</td>\n",
       "      <td>148</td>\n",
       "      <td>['thriller', 'action', 'drama']</td>\n",
       "      <td>['IN']</td>\n",
       "      <td>NaN</td>\n",
       "      <td>tt11182984</td>\n",
       "      <td>5.1</td>\n",
       "      <td>1497.0</td>\n",
       "      <td>1.978</td>\n",
       "      <td>5.3</td>\n",
       "      <td>976832</td>\n",
       "      <td>Gilu Joseph</td>\n",
       "      <td>Wife of P.C. K. P. Varghese</td>\n",
       "      <td>ACTOR</td>\n",
       "    </tr>\n",
       "    <tr>\n",
       "      <th>77586</th>\n",
       "      <td>tm1110241</td>\n",
       "      <td>Kaaval</td>\n",
       "      <td>MOVIE</td>\n",
       "      <td>Thampan and Antony are a long time best friend...</td>\n",
       "      <td>2021</td>\n",
       "      <td>148</td>\n",
       "      <td>['thriller', 'action', 'drama']</td>\n",
       "      <td>['IN']</td>\n",
       "      <td>NaN</td>\n",
       "      <td>tt11182984</td>\n",
       "      <td>5.1</td>\n",
       "      <td>1497.0</td>\n",
       "      <td>1.978</td>\n",
       "      <td>5.3</td>\n",
       "      <td>228433</td>\n",
       "      <td>Nithin Renji Panicker</td>\n",
       "      <td>NaN</td>\n",
       "      <td>DIRECTOR</td>\n",
       "    </tr>\n",
       "  </tbody>\n",
       "</table>\n",
       "<p>20659 rows × 18 columns</p>\n",
       "</div>"
      ],
      "text/plain": [
       "              id        title   type  \\\n",
       "37      tm154986  Deliverance  MOVIE   \n",
       "38      tm154986  Deliverance  MOVIE   \n",
       "39      tm154986  Deliverance  MOVIE   \n",
       "40      tm154986  Deliverance  MOVIE   \n",
       "41      tm154986  Deliverance  MOVIE   \n",
       "...          ...          ...    ...   \n",
       "77582  tm1110241       Kaaval  MOVIE   \n",
       "77583  tm1110241       Kaaval  MOVIE   \n",
       "77584  tm1110241       Kaaval  MOVIE   \n",
       "77585  tm1110241       Kaaval  MOVIE   \n",
       "77586  tm1110241       Kaaval  MOVIE   \n",
       "\n",
       "                                             description  release_year  \\\n",
       "37     Intent on seeing the Cahulawassee River before...          1972   \n",
       "38     Intent on seeing the Cahulawassee River before...          1972   \n",
       "39     Intent on seeing the Cahulawassee River before...          1972   \n",
       "40     Intent on seeing the Cahulawassee River before...          1972   \n",
       "41     Intent on seeing the Cahulawassee River before...          1972   \n",
       "...                                                  ...           ...   \n",
       "77582  Thampan and Antony are a long time best friend...          2021   \n",
       "77583  Thampan and Antony are a long time best friend...          2021   \n",
       "77584  Thampan and Antony are a long time best friend...          2021   \n",
       "77585  Thampan and Antony are a long time best friend...          2021   \n",
       "77586  Thampan and Antony are a long time best friend...          2021   \n",
       "\n",
       "       runtime                                       genres  \\\n",
       "37         109  ['drama', 'action', 'thriller', 'european']   \n",
       "38         109  ['drama', 'action', 'thriller', 'european']   \n",
       "39         109  ['drama', 'action', 'thriller', 'european']   \n",
       "40         109  ['drama', 'action', 'thriller', 'european']   \n",
       "41         109  ['drama', 'action', 'thriller', 'european']   \n",
       "...        ...                                          ...   \n",
       "77582      148              ['thriller', 'action', 'drama']   \n",
       "77583      148              ['thriller', 'action', 'drama']   \n",
       "77584      148              ['thriller', 'action', 'drama']   \n",
       "77585      148              ['thriller', 'action', 'drama']   \n",
       "77586      148              ['thriller', 'action', 'drama']   \n",
       "\n",
       "      production_countries  seasons     imdb_id  imdb_score  imdb_votes  \\\n",
       "37                  ['US']      NaN   tt0068473         7.7    107673.0   \n",
       "38                  ['US']      NaN   tt0068473         7.7    107673.0   \n",
       "39                  ['US']      NaN   tt0068473         7.7    107673.0   \n",
       "40                  ['US']      NaN   tt0068473         7.7    107673.0   \n",
       "41                  ['US']      NaN   tt0068473         7.7    107673.0   \n",
       "...                    ...      ...         ...         ...         ...   \n",
       "77582               ['IN']      NaN  tt11182984         5.1      1497.0   \n",
       "77583               ['IN']      NaN  tt11182984         5.1      1497.0   \n",
       "77584               ['IN']      NaN  tt11182984         5.1      1497.0   \n",
       "77585               ['IN']      NaN  tt11182984         5.1      1497.0   \n",
       "77586               ['IN']      NaN  tt11182984         5.1      1497.0   \n",
       "\n",
       "       tmdb_popularity  tmdb_score  person_id                   name  \\\n",
       "37              10.010         7.3      10103             Jon Voight   \n",
       "38              10.010         7.3      13020          Burt Reynolds   \n",
       "39              10.010         7.3       6639             Ned Beatty   \n",
       "40              10.010         7.3      11224              Ronny Cox   \n",
       "41              10.010         7.3      24509               Ed Ramey   \n",
       "...                ...         ...        ...                    ...   \n",
       "77582            1.978         5.3     132840           Santhakumari   \n",
       "77583            1.978         5.3     184801  Anjali Aneesh Upasana   \n",
       "77584            1.978         5.3     147363           Ambika Mohan   \n",
       "77585            1.978         5.3     976832            Gilu Joseph   \n",
       "77586            1.978         5.3     228433  Nithin Renji Panicker   \n",
       "\n",
       "                         character      role  \n",
       "37                       Ed Gentry     ACTOR  \n",
       "38                   Lewis Medlock     ACTOR  \n",
       "39                    Bobby Trippe     ACTOR  \n",
       "40                  Drew Ballinger     ACTOR  \n",
       "41      Old Man at the Gas-Station     ACTOR  \n",
       "...                            ...       ...  \n",
       "77582                     Leelamma     ACTOR  \n",
       "77583                      Padmini     ACTOR  \n",
       "77584                      Annamma     ACTOR  \n",
       "77585  Wife of P.C. K. P. Varghese     ACTOR  \n",
       "77586                          NaN  DIRECTOR  \n",
       "\n",
       "[20659 rows x 18 columns]"
      ]
     },
     "execution_count": 22,
     "metadata": {},
     "output_type": "execute_result"
    }
   ],
   "source": [
    "net_a_action"
   ]
  },
  {
   "cell_type": "code",
   "execution_count": 23,
   "id": "eaba4cf8",
   "metadata": {},
   "outputs": [],
   "source": [
    "net_actor = net_a_action['name']"
   ]
  },
  {
   "cell_type": "code",
   "execution_count": 24,
   "id": "23acbc2f",
   "metadata": {},
   "outputs": [
    {
     "data": {
      "text/plain": [
       "37                  Jon Voight\n",
       "38               Burt Reynolds\n",
       "39                  Ned Beatty\n",
       "40                   Ronny Cox\n",
       "41                    Ed Ramey\n",
       "                 ...          \n",
       "77582             Santhakumari\n",
       "77583    Anjali Aneesh Upasana\n",
       "77584             Ambika Mohan\n",
       "77585              Gilu Joseph\n",
       "77586    Nithin Renji Panicker\n",
       "Name: name, Length: 20659, dtype: object"
      ]
     },
     "execution_count": 24,
     "metadata": {},
     "output_type": "execute_result"
    }
   ],
   "source": [
    "net_actor"
   ]
  },
  {
   "cell_type": "code",
   "execution_count": 28,
   "id": "4d73e2fb",
   "metadata": {},
   "outputs": [
    {
     "data": {
      "text/plain": [
       "Takahiro Sakurai    18\n",
       "Yuki Kaji           17\n",
       "Kenjiro Tsuda       16\n",
       "Rikiya Koyama       13\n",
       "Fred Tatasciore     13\n",
       "Name: name, dtype: int64"
      ]
     },
     "execution_count": 28,
     "metadata": {},
     "output_type": "execute_result"
    }
   ],
   "source": [
    "net_actor.value_counts(dropna = False, ascending = False).head()"
   ]
  },
  {
   "cell_type": "code",
   "execution_count": 29,
   "id": "2075778a",
   "metadata": {},
   "outputs": [],
   "source": [
    "net_actor_f = net_actor.value_counts(dropna = False, ascending = False).head()"
   ]
  },
  {
   "cell_type": "code",
   "execution_count": 30,
   "id": "efd49242",
   "metadata": {},
   "outputs": [
    {
     "data": {
      "text/plain": [
       "Takahiro Sakurai    18\n",
       "Yuki Kaji           17\n",
       "Kenjiro Tsuda       16\n",
       "Rikiya Koyama       13\n",
       "Fred Tatasciore     13\n",
       "Name: name, dtype: int64"
      ]
     },
     "execution_count": 30,
     "metadata": {},
     "output_type": "execute_result"
    }
   ],
   "source": [
    "net_actor_f"
   ]
  },
  {
   "cell_type": "code",
   "execution_count": 31,
   "id": "88aa3fc9",
   "metadata": {},
   "outputs": [
    {
     "data": {
      "text/html": [
       "<div>\n",
       "<style scoped>\n",
       "    .dataframe tbody tr th:only-of-type {\n",
       "        vertical-align: middle;\n",
       "    }\n",
       "\n",
       "    .dataframe tbody tr th {\n",
       "        vertical-align: top;\n",
       "    }\n",
       "\n",
       "    .dataframe thead th {\n",
       "        text-align: right;\n",
       "    }\n",
       "</style>\n",
       "<table border=\"1\" class=\"dataframe\">\n",
       "  <thead>\n",
       "    <tr style=\"text-align: right;\">\n",
       "      <th></th>\n",
       "      <th>name</th>\n",
       "    </tr>\n",
       "  </thead>\n",
       "  <tbody>\n",
       "    <tr>\n",
       "      <th>Takahiro Sakurai</th>\n",
       "      <td>18</td>\n",
       "    </tr>\n",
       "    <tr>\n",
       "      <th>Yuki Kaji</th>\n",
       "      <td>17</td>\n",
       "    </tr>\n",
       "    <tr>\n",
       "      <th>Kenjiro Tsuda</th>\n",
       "      <td>16</td>\n",
       "    </tr>\n",
       "    <tr>\n",
       "      <th>Rikiya Koyama</th>\n",
       "      <td>13</td>\n",
       "    </tr>\n",
       "    <tr>\n",
       "      <th>Fred Tatasciore</th>\n",
       "      <td>13</td>\n",
       "    </tr>\n",
       "  </tbody>\n",
       "</table>\n",
       "</div>"
      ],
      "text/plain": [
       "                  name\n",
       "Takahiro Sakurai    18\n",
       "Yuki Kaji           17\n",
       "Kenjiro Tsuda       16\n",
       "Rikiya Koyama       13\n",
       "Fred Tatasciore     13"
      ]
     },
     "execution_count": 31,
     "metadata": {},
     "output_type": "execute_result"
    }
   ],
   "source": [
    "pd.DataFrame(net_actor_f)"
   ]
  },
  {
   "cell_type": "code",
   "execution_count": 32,
   "id": "8074c512",
   "metadata": {},
   "outputs": [
    {
     "ename": "TypeError",
     "evalue": "'tuple' object is not callable",
     "output_type": "error",
     "traceback": [
      "\u001b[1;31m---------------------------------------------------------------------------\u001b[0m",
      "\u001b[1;31mTypeError\u001b[0m                                 Traceback (most recent call last)",
      "\u001b[1;32m~\\AppData\\Local\\Temp/ipykernel_13292/504925412.py\u001b[0m in \u001b[0;36m<module>\u001b[1;34m\u001b[0m\n\u001b[1;32m----> 1\u001b[1;33m \u001b[0mnet_actor_f\u001b[0m\u001b[1;33m.\u001b[0m\u001b[0mshape\u001b[0m\u001b[1;33m(\u001b[0m\u001b[1;33m)\u001b[0m\u001b[1;33m\u001b[0m\u001b[1;33m\u001b[0m\u001b[0m\n\u001b[0m",
      "\u001b[1;31mTypeError\u001b[0m: 'tuple' object is not callable"
     ]
    }
   ],
   "source": []
  },
  {
   "cell_type": "code",
   "execution_count": 129,
   "id": "f279378d",
   "metadata": {},
   "outputs": [
    {
     "data": {
      "image/png": "[encoded data removed]",
      "text/plain": [
       "<Figure size 720x360 with 1 Axes>"
      ]
     },
     "metadata": {
      "needs_background": "light"
     },
     "output_type": "display_data"
    }
   ],
   "source": [
    "x = ['Fred Tatasciore','Rikiya Koyama','Kenjiro Tsuda','Yuki Kaji','Takahiro Sakurai']\n",
    "y = [13,13,16,17,18]\n",
    "\n",
    "\n",
    "barh = plt.barh(x,y,color=['#FF0000','#CC0000','#AA0000','#880000','#660000'])\n",
    "plt.ylim()\n",
    "plt.rcParams['figure.figsize'] = [10, 5]\n",
    "plt.title('netflix_action_actor')\n",
    "\n",
    "plt.show()"
   ]
  },
  {
   "cell_type": "code",
   "execution_count": 74,
   "id": "dbd112a0",
   "metadata": {},
   "outputs": [],
   "source": [
    "net_a_crime=netflix_a[netflix_a['genres'].str.contains('crime', na = False)]"
   ]
  },
  {
   "cell_type": "code",
   "execution_count": 75,
   "id": "1c7213a2",
   "metadata": {},
   "outputs": [],
   "source": [
    "net_actor_crime = net_a_crime['name']"
   ]
  },
  {
   "cell_type": "code",
   "execution_count": 76,
   "id": "9e76c8c5",
   "metadata": {},
   "outputs": [],
   "source": [
    "net_actor_crime_f = net_actor_crime.value_counts(dropna = False, ascending = False).head()\n"
   ]
  },
  {
   "cell_type": "code",
   "execution_count": 77,
   "id": "1d1bc555",
   "metadata": {},
   "outputs": [
    {
     "data": {
      "text/plain": [
       "Ajay Devgn             11\n",
       "Kareena Kapoor Khan     9\n",
       "Nawazuddin Siddiqui     9\n",
       "Akshay Kumar            9\n",
       "Om Puri                 8\n",
       "Name: name, dtype: int64"
      ]
     },
     "execution_count": 77,
     "metadata": {},
     "output_type": "execute_result"
    }
   ],
   "source": [
    "net_actor_crime_f"
   ]
  },
  {
   "cell_type": "code",
   "execution_count": 130,
   "id": "660f4fe5",
   "metadata": {},
   "outputs": [
    {
     "data": {
      "image/png": "[encoded data removed]",
      "text/plain": [
       "<Figure size 720x360 with 1 Axes>"
      ]
     },
     "metadata": {
      "needs_background": "light"
     },
     "output_type": "display_data"
    }
   ],
   "source": [
    "x = ['Om Puri ','Akshay Kumar','Nawazuddin Siddiqui','Kareena Kapoor Khan','Ajay Devgn']\n",
    "y = [8,9,9,9,11]\n",
    "\n",
    "barh = plt.barh(x,y,color=['#FF0000','#CC0000','#AA0000','#880000','#660000'])\n",
    "plt.ylim()\n",
    "plt.rcParams['figure.figsize'] = [10, 5]\n",
    "plt.title('netflix_crime_actor')\n",
    "\n",
    "plt.show()"
   ]
  },
  {
   "cell_type": "code",
   "execution_count": 80,
   "id": "a3ce019b",
   "metadata": {},
   "outputs": [
    {
     "data": {
      "text/plain": [
       "Takahiro Sakurai    14\n",
       "Junichi Suwabe      12\n",
       "Yuki Kaji           12\n",
       "Kenjiro Tsuda       12\n",
       "Mamoru Miyano       11\n",
       "Name: name, dtype: int64"
      ]
     },
     "execution_count": 80,
     "metadata": {},
     "output_type": "execute_result"
    }
   ],
   "source": [
    "net_a_scifi=netflix_a[netflix_a['genres'].str.contains('scifi', na = False)]\n",
    "net_actor_scifi = net_a_scifi['name']\n",
    "net_actor_scifi_f = net_actor_scifi.value_counts(dropna = False, ascending = False).head()\n",
    "net_actor_scifi_f"
   ]
  },
  {
   "cell_type": "code",
   "execution_count": 131,
   "id": "95769e88",
   "metadata": {},
   "outputs": [
    {
     "data": {
      "image/png": "[encoded data removed]",
      "text/plain": [
       "<Figure size 720x360 with 1 Axes>"
      ]
     },
     "metadata": {
      "needs_background": "light"
     },
     "output_type": "display_data"
    }
   ],
   "source": [
    "x = ['Mamoru Miyano ','Kenjiro Tsuda','Yuki Kaji','Junichi Suwabe','Takahiro Sakurai']\n",
    "y = [11,12,12,12,14]\n",
    "\n",
    "barh = plt.barh(x,y,color=['#FF0000','#CC0000','#AA0000','#880000','#660000'])\n",
    "plt.ylim()\n",
    "plt.rcParams['figure.figsize'] = [10, 5]\n",
    "plt.title('netflix_scifi_actor')\n",
    "\n",
    "plt.show()"
   ]
  },
  {
   "cell_type": "code",
   "execution_count": 84,
   "id": "4def167a",
   "metadata": {},
   "outputs": [
    {
     "data": {
      "text/plain": [
       "Nawazuddin Siddiqui    10\n",
       "Boman Irani             9\n",
       "John Abraham            9\n",
       "Dean Norris             8\n",
       "Naseeruddin Shah        8\n",
       "Name: name, dtype: int64"
      ]
     },
     "execution_count": 84,
     "metadata": {},
     "output_type": "execute_result"
    }
   ],
   "source": [
    "net_a_thriller=netflix_a[netflix_a['genres'].str.contains('thriller', na = False)]\n",
    "net_actor_thriller = net_a_thriller['name']\n",
    "net_actor_thriller_f = net_actor_thriller.value_counts(dropna = False, ascending = False).head()\n",
    "net_actor_thriller_f"
   ]
  },
  {
   "cell_type": "code",
   "execution_count": 132,
   "id": "7d8c4ce9",
   "metadata": {},
   "outputs": [
    {
     "data": {
      "image/png": "[encoded data removed]",
      "text/plain": [
       "<Figure size 720x360 with 1 Axes>"
      ]
     },
     "metadata": {
      "needs_background": "light"
     },
     "output_type": "display_data"
    }
   ],
   "source": [
    "x = ['Naseeruddin Shah','Dean Norris','John Abraham','Boman Irani','Nawazuddin Siddiqui']\n",
    "y = [8,8,9,9,10]\n",
    "\n",
    "barh = plt.barh(x,y,color=['#FF0000','#CC0000','#AA0000','#880000','#660000'])\n",
    "plt.ylim()\n",
    "plt.rcParams['figure.figsize'] = [10, 5]\n",
    "plt.title('netflix_thriller_actor')\n",
    "\n",
    "plt.show()"
   ]
  },
  {
   "cell_type": "code",
   "execution_count": 94,
   "id": "4d9209cd",
   "metadata": {},
   "outputs": [
    {
     "data": {
      "text/plain": [
       "Nada Abou Farhat     5\n",
       "Shuuichi Ikeda       4\n",
       "Yoshiyuki Tomino     3\n",
       "Donald Sutherland    3\n",
       "Matthew Goode        3\n",
       "Name: name, dtype: int64"
      ]
     },
     "execution_count": 94,
     "metadata": {},
     "output_type": "execute_result"
    }
   ],
   "source": [
    "net_a_war=netflix_a[netflix_a['genres'].str.contains('war', na = False)]\n",
    "net_actor_war = net_a_war['name']\n",
    "net_actor_war_f = net_actor_war.value_counts(dropna = False, ascending = False).head()\n",
    "net_actor_war_f"
   ]
  },
  {
   "cell_type": "code",
   "execution_count": 133,
   "id": "1381666a",
   "metadata": {},
   "outputs": [
    {
     "data": {
      "image/png": "[encoded data removed]",
      "text/plain": [
       "<Figure size 720x360 with 1 Axes>"
      ]
     },
     "metadata": {
      "needs_background": "light"
     },
     "output_type": "display_data"
    }
   ],
   "source": [
    "x = ['Matthew Goode','Donald Sutherland','Yoshiyuki Tomino','Shuuichi Ikeda','Nada Abou Farhat']\n",
    "y = [3,3,3,4,5]\n",
    "\n",
    "barh = plt.barh(x,y,color=['#FF0000','#CC0000','#AA0000','#880000','#660000'])\n",
    "plt.ylim()\n",
    "plt.rcParams['figure.figsize'] = [10, 5]\n",
    "plt.title('netflix_war_actor')\n",
    "\n",
    "plt.show()"
   ]
  },
  {
   "cell_type": "code",
   "execution_count": 96,
   "id": "5d97c3ff",
   "metadata": {},
   "outputs": [
    {
     "data": {
      "text/plain": [
       "Frank Welker     8\n",
       "Rani Mukerji     7\n",
       "Tara Strong      7\n",
       "Kath Soucie      7\n",
       "Noriaki Yuasa    6\n",
       "Name: name, dtype: int64"
      ]
     },
     "execution_count": 96,
     "metadata": {},
     "output_type": "execute_result"
    }
   ],
   "source": [
    "ama_a_family=amazon_a[amazon_a['genres'].str.contains('family', na = False)]\n",
    "ama_actor_family = ama_a_family['name']\n",
    "ama_actor_family_f = ama_actor_family.value_counts(dropna = False, ascending = False).head()\n",
    "ama_actor_family_f"
   ]
  },
  {
   "cell_type": "code",
   "execution_count": 151,
   "id": "e47100e1",
   "metadata": {},
   "outputs": [
    {
     "data": {
      "image/png": "[encoded data removed]",
      "text/plain": [
       "<Figure size 720x360 with 1 Axes>"
      ]
     },
     "metadata": {
      "needs_background": "light"
     },
     "output_type": "display_data"
    }
   ],
   "source": [
    "x = ['Noriaki Yuasa','Kath Soucie','Tara Strong','Rani Mukerji','Frank Welker']\n",
    "y = [6,7,7,7,8]\n",
    "\n",
    "barh = plt.barh(x,y,color=['#99FF99','#00FF00','#00CC00','#009900','#006600'])\n",
    "plt.ylim()\n",
    "plt.rcParams['figure.figsize'] = [10, 5]\n",
    "plt.title('amazon_family_actor')\n",
    "\n",
    "plt.show()"
   ]
  },
  {
   "cell_type": "code",
   "execution_count": 98,
   "id": "2a73c2ff",
   "metadata": {},
   "outputs": [
    {
     "data": {
      "text/plain": [
       "Frank Capra         5\n",
       "Nigel De Brulier    4\n",
       "Charlton Heston     4\n",
       "Harry Andrews       4\n",
       "David Bamber        4\n",
       "Name: name, dtype: int64"
      ]
     },
     "execution_count": 98,
     "metadata": {},
     "output_type": "execute_result"
    }
   ],
   "source": [
    "ama_a_history=amazon_a[amazon_a['genres'].str.contains('history', na = False)]\n",
    "ama_actor_history = ama_a_history['name']\n",
    "ama_actor_history_f = ama_actor_history.value_counts(dropna = False, ascending = False).head()\n",
    "ama_actor_history_f"
   ]
  },
  {
   "cell_type": "code",
   "execution_count": 152,
   "id": "4a9723b3",
   "metadata": {},
   "outputs": [
    {
     "data": {
      "image/png": "[encoded data removed]",
      "text/plain": [
       "<Figure size 720x360 with 1 Axes>"
      ]
     },
     "metadata": {
      "needs_background": "light"
     },
     "output_type": "display_data"
    }
   ],
   "source": [
    "x = ['David Bamber','Harry Andrews','Charlton Heston','Nigel De Brulier','Frank Capra']\n",
    "y = [4,4,4,4,5]\n",
    "\n",
    "barh = plt.barh(x,y,color=['#99FF99','#00FF00','#00CC00','#009900','#006600'])\n",
    "plt.ylim()\n",
    "plt.rcParams['figure.figsize'] = [10, 5]\n",
    "plt.title('amazon_history_actor')\n",
    "\n",
    "plt.show()"
   ]
  },
  {
   "cell_type": "code",
   "execution_count": 100,
   "id": "9038ea28",
   "metadata": {},
   "outputs": [
    {
     "data": {
      "text/plain": [
       "Roy Rogers              45\n",
       "Joseph Kane             40\n",
       "George 'Gabby' Hayes    40\n",
       "Gene Autry              39\n",
       "Charles King            34\n",
       "Name: name, dtype: int64"
      ]
     },
     "execution_count": 100,
     "metadata": {},
     "output_type": "execute_result"
    }
   ],
   "source": [
    "ama_a_western=amazon_a[amazon_a['genres'].str.contains('western', na = False)]\n",
    "ama_actor_western = ama_a_western['name']\n",
    "ama_actor_western_f = ama_actor_western.value_counts(dropna = False, ascending = False).head()\n",
    "ama_actor_western_f"
   ]
  },
  {
   "cell_type": "code",
   "execution_count": 153,
   "id": "4264fd33",
   "metadata": {},
   "outputs": [
    {
     "data": {
      "image/png": "[encoded data removed]",
      "text/plain": [
       "<Figure size 720x360 with 1 Axes>"
      ]
     },
     "metadata": {
      "needs_background": "light"
     },
     "output_type": "display_data"
    }
   ],
   "source": [
    "x = ['Charles King','Gene Autry','George Hayes','Joseph Kane','Roy Rogers']\n",
    "y = [34,39,40,40,45]\n",
    "\n",
    "barh = plt.barh(x,y,color=['#99FF99','#00FF00','#00CC00','#009900','#006600'])\n",
    "plt.ylim()\n",
    "plt.rcParams['figure.figsize'] = [10, 5]\n",
    "plt.title('amazon_western_actor')\n",
    "\n",
    "plt.show()"
   ]
  },
  {
   "cell_type": "code",
   "execution_count": 104,
   "id": "b7da463c",
   "metadata": {},
   "outputs": [
    {
     "data": {
      "text/plain": [
       "Jay Chapman     34\n",
       "Bess Flowers    29\n",
       "Rajendran       22\n",
       "Joseph Kane     18\n",
       "Roy Rogers      17\n",
       "Name: name, dtype: int64"
      ]
     },
     "execution_count": 104,
     "metadata": {},
     "output_type": "execute_result"
    }
   ],
   "source": [
    "ama_a_comedy=amazon_a[amazon_a['genres'].str.contains('comedy', na = False)]\n",
    "ama_actor_comedy = ama_a_comedy['name']\n",
    "ama_actor_comedy_f = ama_actor_comedy.value_counts(dropna = False, ascending = False).head()\n",
    "ama_actor_comedy_f"
   ]
  },
  {
   "cell_type": "code",
   "execution_count": 154,
   "id": "b35aeea9",
   "metadata": {},
   "outputs": [
    {
     "data": {
      "image/png": "[encoded data removed]",
      "text/plain": [
       "<Figure size 720x360 with 1 Axes>"
      ]
     },
     "metadata": {
      "needs_background": "light"
     },
     "output_type": "display_data"
    }
   ],
   "source": [
    "x = ['Roy Rogers','Joseph Kane','Rajendran','Bess Flowers','Jay Chapman']\n",
    "y = [17,18,22,29,34]\n",
    "\n",
    "barh = plt.barh(x,y,color=['#99FF99','#00FF00','#00CC00','#009900','#006600'])\n",
    "plt.ylim()\n",
    "plt.rcParams['figure.figsize'] = [10, 5]\n",
    "plt.title('amazon_comedy_actor')\n",
    "\n",
    "plt.show()"
   ]
  },
  {
   "cell_type": "code",
   "execution_count": 106,
   "id": "7478f977",
   "metadata": {},
   "outputs": [
    {
     "data": {
      "text/plain": [
       "Nassar              27\n",
       "Prakash Raj         24\n",
       "Bess Flowers        22\n",
       "Rani Mukerji        22\n",
       "Amitabh Bachchan    21\n",
       "Name: name, dtype: int64"
      ]
     },
     "execution_count": 106,
     "metadata": {},
     "output_type": "execute_result"
    }
   ],
   "source": [
    "ama_a_drama=amazon_a[amazon_a['genres'].str.contains('drama', na = False)]\n",
    "ama_actor_drama = ama_a_drama['name']\n",
    "ama_actor_drama_f = ama_actor_drama.value_counts(dropna = False, ascending = False).head()\n",
    "ama_actor_drama_f"
   ]
  },
  {
   "cell_type": "code",
   "execution_count": 155,
   "id": "1716e343",
   "metadata": {},
   "outputs": [
    {
     "data": {
      "image/png": "[encoded data removed]",
      "text/plain": [
       "<Figure size 720x360 with 1 Axes>"
      ]
     },
     "metadata": {
      "needs_background": "light"
     },
     "output_type": "display_data"
    }
   ],
   "source": [
    "x = ['Amitabh Bachchan','Rani Mukerji','Bess Flowers','Prakash Raj','Nassar']\n",
    "y = [21,22,22,24,27]\n",
    "\n",
    "barh = plt.barh(x,y,color=['#99FF99','#00FF00','#00CC00','#009900','#006600'])\n",
    "plt.ylim()\n",
    "plt.rcParams['figure.figsize'] = [10, 5]\n",
    "plt.title('amazon_drama_actor')\n",
    "\n",
    "plt.show()"
   ]
  },
  {
   "cell_type": "code",
   "execution_count": 108,
   "id": "9476b073",
   "metadata": {},
   "outputs": [
    {
     "data": {
      "text/plain": [
       "Clarence Muse    3\n",
       "Leo Gorcey       3\n",
       "Bobby Jordan     3\n",
       "Larry McGrath    3\n",
       "Buck Henry       2\n",
       "Name: name, dtype: int64"
      ]
     },
     "execution_count": 108,
     "metadata": {},
     "output_type": "execute_result"
    }
   ],
   "source": [
    "par_a_sport=paramount_a[paramount_a['genres'].str.contains('sport', na = False)]\n",
    "par_actor_sport = par_a_sport['name']\n",
    "par_actor_sport_f = par_actor_sport.value_counts(dropna = False, ascending = False).head()\n",
    "par_actor_sport_f"
   ]
  },
  {
   "cell_type": "code",
   "execution_count": 141,
   "id": "586592a5",
   "metadata": {},
   "outputs": [
    {
     "data": {
      "image/png": "[encoded data removed]",
      "text/plain": [
       "<Figure size 720x360 with 1 Axes>"
      ]
     },
     "metadata": {
      "needs_background": "light"
     },
     "output_type": "display_data"
    }
   ],
   "source": [
    "x = ['Buck Henry','Larry McGrath','Bobby Jordan','Leo Gorcey','Clarence Muse']\n",
    "y = [2,3,3,3,3]\n",
    "\n",
    "barh = plt.barh(x,y,color=['#CCCCFF','#9999FF','#6666FF','#3333FF','#0000FF'])\n",
    "plt.ylim()\n",
    "plt.rcParams['figure.figsize'] = [10, 5]\n",
    "plt.title('paramount_sport_actor')\n",
    "\n",
    "plt.show()"
   ]
  },
  {
   "cell_type": "code",
   "execution_count": 111,
   "id": "ca7ab3bc",
   "metadata": {},
   "outputs": [
    {
     "data": {
      "text/plain": [
       "RuPaul             4\n",
       "Michelle Visage    3\n",
       "Aaron Chalmers     3\n",
       "Marnie Simpson     3\n",
       "Paul DelVecchio    3\n",
       "Name: name, dtype: int64"
      ]
     },
     "execution_count": 111,
     "metadata": {},
     "output_type": "execute_result"
    }
   ],
   "source": [
    "par_a_reality=paramount_a[paramount_a['genres'].str.contains('reality', na = False)]\n",
    "par_actor_reality = par_a_reality['name']\n",
    "par_actor_reality_f = par_actor_reality.value_counts(dropna = False, ascending = False).head()\n",
    "par_actor_reality_f"
   ]
  },
  {
   "cell_type": "code",
   "execution_count": 142,
   "id": "8eed53b2",
   "metadata": {},
   "outputs": [
    {
     "data": {
      "image/png": "[encoded data removed]",
      "text/plain": [
       "<Figure size 720x360 with 1 Axes>"
      ]
     },
     "metadata": {
      "needs_background": "light"
     },
     "output_type": "display_data"
    }
   ],
   "source": [
    "x = ['Paul DelVecchio','Marnie Simpson','Aaron Chalmers','Michelle Visage','RuPaul']\n",
    "y = [3,3,3,3,4]\n",
    "\n",
    "barh = plt.barh(x,y,color=['#CCCCFF','#9999FF','#6666FF','#3333FF','#0000FF'])\n",
    "plt.ylim()\n",
    "plt.rcParams['figure.figsize'] = [10, 5]\n",
    "plt.title('paramount_reality_actor')\n",
    "\n",
    "plt.show()"
   ]
  },
  {
   "cell_type": "code",
   "execution_count": 113,
   "id": "13fe9282",
   "metadata": {},
   "outputs": [
    {
     "data": {
      "text/plain": [
       "Bela Lugosi          12\n",
       "Roger Corman          9\n",
       "Vincent Price         8\n",
       "Dick Miller           6\n",
       "Katie Featherston     5\n",
       "Name: name, dtype: int64"
      ]
     },
     "execution_count": 113,
     "metadata": {},
     "output_type": "execute_result"
    }
   ],
   "source": [
    "par_a_horror=paramount_a[paramount_a['genres'].str.contains('horror', na = False)]\n",
    "par_actor_horror = par_a_horror['name']\n",
    "par_actor_horror_f = par_actor_horror.value_counts(dropna = False, ascending = False).head()\n",
    "par_actor_horror_f"
   ]
  },
  {
   "cell_type": "code",
   "execution_count": 143,
   "id": "e88733d6",
   "metadata": {},
   "outputs": [
    {
     "data": {
      "image/png": "[encoded data removed]",
      "text/plain": [
       "<Figure size 720x360 with 1 Axes>"
      ]
     },
     "metadata": {
      "needs_background": "light"
     },
     "output_type": "display_data"
    }
   ],
   "source": [
    "x = ['Katie Featherston','Dick Miller','Vincent Price','Roger Corman','Bela Lugosi']\n",
    "y = [5,6,8,9,12]\n",
    "\n",
    "barh = plt.barh(x,y,color=['#CCCCFF','#9999FF','#6666FF','#3333FF','#0000FF'])\n",
    "plt.ylim()\n",
    "plt.rcParams['figure.figsize'] = [10, 5]\n",
    "plt.title('paramount_horror_actor')\n",
    "\n",
    "plt.show()"
   ]
  },
  {
   "cell_type": "code",
   "execution_count": 115,
   "id": "0619376c",
   "metadata": {},
   "outputs": [
    {
     "data": {
      "text/plain": [
       "Jeff Tremaine    12\n",
       "Ryan Polito       8\n",
       "Frank Capra       7\n",
       "Lance Bangs       7\n",
       "Steve-O           7\n",
       "Name: name, dtype: int64"
      ]
     },
     "execution_count": 115,
     "metadata": {},
     "output_type": "execute_result"
    }
   ],
   "source": [
    "par_a_documentation=paramount_a[paramount_a['genres'].str.contains('documentation', na = False)]\n",
    "par_actor_documentation = par_a_documentation['name']\n",
    "par_actor_documentation_f = par_actor_documentation.value_counts(dropna = False, ascending = False).head()\n",
    "par_actor_documentation_f"
   ]
  },
  {
   "cell_type": "code",
   "execution_count": 144,
   "id": "dad1dbde",
   "metadata": {},
   "outputs": [
    {
     "data": {
      "image/png": "[encoded data removed]",
      "text/plain": [
       "<Figure size 720x360 with 1 Axes>"
      ]
     },
     "metadata": {
      "needs_background": "light"
     },
     "output_type": "display_data"
    }
   ],
   "source": [
    "x = ['Steve-O','Lance Bangs','Frank Capra','Ryan Polito','Jeff Tremaine']\n",
    "y = [7,7,7,8,12]\n",
    "\n",
    "barh = plt.barh(x,y,color=['#CCCCFF','#9999FF','#6666FF','#3333FF','#0000FF'])\n",
    "plt.ylim()\n",
    "plt.rcParams['figure.figsize'] = [10, 5]\n",
    "plt.title('paramount_documentation_actor')\n",
    "\n",
    "plt.show()"
   ]
  },
  {
   "cell_type": "code",
   "execution_count": 117,
   "id": "27a3ae4a",
   "metadata": {},
   "outputs": [
    {
     "data": {
      "text/plain": [
       "Leonard Nimoy       12\n",
       "William Shatner     10\n",
       "Nichelle Nichols     9\n",
       "James Doohan         9\n",
       "Michael Dorn         8\n",
       "Name: name, dtype: int64"
      ]
     },
     "execution_count": 117,
     "metadata": {},
     "output_type": "execute_result"
    }
   ],
   "source": [
    "par_a_scifi=paramount_a[paramount_a['genres'].str.contains('scifi', na = False)]\n",
    "par_actor_scifi = par_a_scifi['name']\n",
    "par_actor_scifi_f = par_actor_scifi.value_counts(dropna = False, ascending = False).head()\n",
    "par_actor_scifi_f"
   ]
  },
  {
   "cell_type": "code",
   "execution_count": 145,
   "id": "8f557d41",
   "metadata": {},
   "outputs": [
    {
     "data": {
      "image/png": "[encoded data removed]",
      "text/plain": [
       "<Figure size 720x360 with 1 Axes>"
      ]
     },
     "metadata": {
      "needs_background": "light"
     },
     "output_type": "display_data"
    }
   ],
   "source": [
    "x = ['Michael Dorn','James Doohan','Nichelle Nichols','William Shatner','Leonard Nimoy']\n",
    "y = [8,9,9,10,12]\n",
    "\n",
    "barh = plt.barh(x,y,color=['#CCCCFF','#9999FF','#6666FF','#3333FF','#0000FF'])\n",
    "plt.ylim()\n",
    "plt.rcParams['figure.figsize'] = [10, 5]\n",
    "plt.title('paramount_scifi_actor')\n",
    "\n",
    "plt.show()"
   ]
  },
  {
   "cell_type": "code",
   "execution_count": 119,
   "id": "b968010e",
   "metadata": {},
   "outputs": [
    {
     "data": {
      "text/plain": [
       "Jim Cummings     53\n",
       "Clarence Nash    40\n",
       "Pinto Colvig     39\n",
       "Frank Welker     35\n",
       "Bill Farmer      33\n",
       "Name: name, dtype: int64"
      ]
     },
     "execution_count": 119,
     "metadata": {},
     "output_type": "execute_result"
    }
   ],
   "source": [
    "dis_a_animation=disney_a[disney_a['genres'].str.contains('animation', na = False)]\n",
    "dis_actor_animation = dis_a_animation['name']\n",
    "dis_actor_animation_f = dis_actor_animation.value_counts(dropna = False, ascending = False).head()\n",
    "dis_actor_animation_f\n"
   ]
  },
  {
   "cell_type": "code",
   "execution_count": 146,
   "id": "e12f4c31",
   "metadata": {},
   "outputs": [
    {
     "data": {
      "image/png": "[encoded data removed]",
      "text/plain": [
       "<Figure size 720x360 with 1 Axes>"
      ]
     },
     "metadata": {
      "needs_background": "light"
     },
     "output_type": "display_data"
    }
   ],
   "source": [
    "x = ['Bill Farmer','Frank Welker','Pinto Colvig','Clarence Nash','Jim Cummings']\n",
    "y = [33,35,39,40,53]\n",
    "\n",
    "barh = plt.barh(x,y,color=['#FFCCFF','#FF99FF','#FF66FF','#FF33FF','#FF00FF'])\n",
    "plt.ylim()\n",
    "plt.rcParams['figure.figsize'] = [10, 5]\n",
    "plt.title('disney_animation_actor')\n",
    "\n",
    "plt.show()"
   ]
  },
  {
   "cell_type": "code",
   "execution_count": 121,
   "id": "a600d7a5",
   "metadata": {},
   "outputs": [
    {
     "data": {
      "text/plain": [
       "Kenny Ortega     7\n",
       "Kevin Jonas      5\n",
       "Lucas Grabeel    5\n",
       "Joe Jonas        5\n",
       "Miley Cyrus      5\n",
       "Name: name, dtype: int64"
      ]
     },
     "execution_count": 121,
     "metadata": {},
     "output_type": "execute_result"
    }
   ],
   "source": [
    "dis_a_music=disney_a[disney_a['genres'].str.contains('music', na = False)]\n",
    "dis_actor_music = dis_a_music['name']\n",
    "dis_actor_music_f = dis_actor_music.value_counts(dropna = False, ascending = False).head()\n",
    "dis_actor_music_f"
   ]
  },
  {
   "cell_type": "code",
   "execution_count": 147,
   "id": "95788795",
   "metadata": {},
   "outputs": [
    {
     "data": {
      "image/png": "[encoded data removed]",
      "text/plain": [
       "<Figure size 720x360 with 1 Axes>"
      ]
     },
     "metadata": {
      "needs_background": "light"
     },
     "output_type": "display_data"
    }
   ],
   "source": [
    "x = ['Miley Cyrus','Joe Jonas','Lucas Grabeel','Kevin Jonas','Kenny Ortega']\n",
    "y = [5,5,5,5,7]\n",
    "\n",
    "barh = plt.barh(x,y,color=['#FFCCFF','#FF99FF','#FF66FF','#FF33FF','#FF00FF'])\n",
    "plt.ylim()\n",
    "plt.rcParams['figure.figsize'] = [10, 5]\n",
    "plt.title('disney_music_actor')\n",
    "\n",
    "plt.show()"
   ]
  },
  {
   "cell_type": "code",
   "execution_count": 123,
   "id": "519baff3",
   "metadata": {},
   "outputs": [
    {
     "data": {
      "text/plain": [
       "Frank Welker      14\n",
       "Jim Cummings      12\n",
       "Sherry Lynn       10\n",
       "Mickie McGowan    10\n",
       "Paul Hoen          8\n",
       "Name: name, dtype: int64"
      ]
     },
     "execution_count": 123,
     "metadata": {},
     "output_type": "execute_result"
    }
   ],
   "source": [
    "dis_a_romance=disney_a[disney_a['genres'].str.contains('romance', na = False)]\n",
    "dis_actor_romance = dis_a_romance['name']\n",
    "dis_actor_romance_f = dis_actor_romance.value_counts(dropna = False, ascending = False).head()\n",
    "dis_actor_romance_f"
   ]
  },
  {
   "cell_type": "code",
   "execution_count": 148,
   "id": "98908e3e",
   "metadata": {},
   "outputs": [
    {
     "data": {
      "image/png": "[encoded data removed]",
      "text/plain": [
       "<Figure size 720x360 with 1 Axes>"
      ]
     },
     "metadata": {
      "needs_background": "light"
     },
     "output_type": "display_data"
    }
   ],
   "source": [
    "x = ['Paul Hoen','Mickie McGowan','Sherry Lynn','Jim Cummings','Frank Welker']\n",
    "y = [8,10,10,12,14]\n",
    "\n",
    "barh = plt.barh(x,y,color=['#FFCCFF','#FF99FF','#FF66FF','#FF33FF','#FF00FF'])\n",
    "plt.ylim()\n",
    "plt.rcParams['figure.figsize'] = [10, 5]\n",
    "plt.title('disney_romance_actor')\n",
    "\n",
    "plt.show()"
   ]
  },
  {
   "cell_type": "code",
   "execution_count": 125,
   "id": "70fb93ec",
   "metadata": {},
   "outputs": [
    {
     "data": {
      "text/plain": [
       "Jim Cummings      23\n",
       "Sherry Lynn       22\n",
       "Mickie McGowan    21\n",
       "Bill Farmer       19\n",
       "Jack Angel        18\n",
       "Name: name, dtype: int64"
      ]
     },
     "execution_count": 125,
     "metadata": {},
     "output_type": "execute_result"
    }
   ],
   "source": [
    "dis_a_fantasy=disney_a[disney_a['genres'].str.contains('fantasy', na = False)]\n",
    "dis_actor_fantasy = dis_a_fantasy['name']\n",
    "dis_actor_fantasy_f = dis_actor_fantasy.value_counts(dropna = False, ascending = False).head()\n",
    "dis_actor_fantasy_f"
   ]
  },
  {
   "cell_type": "code",
   "execution_count": 149,
   "id": "7ceb8b9f",
   "metadata": {},
   "outputs": [
    {
     "data": {
      "image/png": "[encoded data removed]",
      "text/plain": [
       "<Figure size 720x360 with 1 Axes>"
      ]
     },
     "metadata": {
      "needs_background": "light"
     },
     "output_type": "display_data"
    }
   ],
   "source": [
    "x = ['Jack Angel','Bill Farmer','Mickie McGowan','Sherry Lynn','Jim Cummings']\n",
    "y = [18,19,21,22,23]\n",
    "\n",
    "barh = plt.barh(x,y,color=['#FFCCFF','#FF99FF','#FF66FF','#FF33FF','#FF00FF'])\n",
    "plt.ylim()\n",
    "plt.rcParams['figure.figsize'] = [10, 5]\n",
    "plt.title('disney_fantasy_actor')\n",
    "\n",
    "plt.show()"
   ]
  },
  {
   "cell_type": "code",
   "execution_count": 127,
   "id": "62bb00bb",
   "metadata": {},
   "outputs": [
    {
     "data": {
      "text/plain": [
       "Frank Welker         15\n",
       "Jim Cummings         11\n",
       "Mickie McGowan       10\n",
       "John Ratzenberger     9\n",
       "Sherry Lynn           9\n",
       "Name: name, dtype: int64"
      ]
     },
     "execution_count": 127,
     "metadata": {},
     "output_type": "execute_result"
    }
   ],
   "source": [
    "dis_a_drama=disney_a[disney_a['genres'].str.contains('drama', na = False)]\n",
    "dis_actor_drama = dis_a_drama['name']\n",
    "dis_actor_drama_f = dis_actor_drama.value_counts(dropna = False, ascending = False).head()\n",
    "dis_actor_drama_f"
   ]
  },
  {
   "cell_type": "code",
   "execution_count": 150,
   "id": "b19c661a",
   "metadata": {},
   "outputs": [
    {
     "data": {
      "image/png": "[encoded data removed]",
      "text/plain": [
       "<Figure size 720x360 with 1 Axes>"
      ]
     },
     "metadata": {
      "needs_background": "light"
     },
     "output_type": "display_data"
    }
   ],
   "source": [
    "x = ['Sherry Lynn','John Ratzenberger','Mickie McGowan','Jim Cummings','Frank Welker']\n",
    "y = [9,9,10,11,15]\n",
    "\n",
    "barh = plt.barh(x,y,color=['#FFCCFF','#FF99FF','#FF66FF','#FF33FF','#FF00FF'])\n",
    "plt.ylim()\n",
    "plt.rcParams['figure.figsize'] = [10, 5]\n",
    "plt.title('disney_drama_actor')\n",
    "\n",
    "plt.show()"
   ]
  },
  {
   "cell_type": "code",
   "execution_count": null,
   "id": "1b71af79",
   "metadata": {},
   "outputs": [],
   "source": []
  }
 ],
 "metadata": {
  "kernelspec": {
   "display_name": "Python 3 (ipykernel)",
   "language": "python",
   "name": "python3"
  },
  "language_info": {
   "codemirror_mode": {
    "name": "ipython",
    "version": 3
   },
   "file_extension": ".py",
   "mimetype": "text/x-python",
   "name": "python",
   "nbconvert_exporter": "python",
   "pygments_lexer": "ipython3",
   "version": "3.9.7"
  }
 },
 "nbformat": 4,
 "nbformat_minor": 5
}
