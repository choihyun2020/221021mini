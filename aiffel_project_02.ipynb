{
 "cells": [
  {
   "cell_type": "markdown",
   "id": "55608b3f",
   "metadata": {},
   "source": [
    "# 1.손수 설계하는 선형회귀, 당뇨병 수치를 맞춰보자!\n",
    "\n"
   ]
  },
  {
   "cell_type": "markdown",
   "id": "59d7abb3",
   "metadata": {},
   "source": [
    "### (1)데이터 가져오기\n",
    "* sklearn.datasets의 load_diabetes에서 데이터를 가져와주세요.\n",
    "* diabetes의 data를 df_X에, target을 df_y에 저장해주세요."
   ]
  },
  {
   "cell_type": "code",
   "execution_count": 89,
   "id": "31adb017",
   "metadata": {},
   "outputs": [
    {
     "name": "stdout",
     "output_type": "stream",
     "text": [
      "['DESCR', 'data', 'data_filename', 'feature_names', 'frame', 'target', 'target_filename']\n"
     ]
    }
   ],
   "source": [
    "from sklearn.datasets import load_diabetes\n",
    "from sklearn.model_selection import train_test_split\n",
    "import pandas as pd\n",
    "import numpy as np\n",
    "import matplotlib.pyplot as plt\n",
    "\n",
    "diabets=load_diabetes()\n",
    "print(dir(diabets))"
   ]
  },
  {
   "cell_type": "code",
   "execution_count": 91,
   "id": "969c99b0",
   "metadata": {},
   "outputs": [],
   "source": [
    "df_x=pd.DataFrame(diabets.data, columns=diabets.feature_names)\n",
    "df_y=pd.DataFrame(diabets.target, columns=['target'])"
   ]
  },
  {
   "cell_type": "markdown",
   "id": "6d0a654f",
   "metadata": {},
   "source": [
    "### (2) 모델에 입력할 데이터 x 준비하기\n",
    "\n",
    "* df_X에 있는 값들을 numpy array로 변환해서 저장해주세요."
   ]
  },
  {
   "cell_type": "markdown",
   "id": "b8404113",
   "metadata": {},
   "source": [
    "### (3) 모델에 입력할 데이터 x 준비하기\n",
    "\n",
    "* df_y에 있는 값들을 numpy array로 변환해서 저장해주세요."
   ]
  },
  {
   "cell_type": "code",
   "execution_count": 92,
   "id": "2613507e",
   "metadata": {},
   "outputs": [],
   "source": [
    "X = df_x.values\n",
    "y = df_y['target'].values\n"
   ]
  },
  {
   "cell_type": "markdown",
   "id": "e1ddac81",
   "metadata": {},
   "source": [
    "### (4) train 데이터와 test 데이터로 분리하기\n",
    "\n",
    "* x와 y 데이터를 각각 train 데이터와 test 데이터로 분리해주세요."
   ]
  },
  {
   "cell_type": "code",
   "execution_count": 93,
   "id": "3aa78e86",
   "metadata": {},
   "outputs": [],
   "source": [
    "X_train, X_test, y_train, y_test = train_test_split(X, y, test_size=0.2, random_state=1)"
   ]
  },
  {
   "cell_type": "markdown",
   "id": "320c6c20",
   "metadata": {},
   "source": [
    "### (5) 모델 준비하기\n",
    "\n",
    "* 입력 데이터 개수에 맞는 가중치 w와 b를 준비해주세요.\n",
    "* 모델 함수를 구현해주세요."
   ]
  },
  {
   "cell_type": "code",
   "execution_count": 94,
   "id": "8578c840",
   "metadata": {},
   "outputs": [],
   "source": [
    "W = np.random.rand(10)\n",
    "b = np.random.rand()"
   ]
  },
  {
   "cell_type": "code",
   "execution_count": 95,
   "id": "03ea4884",
   "metadata": {},
   "outputs": [],
   "source": [
    "def model(X,W,b):\n",
    "    predictions = 0\n",
    "    for i in range(10):\n",
    "        predictions += X[:,i]*W[i]\n",
    "    predictions += b\n",
    "    return predictions"
   ]
  },
  {
   "cell_type": "markdown",
   "id": "2866ea79",
   "metadata": {},
   "source": [
    "### (6) 손실함수 loss 정의하기\n",
    "\n",
    "* 손실함수를 MSE 함수로 정의해주세요"
   ]
  },
  {
   "cell_type": "code",
   "execution_count": 96,
   "id": "06822dff",
   "metadata": {},
   "outputs": [],
   "source": [
    "def MSE(a,b):\n",
    "    mse = ((a-b)**2).mean()\n",
    "    return mse"
   ]
  },
  {
   "cell_type": "code",
   "execution_count": 97,
   "id": "77f6a219",
   "metadata": {},
   "outputs": [],
   "source": [
    "def loss(X,W,b,y):\n",
    "    predictions = model(X,W,b)\n",
    "    Loss = MSE(predictions,y)\n",
    "    return Loss"
   ]
  },
  {
   "cell_type": "markdown",
   "id": "ad1ee13c",
   "metadata": {},
   "source": [
    "### (7) 기울기를 구하는 gradient 함수 구현하기\n",
    "\n",
    "* 기울기를 계산하는 gradient 함수를 구현해주세요."
   ]
  },
  {
   "cell_type": "code",
   "execution_count": 98,
   "id": "22ff093e",
   "metadata": {},
   "outputs": [],
   "source": [
    "def gradient(X,W,b,y):\n",
    "    N = len(W)\n",
    "    y_pred = model(X,W,b)\n",
    "    \n",
    "    dW = 1/N * 2 * (X.T).dot(y_pred-y)\n",
    "    db = 2 * (y_pred-y).mean()\n",
    "    return dW, db"
   ]
  },
  {
   "cell_type": "markdown",
   "id": "f34872b6",
   "metadata": {},
   "source": [
    "### (8) 하이퍼 파라미터인  학습률 설정하기\n",
    "\n",
    "* 학습률, learning rate를 설정해주세요\n",
    "* 만약 학습이 잘 되지 않는다면 learning rate 값을 한번 여러 가지로 설정하며 실험해 보세요."
   ]
  },
  {
   "cell_type": "code",
   "execution_count": 99,
   "id": "551a93f8",
   "metadata": {},
   "outputs": [],
   "source": [
    "learning_rate = 0.001"
   ]
  },
  {
   "cell_type": "code",
   "execution_count": 100,
   "id": "188a4c21",
   "metadata": {},
   "outputs": [
    {
     "name": "stdout",
     "output_type": "stream",
     "text": [
      "Iteration 10 : Loss 27861.6311\n",
      "Iteration 20 : Loss 26961.4960\n",
      "Iteration 30 : Loss 26096.1132\n",
      "Iteration 40 : Loss 25264.1225\n",
      "Iteration 50 : Loss 24464.2173\n",
      "Iteration 60 : Loss 23695.1423\n",
      "Iteration 70 : Loss 22955.6912\n",
      "Iteration 80 : Loss 22244.7055\n",
      "Iteration 90 : Loss 21561.0718\n",
      "Iteration 100 : Loss 20903.7206\n",
      "Iteration 110 : Loss 20271.6244\n",
      "Iteration 120 : Loss 19663.7960\n",
      "Iteration 130 : Loss 19079.2869\n",
      "Iteration 140 : Loss 18517.1858\n",
      "Iteration 150 : Loss 17976.6173\n",
      "Iteration 160 : Loss 17456.7403\n",
      "Iteration 170 : Loss 16956.7466\n",
      "Iteration 180 : Loss 16475.8599\n",
      "Iteration 190 : Loss 16013.3343\n",
      "Iteration 200 : Loss 15568.4531\n",
      "Iteration 210 : Loss 15140.5277\n",
      "Iteration 220 : Loss 14728.8967\n",
      "Iteration 230 : Loss 14332.9246\n",
      "Iteration 240 : Loss 13952.0006\n",
      "Iteration 250 : Loss 13585.5381\n",
      "Iteration 260 : Loss 13232.9735\n",
      "Iteration 270 : Loss 12893.7651\n",
      "Iteration 280 : Loss 12567.3928\n",
      "Iteration 290 : Loss 12253.3566\n",
      "Iteration 300 : Loss 11951.1762\n",
      "Iteration 310 : Loss 11660.3901\n",
      "Iteration 320 : Loss 11380.5550\n",
      "Iteration 330 : Loss 11111.2450\n",
      "Iteration 340 : Loss 10852.0506\n",
      "Iteration 350 : Loss 10602.5788\n",
      "Iteration 360 : Loss 10362.4516\n",
      "Iteration 370 : Loss 10131.3061\n",
      "Iteration 380 : Loss 9908.7934\n",
      "Iteration 390 : Loss 9694.5786\n",
      "Iteration 400 : Loss 9488.3395\n",
      "Iteration 410 : Loss 9289.7669\n",
      "Iteration 420 : Loss 9098.5634\n",
      "Iteration 430 : Loss 8914.4435\n",
      "Iteration 440 : Loss 8737.1328\n",
      "Iteration 450 : Loss 8566.3675\n",
      "Iteration 460 : Loss 8401.8945\n",
      "Iteration 470 : Loss 8243.4701\n",
      "Iteration 480 : Loss 8090.8606\n",
      "Iteration 490 : Loss 7943.8412\n",
      "Iteration 500 : Loss 7802.1960\n",
      "Iteration 510 : Loss 7665.7174\n",
      "Iteration 520 : Loss 7534.2062\n",
      "Iteration 530 : Loss 7407.4707\n",
      "Iteration 540 : Loss 7285.3269\n",
      "Iteration 550 : Loss 7167.5979\n",
      "Iteration 560 : Loss 7054.1137\n",
      "Iteration 570 : Loss 6944.7111\n",
      "Iteration 580 : Loss 6839.2331\n",
      "Iteration 590 : Loss 6737.5289\n",
      "Iteration 600 : Loss 6639.4536\n",
      "Iteration 610 : Loss 6544.8679\n",
      "Iteration 620 : Loss 6453.6382\n",
      "Iteration 630 : Loss 6365.6357\n",
      "Iteration 640 : Loss 6280.7371\n",
      "Iteration 650 : Loss 6198.8234\n",
      "Iteration 660 : Loss 6119.7807\n",
      "Iteration 670 : Loss 6043.4993\n",
      "Iteration 680 : Loss 5969.8738\n",
      "Iteration 690 : Loss 5898.8029\n",
      "Iteration 700 : Loss 5830.1895\n",
      "Iteration 710 : Loss 5763.9399\n",
      "Iteration 720 : Loss 5699.9643\n",
      "Iteration 730 : Loss 5638.1764\n",
      "Iteration 740 : Loss 5578.4931\n",
      "Iteration 750 : Loss 5520.8346\n",
      "Iteration 760 : Loss 5465.1244\n",
      "Iteration 770 : Loss 5411.2887\n",
      "Iteration 780 : Loss 5359.2567\n",
      "Iteration 790 : Loss 5308.9604\n",
      "Iteration 800 : Loss 5260.3343\n",
      "Iteration 810 : Loss 5213.3157\n",
      "Iteration 820 : Loss 5167.8440\n",
      "Iteration 830 : Loss 5123.8612\n",
      "Iteration 840 : Loss 5081.3115\n",
      "Iteration 850 : Loss 5040.1411\n",
      "Iteration 860 : Loss 5000.2987\n",
      "Iteration 870 : Loss 4961.7345\n",
      "Iteration 880 : Loss 4924.4009\n",
      "Iteration 890 : Loss 4888.2521\n",
      "Iteration 900 : Loss 4853.2442\n",
      "Iteration 910 : Loss 4819.3347\n",
      "Iteration 920 : Loss 4786.4829\n",
      "Iteration 930 : Loss 4754.6499\n",
      "Iteration 940 : Loss 4723.7979\n",
      "Iteration 950 : Loss 4693.8908\n",
      "Iteration 960 : Loss 4664.8940\n",
      "Iteration 970 : Loss 4636.7738\n",
      "Iteration 980 : Loss 4609.4983\n",
      "Iteration 990 : Loss 4583.0366\n",
      "Iteration 1000 : Loss 4557.3589\n",
      "Iteration 1010 : Loss 4532.4368\n",
      "Iteration 1020 : Loss 4508.2427\n",
      "Iteration 1030 : Loss 4484.7503\n",
      "Iteration 1040 : Loss 4461.9342\n",
      "Iteration 1050 : Loss 4439.7699\n",
      "Iteration 1060 : Loss 4418.2342\n",
      "Iteration 1070 : Loss 4397.3042\n",
      "Iteration 1080 : Loss 4376.9584\n",
      "Iteration 1090 : Loss 4357.1760\n",
      "Iteration 1100 : Loss 4337.9367\n",
      "Iteration 1110 : Loss 4319.2213\n",
      "Iteration 1120 : Loss 4301.0113\n",
      "Iteration 1130 : Loss 4283.2887\n",
      "Iteration 1140 : Loss 4266.0365\n",
      "Iteration 1150 : Loss 4249.2381\n",
      "Iteration 1160 : Loss 4232.8775\n",
      "Iteration 1170 : Loss 4216.9396\n",
      "Iteration 1180 : Loss 4201.4096\n",
      "Iteration 1190 : Loss 4186.2733\n",
      "Iteration 1200 : Loss 4171.5171\n",
      "Iteration 1210 : Loss 4157.1280\n",
      "Iteration 1220 : Loss 4143.0934\n",
      "Iteration 1230 : Loss 4129.4010\n",
      "Iteration 1240 : Loss 4116.0393\n",
      "Iteration 1250 : Loss 4102.9971\n",
      "Iteration 1260 : Loss 4090.2634\n",
      "Iteration 1270 : Loss 4077.8280\n",
      "Iteration 1280 : Loss 4065.6808\n",
      "Iteration 1290 : Loss 4053.8122\n",
      "Iteration 1300 : Loss 4042.2129\n",
      "Iteration 1310 : Loss 4030.8740\n",
      "Iteration 1320 : Loss 4019.7869\n",
      "Iteration 1330 : Loss 4008.9434\n",
      "Iteration 1340 : Loss 3998.3354\n",
      "Iteration 1350 : Loss 3987.9553\n",
      "Iteration 1360 : Loss 3977.7958\n",
      "Iteration 1370 : Loss 3967.8497\n",
      "Iteration 1380 : Loss 3958.1102\n",
      "Iteration 1390 : Loss 3948.5707\n",
      "Iteration 1400 : Loss 3939.2248\n",
      "Iteration 1410 : Loss 3930.0664\n",
      "Iteration 1420 : Loss 3921.0897\n",
      "Iteration 1430 : Loss 3912.2890\n",
      "Iteration 1440 : Loss 3903.6588\n",
      "Iteration 1450 : Loss 3895.1938\n",
      "Iteration 1460 : Loss 3886.8891\n",
      "Iteration 1470 : Loss 3878.7395\n",
      "Iteration 1480 : Loss 3870.7406\n",
      "Iteration 1490 : Loss 3862.8877\n",
      "Iteration 1500 : Loss 3855.1765\n",
      "Iteration 1510 : Loss 3847.6027\n",
      "Iteration 1520 : Loss 3840.1622\n",
      "Iteration 1530 : Loss 3832.8513\n",
      "Iteration 1540 : Loss 3825.6660\n",
      "Iteration 1550 : Loss 3818.6027\n",
      "Iteration 1560 : Loss 3811.6580\n",
      "Iteration 1570 : Loss 3804.8284\n",
      "Iteration 1580 : Loss 3798.1106\n",
      "Iteration 1590 : Loss 3791.5016\n",
      "Iteration 1600 : Loss 3784.9982\n",
      "Iteration 1610 : Loss 3778.5976\n",
      "Iteration 1620 : Loss 3772.2968\n",
      "Iteration 1630 : Loss 3766.0932\n",
      "Iteration 1640 : Loss 3759.9842\n",
      "Iteration 1650 : Loss 3753.9671\n",
      "Iteration 1660 : Loss 3748.0395\n",
      "Iteration 1670 : Loss 3742.1991\n",
      "Iteration 1680 : Loss 3736.4435\n",
      "Iteration 1690 : Loss 3730.7706\n",
      "Iteration 1700 : Loss 3725.1782\n",
      "Iteration 1710 : Loss 3719.6642\n",
      "Iteration 1720 : Loss 3714.2266\n",
      "Iteration 1730 : Loss 3708.8636\n",
      "Iteration 1740 : Loss 3703.5732\n",
      "Iteration 1750 : Loss 3698.3536\n",
      "Iteration 1760 : Loss 3693.2031\n",
      "Iteration 1770 : Loss 3688.1201\n",
      "Iteration 1780 : Loss 3683.1029\n",
      "Iteration 1790 : Loss 3678.1499\n",
      "Iteration 1800 : Loss 3673.2596\n",
      "Iteration 1810 : Loss 3668.4305\n",
      "Iteration 1820 : Loss 3663.6612\n",
      "Iteration 1830 : Loss 3658.9503\n",
      "Iteration 1840 : Loss 3654.2966\n",
      "Iteration 1850 : Loss 3649.6986\n",
      "Iteration 1860 : Loss 3645.1552\n",
      "Iteration 1870 : Loss 3640.6651\n",
      "Iteration 1880 : Loss 3636.2272\n",
      "Iteration 1890 : Loss 3631.8403\n",
      "Iteration 1900 : Loss 3627.5033\n",
      "Iteration 1910 : Loss 3623.2152\n",
      "Iteration 1920 : Loss 3618.9749\n",
      "Iteration 1930 : Loss 3614.7815\n",
      "Iteration 1940 : Loss 3610.6339\n",
      "Iteration 1950 : Loss 3606.5312\n",
      "Iteration 1960 : Loss 3602.4725\n",
      "Iteration 1970 : Loss 3598.4570\n",
      "Iteration 1980 : Loss 3594.4837\n",
      "Iteration 1990 : Loss 3590.5518\n",
      "Iteration 2000 : Loss 3586.6605\n",
      "Iteration 2010 : Loss 3582.8091\n",
      "Iteration 2020 : Loss 3578.9968\n",
      "Iteration 2030 : Loss 3575.2227\n",
      "Iteration 2040 : Loss 3571.4863\n",
      "Iteration 2050 : Loss 3567.7868\n",
      "Iteration 2060 : Loss 3564.1235\n",
      "Iteration 2070 : Loss 3560.4958\n",
      "Iteration 2080 : Loss 3556.9031\n",
      "Iteration 2090 : Loss 3553.3446\n",
      "Iteration 2100 : Loss 3549.8198\n",
      "Iteration 2110 : Loss 3546.3282\n",
      "Iteration 2120 : Loss 3542.8691\n",
      "Iteration 2130 : Loss 3539.4419\n",
      "Iteration 2140 : Loss 3536.0462\n",
      "Iteration 2150 : Loss 3532.6814\n",
      "Iteration 2160 : Loss 3529.3470\n",
      "Iteration 2170 : Loss 3526.0425\n",
      "Iteration 2180 : Loss 3522.7674\n",
      "Iteration 2190 : Loss 3519.5212\n",
      "Iteration 2200 : Loss 3516.3035\n",
      "Iteration 2210 : Loss 3513.1138\n",
      "Iteration 2220 : Loss 3509.9516\n",
      "Iteration 2230 : Loss 3506.8166\n",
      "Iteration 2240 : Loss 3503.7084\n",
      "Iteration 2250 : Loss 3500.6264\n",
      "Iteration 2260 : Loss 3497.5703\n",
      "Iteration 2270 : Loss 3494.5398\n",
      "Iteration 2280 : Loss 3491.5344\n",
      "Iteration 2290 : Loss 3488.5538\n",
      "Iteration 2300 : Loss 3485.5976\n",
      "Iteration 2310 : Loss 3482.6655\n",
      "Iteration 2320 : Loss 3479.7571\n",
      "Iteration 2330 : Loss 3476.8720\n",
      "Iteration 2340 : Loss 3474.0100\n",
      "Iteration 2350 : Loss 3471.1708\n",
      "Iteration 2360 : Loss 3468.3539\n",
      "Iteration 2370 : Loss 3465.5591\n",
      "Iteration 2380 : Loss 3462.7862\n",
      "Iteration 2390 : Loss 3460.0347\n",
      "Iteration 2400 : Loss 3457.3044\n",
      "Iteration 2410 : Loss 3454.5951\n",
      "Iteration 2420 : Loss 3451.9065\n",
      "Iteration 2430 : Loss 3449.2382\n",
      "Iteration 2440 : Loss 3446.5900\n",
      "Iteration 2450 : Loss 3443.9618\n",
      "Iteration 2460 : Loss 3441.3531\n",
      "Iteration 2470 : Loss 3438.7638\n",
      "Iteration 2480 : Loss 3436.1936\n",
      "Iteration 2490 : Loss 3433.6422\n",
      "Iteration 2500 : Loss 3431.1095\n",
      "Iteration 2510 : Loss 3428.5953\n",
      "Iteration 2520 : Loss 3426.0992\n",
      "Iteration 2530 : Loss 3423.6211\n",
      "Iteration 2540 : Loss 3421.1607\n",
      "Iteration 2550 : Loss 3418.7179\n",
      "Iteration 2560 : Loss 3416.2924\n",
      "Iteration 2570 : Loss 3413.8840\n",
      "Iteration 2580 : Loss 3411.4925\n",
      "Iteration 2590 : Loss 3409.1178\n",
      "Iteration 2600 : Loss 3406.7596\n",
      "Iteration 2610 : Loss 3404.4177\n",
      "Iteration 2620 : Loss 3402.0920\n",
      "Iteration 2630 : Loss 3399.7823\n",
      "Iteration 2640 : Loss 3397.4884\n",
      "Iteration 2650 : Loss 3395.2100\n",
      "Iteration 2660 : Loss 3392.9471\n",
      "Iteration 2670 : Loss 3390.6995\n",
      "Iteration 2680 : Loss 3388.4670\n",
      "Iteration 2690 : Loss 3386.2494\n",
      "Iteration 2700 : Loss 3384.0466\n",
      "Iteration 2710 : Loss 3381.8584\n",
      "Iteration 2720 : Loss 3379.6846\n",
      "Iteration 2730 : Loss 3377.5252\n",
      "Iteration 2740 : Loss 3375.3799\n",
      "Iteration 2750 : Loss 3373.2486\n",
      "Iteration 2760 : Loss 3371.1312\n",
      "Iteration 2770 : Loss 3369.0274\n",
      "Iteration 2780 : Loss 3366.9372\n",
      "Iteration 2790 : Loss 3364.8605\n",
      "Iteration 2800 : Loss 3362.7970\n",
      "Iteration 2810 : Loss 3360.7467\n",
      "Iteration 2820 : Loss 3358.7094\n",
      "Iteration 2830 : Loss 3356.6850\n",
      "Iteration 2840 : Loss 3354.6733\n",
      "Iteration 2850 : Loss 3352.6742\n",
      "Iteration 2860 : Loss 3350.6877\n",
      "Iteration 2870 : Loss 3348.7135\n",
      "Iteration 2880 : Loss 3346.7516\n",
      "Iteration 2890 : Loss 3344.8018\n",
      "Iteration 2900 : Loss 3342.8640\n",
      "Iteration 2910 : Loss 3340.9381\n",
      "Iteration 2920 : Loss 3339.0240\n",
      "Iteration 2930 : Loss 3337.1215\n",
      "Iteration 2940 : Loss 3335.2307\n",
      "Iteration 2950 : Loss 3333.3512\n",
      "Iteration 2960 : Loss 3331.4831\n",
      "Iteration 2970 : Loss 3329.6262\n",
      "Iteration 2980 : Loss 3327.7804\n",
      "Iteration 2990 : Loss 3325.9456\n",
      "Iteration 3000 : Loss 3324.1217\n"
     ]
    }
   ],
   "source": [
    "losses = []\n",
    "\n",
    "for i in range(1, 3001):\n",
    "    dW, db = gradient(X_train, W, b, y_train)\n",
    "    W -= learning_rate*dW\n",
    "    b -= learning_rate*db\n",
    "    L = loss(X, W, b, y)\n",
    "    losses.append(L)\n",
    "    \n",
    "    if i % 10 == 0:\n",
    "        print('Iteration %d : Loss %0.4f' % (i, L))"
   ]
  },
  {
   "cell_type": "markdown",
   "id": "d2853133",
   "metadata": {},
   "source": [
    "### (9) 모델 학습하기\n",
    "\n",
    "* 정의된 손실함수와 기울기 함수로 모델을 학습해주세요.\n",
    "* loss 값이 충분히 떨어질 때까지 학습을 진행해주세요.\n",
    "* 입력하는 데이터인 x 에 들어가는 특성 컬럼들을 몇 개 빼도 괜찮습니다. 다양한 데이터로 실험해 보세요."
   ]
  },
  {
   "cell_type": "code",
   "execution_count": 101,
   "id": "6f238d29",
   "metadata": {},
   "outputs": [
    {
     "data": {
      "text/plain": [
       "3271.0572048435033"
      ]
     },
     "execution_count": 101,
     "metadata": {},
     "output_type": "execute_result"
    }
   ],
   "source": [
    "predictions = model(X_test, W, b)\n",
    "mse = loss(X_test, W, b, y_test)\n",
    "mse"
   ]
  },
  {
   "cell_type": "markdown",
   "id": "da49fda2",
   "metadata": {},
   "source": [
    "### (10) test 데이터에 대한 성능 확인하기\n",
    "\n",
    "* test 데이터에 대한 성능을 확인해주세요.\n"
   ]
  },
  {
   "cell_type": "code",
   "execution_count": 102,
   "id": "d273a419",
   "metadata": {},
   "outputs": [
    {
     "data": {
      "image/png": "[encoded data removed]",
      "text/plain": [
       "<Figure size 432x288 with 1 Axes>"
      ]
     },
     "metadata": {
      "needs_background": "light"
     },
     "output_type": "display_data"
    }
   ],
   "source": [
    "plt.plot(losses)\n",
    "plt.show()"
   ]
  },
  {
   "cell_type": "markdown",
   "id": "59e59268",
   "metadata": {},
   "source": [
    "### (11) 정답 데이터와 예측한 데이터 시각화하기\n",
    "\n",
    "* x축에는 X 데이터의 첫 번째 컬럼을, y축에는 정답인 target 데이터를 넣어서 모델이 예측한 데이터를 시각화해 주세요.\n"
   ]
  },
  {
   "cell_type": "code",
   "execution_count": 103,
   "id": "92f4c961",
   "metadata": {},
   "outputs": [
    {
     "data": {
      "image/png": "[encoded data removed]",
      "text/plain": [
       "<Figure size 432x288 with 1 Axes>"
      ]
     },
     "metadata": {
      "needs_background": "light"
     },
     "output_type": "display_data"
    }
   ],
   "source": [
    "plt.scatter(X_test[:, 0], y_test, label=\"true\")\n",
    "plt.scatter(X_test[:, 0], predictions, label=\"pred\")\n",
    "plt.legend()\n",
    "plt.show()"
   ]
  },
  {
   "cell_type": "markdown",
   "id": "d197d099",
   "metadata": {},
   "source": [
    "# 2. 날씨 좋은 월요일 오후 세 시, 자전거 타는 사람은 몇 명??"
   ]
  },
  {
   "cell_type": "markdown",
   "id": "8e7937e0",
   "metadata": {},
   "source": [
    "### (1) 데이터 가져오기 \n",
    "\n",
    "* 터미널에서 ~/data/data/bike-sharing-demand 경로에 train.csv 데이터를 train 변수로 가져옵니다."
   ]
  },
  {
   "cell_type": "code",
   "execution_count": 104,
   "id": "156afee2",
   "metadata": {},
   "outputs": [],
   "source": [
    "from sklearn.model_selection import train_test_split\n",
    "from sklearn.linear_model import LinearRegression\n",
    "from sklearn.metrics import mean_squared_error\n",
    "\n",
    "import pandas as pd\n",
    "import numpy as np\n",
    "import matplotlib.pyplot as plt\n",
    "import seaborn as sns"
   ]
  },
  {
   "cell_type": "code",
   "execution_count": 107,
   "id": "233e3dab",
   "metadata": {},
   "outputs": [
    {
     "data": {
      "text/html": [
       "<div>\n",
       "<style scoped>\n",
       "    .dataframe tbody tr th:only-of-type {\n",
       "        vertical-align: middle;\n",
       "    }\n",
       "\n",
       "    .dataframe tbody tr th {\n",
       "        vertical-align: top;\n",
       "    }\n",
       "\n",
       "    .dataframe thead th {\n",
       "        text-align: right;\n",
       "    }\n",
       "</style>\n",
       "<table border=\"1\" class=\"dataframe\">\n",
       "  <thead>\n",
       "    <tr style=\"text-align: right;\">\n",
       "      <th></th>\n",
       "      <th>datetime</th>\n",
       "      <th>season</th>\n",
       "      <th>holiday</th>\n",
       "      <th>workingday</th>\n",
       "      <th>weather</th>\n",
       "      <th>temp</th>\n",
       "      <th>atemp</th>\n",
       "      <th>humidity</th>\n",
       "      <th>windspeed</th>\n",
       "      <th>casual</th>\n",
       "      <th>registered</th>\n",
       "      <th>count</th>\n",
       "    </tr>\n",
       "  </thead>\n",
       "  <tbody>\n",
       "    <tr>\n",
       "      <th>0</th>\n",
       "      <td>2011-01-01 00:00:00</td>\n",
       "      <td>1</td>\n",
       "      <td>0</td>\n",
       "      <td>0</td>\n",
       "      <td>1</td>\n",
       "      <td>9.84</td>\n",
       "      <td>14.395</td>\n",
       "      <td>81</td>\n",
       "      <td>0.0</td>\n",
       "      <td>3</td>\n",
       "      <td>13</td>\n",
       "      <td>16</td>\n",
       "    </tr>\n",
       "    <tr>\n",
       "      <th>1</th>\n",
       "      <td>2011-01-01 01:00:00</td>\n",
       "      <td>1</td>\n",
       "      <td>0</td>\n",
       "      <td>0</td>\n",
       "      <td>1</td>\n",
       "      <td>9.02</td>\n",
       "      <td>13.635</td>\n",
       "      <td>80</td>\n",
       "      <td>0.0</td>\n",
       "      <td>8</td>\n",
       "      <td>32</td>\n",
       "      <td>40</td>\n",
       "    </tr>\n",
       "    <tr>\n",
       "      <th>2</th>\n",
       "      <td>2011-01-01 02:00:00</td>\n",
       "      <td>1</td>\n",
       "      <td>0</td>\n",
       "      <td>0</td>\n",
       "      <td>1</td>\n",
       "      <td>9.02</td>\n",
       "      <td>13.635</td>\n",
       "      <td>80</td>\n",
       "      <td>0.0</td>\n",
       "      <td>5</td>\n",
       "      <td>27</td>\n",
       "      <td>32</td>\n",
       "    </tr>\n",
       "    <tr>\n",
       "      <th>3</th>\n",
       "      <td>2011-01-01 03:00:00</td>\n",
       "      <td>1</td>\n",
       "      <td>0</td>\n",
       "      <td>0</td>\n",
       "      <td>1</td>\n",
       "      <td>9.84</td>\n",
       "      <td>14.395</td>\n",
       "      <td>75</td>\n",
       "      <td>0.0</td>\n",
       "      <td>3</td>\n",
       "      <td>10</td>\n",
       "      <td>13</td>\n",
       "    </tr>\n",
       "    <tr>\n",
       "      <th>4</th>\n",
       "      <td>2011-01-01 04:00:00</td>\n",
       "      <td>1</td>\n",
       "      <td>0</td>\n",
       "      <td>0</td>\n",
       "      <td>1</td>\n",
       "      <td>9.84</td>\n",
       "      <td>14.395</td>\n",
       "      <td>75</td>\n",
       "      <td>0.0</td>\n",
       "      <td>0</td>\n",
       "      <td>1</td>\n",
       "      <td>1</td>\n",
       "    </tr>\n",
       "  </tbody>\n",
       "</table>\n",
       "</div>"
      ],
      "text/plain": [
       "              datetime  season  holiday  workingday  weather  temp   atemp  \\\n",
       "0  2011-01-01 00:00:00       1        0           0        1  9.84  14.395   \n",
       "1  2011-01-01 01:00:00       1        0           0        1  9.02  13.635   \n",
       "2  2011-01-01 02:00:00       1        0           0        1  9.02  13.635   \n",
       "3  2011-01-01 03:00:00       1        0           0        1  9.84  14.395   \n",
       "4  2011-01-01 04:00:00       1        0           0        1  9.84  14.395   \n",
       "\n",
       "   humidity  windspeed  casual  registered  count  \n",
       "0        81        0.0       3          13     16  \n",
       "1        80        0.0       8          32     40  \n",
       "2        80        0.0       5          27     32  \n",
       "3        75        0.0       3          10     13  \n",
       "4        75        0.0       0           1      1  "
      ]
     },
     "execution_count": 107,
     "metadata": {},
     "output_type": "execute_result"
    }
   ],
   "source": [
    "train = pd.read_csv(\"/Users/user/aiffel/project/bike-sharing-demand/train.csv\")\n",
    "train.head()"
   ]
  },
  {
   "cell_type": "markdown",
   "id": "d002331a",
   "metadata": {},
   "source": [
    "### (2) datetime 컬럼을 datetime 자료형으로 변환하고 연,월, 일, 시, 분, 초 까지 6가지 컬럼 생성하기\n",
    "\n",
    "* to_datetime 활용\n",
    "* pandas datetime extract year month day 키워드"
   ]
  },
  {
   "cell_type": "code",
   "execution_count": 108,
   "id": "f3881479",
   "metadata": {},
   "outputs": [],
   "source": [
    "train['datetime'] = pd.to_datetime(train['datetime'], format='%Y-%m-%d %H:%M:%S')"
   ]
  },
  {
   "cell_type": "markdown",
   "id": "8dfd26f7",
   "metadata": {},
   "source": [
    "### (3) year, month, day, hout, minute, second 데이터 개수 시각화하기\n",
    "\n",
    "* sns.countplot 활용해서 시각화하기\n",
    "* subplot을 활용해서 한 번에 6개의 그래프 함께 시각화하기"
   ]
  },
  {
   "cell_type": "code",
   "execution_count": 109,
   "id": "6525feed",
   "metadata": {},
   "outputs": [],
   "source": [
    "train['year'] = pd.DatetimeIndex(train['datetime']).year\n",
    "train['month'] = pd.DatetimeIndex(train['datetime']).month\n",
    "train['day'] = pd.DatetimeIndex(train['datetime']).day\n",
    "train['hour'] = pd.DatetimeIndex(train['datetime']).hour\n",
    "train['minute'] = pd.DatetimeIndex(train['datetime']).minute\n",
    "train['second'] = pd.DatetimeIndex(train['datetime']).second"
   ]
  },
  {
   "cell_type": "code",
   "execution_count": 110,
   "id": "8d3b47c0",
   "metadata": {},
   "outputs": [
    {
     "data": {
      "text/html": [
       "<div>\n",
       "<style scoped>\n",
       "    .dataframe tbody tr th:only-of-type {\n",
       "        vertical-align: middle;\n",
       "    }\n",
       "\n",
       "    .dataframe tbody tr th {\n",
       "        vertical-align: top;\n",
       "    }\n",
       "\n",
       "    .dataframe thead th {\n",
       "        text-align: right;\n",
       "    }\n",
       "</style>\n",
       "<table border=\"1\" class=\"dataframe\">\n",
       "  <thead>\n",
       "    <tr style=\"text-align: right;\">\n",
       "      <th></th>\n",
       "      <th>datetime</th>\n",
       "      <th>season</th>\n",
       "      <th>holiday</th>\n",
       "      <th>workingday</th>\n",
       "      <th>weather</th>\n",
       "      <th>temp</th>\n",
       "      <th>atemp</th>\n",
       "      <th>humidity</th>\n",
       "      <th>windspeed</th>\n",
       "      <th>casual</th>\n",
       "      <th>registered</th>\n",
       "      <th>count</th>\n",
       "      <th>year</th>\n",
       "      <th>month</th>\n",
       "      <th>day</th>\n",
       "      <th>hour</th>\n",
       "      <th>minute</th>\n",
       "      <th>second</th>\n",
       "    </tr>\n",
       "  </thead>\n",
       "  <tbody>\n",
       "    <tr>\n",
       "      <th>0</th>\n",
       "      <td>2011-01-01 00:00:00</td>\n",
       "      <td>1</td>\n",
       "      <td>0</td>\n",
       "      <td>0</td>\n",
       "      <td>1</td>\n",
       "      <td>9.84</td>\n",
       "      <td>14.395</td>\n",
       "      <td>81</td>\n",
       "      <td>0.0</td>\n",
       "      <td>3</td>\n",
       "      <td>13</td>\n",
       "      <td>16</td>\n",
       "      <td>2011</td>\n",
       "      <td>1</td>\n",
       "      <td>1</td>\n",
       "      <td>0</td>\n",
       "      <td>0</td>\n",
       "      <td>0</td>\n",
       "    </tr>\n",
       "    <tr>\n",
       "      <th>1</th>\n",
       "      <td>2011-01-01 01:00:00</td>\n",
       "      <td>1</td>\n",
       "      <td>0</td>\n",
       "      <td>0</td>\n",
       "      <td>1</td>\n",
       "      <td>9.02</td>\n",
       "      <td>13.635</td>\n",
       "      <td>80</td>\n",
       "      <td>0.0</td>\n",
       "      <td>8</td>\n",
       "      <td>32</td>\n",
       "      <td>40</td>\n",
       "      <td>2011</td>\n",
       "      <td>1</td>\n",
       "      <td>1</td>\n",
       "      <td>1</td>\n",
       "      <td>0</td>\n",
       "      <td>0</td>\n",
       "    </tr>\n",
       "    <tr>\n",
       "      <th>2</th>\n",
       "      <td>2011-01-01 02:00:00</td>\n",
       "      <td>1</td>\n",
       "      <td>0</td>\n",
       "      <td>0</td>\n",
       "      <td>1</td>\n",
       "      <td>9.02</td>\n",
       "      <td>13.635</td>\n",
       "      <td>80</td>\n",
       "      <td>0.0</td>\n",
       "      <td>5</td>\n",
       "      <td>27</td>\n",
       "      <td>32</td>\n",
       "      <td>2011</td>\n",
       "      <td>1</td>\n",
       "      <td>1</td>\n",
       "      <td>2</td>\n",
       "      <td>0</td>\n",
       "      <td>0</td>\n",
       "    </tr>\n",
       "    <tr>\n",
       "      <th>3</th>\n",
       "      <td>2011-01-01 03:00:00</td>\n",
       "      <td>1</td>\n",
       "      <td>0</td>\n",
       "      <td>0</td>\n",
       "      <td>1</td>\n",
       "      <td>9.84</td>\n",
       "      <td>14.395</td>\n",
       "      <td>75</td>\n",
       "      <td>0.0</td>\n",
       "      <td>3</td>\n",
       "      <td>10</td>\n",
       "      <td>13</td>\n",
       "      <td>2011</td>\n",
       "      <td>1</td>\n",
       "      <td>1</td>\n",
       "      <td>3</td>\n",
       "      <td>0</td>\n",
       "      <td>0</td>\n",
       "    </tr>\n",
       "    <tr>\n",
       "      <th>4</th>\n",
       "      <td>2011-01-01 04:00:00</td>\n",
       "      <td>1</td>\n",
       "      <td>0</td>\n",
       "      <td>0</td>\n",
       "      <td>1</td>\n",
       "      <td>9.84</td>\n",
       "      <td>14.395</td>\n",
       "      <td>75</td>\n",
       "      <td>0.0</td>\n",
       "      <td>0</td>\n",
       "      <td>1</td>\n",
       "      <td>1</td>\n",
       "      <td>2011</td>\n",
       "      <td>1</td>\n",
       "      <td>1</td>\n",
       "      <td>4</td>\n",
       "      <td>0</td>\n",
       "      <td>0</td>\n",
       "    </tr>\n",
       "  </tbody>\n",
       "</table>\n",
       "</div>"
      ],
      "text/plain": [
       "             datetime  season  holiday  workingday  weather  temp   atemp  \\\n",
       "0 2011-01-01 00:00:00       1        0           0        1  9.84  14.395   \n",
       "1 2011-01-01 01:00:00       1        0           0        1  9.02  13.635   \n",
       "2 2011-01-01 02:00:00       1        0           0        1  9.02  13.635   \n",
       "3 2011-01-01 03:00:00       1        0           0        1  9.84  14.395   \n",
       "4 2011-01-01 04:00:00       1        0           0        1  9.84  14.395   \n",
       "\n",
       "   humidity  windspeed  casual  registered  count  year  month  day  hour  \\\n",
       "0        81        0.0       3          13     16  2011      1    1     0   \n",
       "1        80        0.0       8          32     40  2011      1    1     1   \n",
       "2        80        0.0       5          27     32  2011      1    1     2   \n",
       "3        75        0.0       3          10     13  2011      1    1     3   \n",
       "4        75        0.0       0           1      1  2011      1    1     4   \n",
       "\n",
       "   minute  second  \n",
       "0       0       0  \n",
       "1       0       0  \n",
       "2       0       0  \n",
       "3       0       0  \n",
       "4       0       0  "
      ]
     },
     "execution_count": 110,
     "metadata": {},
     "output_type": "execute_result"
    }
   ],
   "source": [
    "train.head()"
   ]
  },
  {
   "cell_type": "code",
   "execution_count": 111,
   "id": "a5252b5a",
   "metadata": {},
   "outputs": [
    {
     "data": {
      "image/png": "[encoded data removed]",
      "text/plain": [
       "<Figure size 1440x720 with 6 Axes>"
      ]
     },
     "metadata": {
      "needs_background": "light"
     },
     "output_type": "display_data"
    }
   ],
   "source": [
    "plt.figure(figsize=(20,10))\n",
    "plt.subplot(2,3,1)\n",
    "sns.countplot(x='year', data=train)\n",
    "\n",
    "plt.subplot(2,3,2)\n",
    "sns.countplot(x='month', data=train)\n",
    "\n",
    "plt.subplot(2,3,3)\n",
    "sns.countplot(x='day', data=train)\n",
    "\n",
    "plt.subplot(2,3,4)\n",
    "sns.countplot(x='hour', data=train)\n",
    "\n",
    "plt.subplot(2,3,5)\n",
    "sns.countplot(x='minute', data=train)\n",
    "\n",
    "plt.subplot(2,3,6)\n",
    "sns.countplot(x='second', data=train)\n",
    "\n",
    "plt.show()"
   ]
  },
  {
   "cell_type": "markdown",
   "id": "516874e2",
   "metadata": {},
   "source": [
    "### (4) X, y 컬럼 선택 및 train/test 데이터 분리\n",
    "\n",
    "* X(feature)에는 어떤 데이터 컬럼을 넣어야 될지 고민해 봅시다 데이터 컬럼을 추가하거나 빼면서 잘 조합하여 데이터를 넣어야 한다. 만일 모든 데이터 컬럼(특징)을 넣는다면 오차 값이 말도 안 되게 적게 나올 수 도 있다.\n",
    "* count 값을 맞추고자 하므로, y 변수에 count 컬럼의 데이터 넣기"
   ]
  },
  {
   "cell_type": "code",
   "execution_count": 112,
   "id": "07a3edcc",
   "metadata": {},
   "outputs": [],
   "source": [
    "X = train[['season', 'workingday', 'weather', 'temp', 'atemp', 'humidity', 'windspeed', 'year', 'month', 'day', 'hour',]].values\n",
    "y = train[['count']].values"
   ]
  },
  {
   "cell_type": "code",
   "execution_count": 113,
   "id": "e4014f90",
   "metadata": {},
   "outputs": [],
   "source": [
    "X_train, X_test, y_train, y_test = train_test_split(X, y, test_size=0.2, random_state=2)"
   ]
  },
  {
   "cell_type": "markdown",
   "id": "8d5d8bd7",
   "metadata": {},
   "source": [
    "### (5) LinearRegression 모델 학습\n",
    "\n",
    "* sklearn 의 LinearRegression 모델 불러오기 및 학습하기"
   ]
  },
  {
   "cell_type": "code",
   "execution_count": 114,
   "id": "8a5cccd4",
   "metadata": {},
   "outputs": [
    {
     "data": {
      "text/plain": [
       "LinearRegression()"
      ]
     },
     "execution_count": 114,
     "metadata": {},
     "output_type": "execute_result"
    }
   ],
   "source": [
    "model = LinearRegression()\n",
    "model.fit(X_train, y_train)\n"
   ]
  },
  {
   "cell_type": "markdown",
   "id": "8b7c9b76",
   "metadata": {},
   "source": [
    "### (6) 학습된 모델로 X_test에 대한 예측값 출력 및 손실함수값 계산\n",
    "\n",
    "* 학습된 모델에 X_test를 입력해서 예측값 출력하기\n",
    "* 모델이 예측한 값과 정답 target 간의 손실함수 값 계산하기\n",
    "* mse 값과 함께 rmse 값도 계산하기"
   ]
  },
  {
   "cell_type": "code",
   "execution_count": 117,
   "id": "061bcce3",
   "metadata": {},
   "outputs": [
    {
     "data": {
      "text/plain": [
       "array([[-33.96697339],\n",
       "       [ 59.23679918],\n",
       "       [112.62548605],\n",
       "       ...,\n",
       "       [195.79183719],\n",
       "       [197.74006566],\n",
       "       [294.24680107]])"
      ]
     },
     "execution_count": 117,
     "metadata": {},
     "output_type": "execute_result"
    }
   ],
   "source": [
    "predictions = model.predict(X_test)\n",
    "predictions"
   ]
  },
  {
   "cell_type": "code",
   "execution_count": 118,
   "id": "35ef277d",
   "metadata": {},
   "outputs": [
    {
     "data": {
      "text/plain": [
       "140.47528542723452"
      ]
     },
     "execution_count": 118,
     "metadata": {},
     "output_type": "execute_result"
    }
   ],
   "source": [
    "rmse = mean_squared_error(y_test, predictions, squared = False)\n",
    "rmse"
   ]
  },
  {
   "cell_type": "markdown",
   "id": "f2dc7d40",
   "metadata": {},
   "source": [
    "### (7) x축은 temp 또는 humidity로, y축은 count로 예측 결과 시각화하기\n",
    "\n",
    "* x축에 X데이터 중 temp 데이터를, y축에는 count 데이터를 넣어서 시각화하기\n",
    "* x축에 X데이터 중 humidity 데이터를, y축에는 count 데이터를 넣어서 시각화하기\n"
   ]
  },
  {
   "cell_type": "code",
   "execution_count": 119,
   "id": "717d6f91",
   "metadata": {},
   "outputs": [],
   "source": [
    "col = ['season', 'workingday', 'weather', 'temp', 'atemp', 'humidity', 'windspeed', 'year', 'month', 'day', 'hour']\n",
    "X_test_df = pd.DataFrame(X_test, columns=col)\n",
    "X_test_df['predictions'] = predictions\n",
    "X_test_df['y_test'] = y_test"
   ]
  },
  {
   "cell_type": "code",
   "execution_count": 120,
   "id": "60fa9534",
   "metadata": {},
   "outputs": [
    {
     "data": {
      "text/html": [
       "<div>\n",
       "<style scoped>\n",
       "    .dataframe tbody tr th:only-of-type {\n",
       "        vertical-align: middle;\n",
       "    }\n",
       "\n",
       "    .dataframe tbody tr th {\n",
       "        vertical-align: top;\n",
       "    }\n",
       "\n",
       "    .dataframe thead th {\n",
       "        text-align: right;\n",
       "    }\n",
       "</style>\n",
       "<table border=\"1\" class=\"dataframe\">\n",
       "  <thead>\n",
       "    <tr style=\"text-align: right;\">\n",
       "      <th></th>\n",
       "      <th>season</th>\n",
       "      <th>workingday</th>\n",
       "      <th>weather</th>\n",
       "      <th>temp</th>\n",
       "      <th>atemp</th>\n",
       "      <th>humidity</th>\n",
       "      <th>windspeed</th>\n",
       "      <th>year</th>\n",
       "      <th>month</th>\n",
       "      <th>day</th>\n",
       "      <th>hour</th>\n",
       "      <th>predictions</th>\n",
       "      <th>y_test</th>\n",
       "    </tr>\n",
       "  </thead>\n",
       "  <tbody>\n",
       "    <tr>\n",
       "      <th>0</th>\n",
       "      <td>1.0</td>\n",
       "      <td>1.0</td>\n",
       "      <td>2.0</td>\n",
       "      <td>6.56</td>\n",
       "      <td>9.090</td>\n",
       "      <td>80.0</td>\n",
       "      <td>8.9981</td>\n",
       "      <td>2011.0</td>\n",
       "      <td>2.0</td>\n",
       "      <td>4.0</td>\n",
       "      <td>9.0</td>\n",
       "      <td>-33.966973</td>\n",
       "      <td>127</td>\n",
       "    </tr>\n",
       "    <tr>\n",
       "      <th>1</th>\n",
       "      <td>2.0</td>\n",
       "      <td>1.0</td>\n",
       "      <td>2.0</td>\n",
       "      <td>14.76</td>\n",
       "      <td>16.665</td>\n",
       "      <td>71.0</td>\n",
       "      <td>19.0012</td>\n",
       "      <td>2011.0</td>\n",
       "      <td>4.0</td>\n",
       "      <td>8.0</td>\n",
       "      <td>10.0</td>\n",
       "      <td>59.236799</td>\n",
       "      <td>73</td>\n",
       "    </tr>\n",
       "    <tr>\n",
       "      <th>2</th>\n",
       "      <td>3.0</td>\n",
       "      <td>1.0</td>\n",
       "      <td>3.0</td>\n",
       "      <td>24.60</td>\n",
       "      <td>27.275</td>\n",
       "      <td>88.0</td>\n",
       "      <td>8.9981</td>\n",
       "      <td>2011.0</td>\n",
       "      <td>9.0</td>\n",
       "      <td>7.0</td>\n",
       "      <td>9.0</td>\n",
       "      <td>112.625486</td>\n",
       "      <td>190</td>\n",
       "    </tr>\n",
       "    <tr>\n",
       "      <th>3</th>\n",
       "      <td>2.0</td>\n",
       "      <td>1.0</td>\n",
       "      <td>1.0</td>\n",
       "      <td>16.40</td>\n",
       "      <td>20.455</td>\n",
       "      <td>56.0</td>\n",
       "      <td>23.9994</td>\n",
       "      <td>2011.0</td>\n",
       "      <td>4.0</td>\n",
       "      <td>4.0</td>\n",
       "      <td>1.0</td>\n",
       "      <td>44.829705</td>\n",
       "      <td>11</td>\n",
       "    </tr>\n",
       "    <tr>\n",
       "      <th>4</th>\n",
       "      <td>4.0</td>\n",
       "      <td>1.0</td>\n",
       "      <td>2.0</td>\n",
       "      <td>22.14</td>\n",
       "      <td>25.760</td>\n",
       "      <td>49.0</td>\n",
       "      <td>8.9981</td>\n",
       "      <td>2012.0</td>\n",
       "      <td>10.0</td>\n",
       "      <td>17.0</td>\n",
       "      <td>13.0</td>\n",
       "      <td>303.039383</td>\n",
       "      <td>310</td>\n",
       "    </tr>\n",
       "    <tr>\n",
       "      <th>...</th>\n",
       "      <td>...</td>\n",
       "      <td>...</td>\n",
       "      <td>...</td>\n",
       "      <td>...</td>\n",
       "      <td>...</td>\n",
       "      <td>...</td>\n",
       "      <td>...</td>\n",
       "      <td>...</td>\n",
       "      <td>...</td>\n",
       "      <td>...</td>\n",
       "      <td>...</td>\n",
       "      <td>...</td>\n",
       "      <td>...</td>\n",
       "    </tr>\n",
       "    <tr>\n",
       "      <th>2173</th>\n",
       "      <td>1.0</td>\n",
       "      <td>1.0</td>\n",
       "      <td>1.0</td>\n",
       "      <td>12.30</td>\n",
       "      <td>13.635</td>\n",
       "      <td>61.0</td>\n",
       "      <td>19.9995</td>\n",
       "      <td>2012.0</td>\n",
       "      <td>3.0</td>\n",
       "      <td>7.0</td>\n",
       "      <td>1.0</td>\n",
       "      <td>76.753725</td>\n",
       "      <td>5</td>\n",
       "    </tr>\n",
       "    <tr>\n",
       "      <th>2174</th>\n",
       "      <td>1.0</td>\n",
       "      <td>1.0</td>\n",
       "      <td>1.0</td>\n",
       "      <td>28.70</td>\n",
       "      <td>31.820</td>\n",
       "      <td>39.0</td>\n",
       "      <td>16.9979</td>\n",
       "      <td>2012.0</td>\n",
       "      <td>3.0</td>\n",
       "      <td>15.0</td>\n",
       "      <td>17.0</td>\n",
       "      <td>356.228964</td>\n",
       "      <td>713</td>\n",
       "    </tr>\n",
       "    <tr>\n",
       "      <th>2175</th>\n",
       "      <td>2.0</td>\n",
       "      <td>1.0</td>\n",
       "      <td>1.0</td>\n",
       "      <td>18.86</td>\n",
       "      <td>22.725</td>\n",
       "      <td>72.0</td>\n",
       "      <td>15.0013</td>\n",
       "      <td>2011.0</td>\n",
       "      <td>5.0</td>\n",
       "      <td>6.0</td>\n",
       "      <td>22.0</td>\n",
       "      <td>195.791837</td>\n",
       "      <td>151</td>\n",
       "    </tr>\n",
       "    <tr>\n",
       "      <th>2176</th>\n",
       "      <td>1.0</td>\n",
       "      <td>1.0</td>\n",
       "      <td>1.0</td>\n",
       "      <td>12.30</td>\n",
       "      <td>13.635</td>\n",
       "      <td>42.0</td>\n",
       "      <td>31.0009</td>\n",
       "      <td>2012.0</td>\n",
       "      <td>1.0</td>\n",
       "      <td>18.0</td>\n",
       "      <td>13.0</td>\n",
       "      <td>197.740066</td>\n",
       "      <td>130</td>\n",
       "    </tr>\n",
       "    <tr>\n",
       "      <th>2177</th>\n",
       "      <td>3.0</td>\n",
       "      <td>1.0</td>\n",
       "      <td>1.0</td>\n",
       "      <td>26.24</td>\n",
       "      <td>30.305</td>\n",
       "      <td>65.0</td>\n",
       "      <td>16.9979</td>\n",
       "      <td>2011.0</td>\n",
       "      <td>9.0</td>\n",
       "      <td>1.0</td>\n",
       "      <td>23.0</td>\n",
       "      <td>294.246801</td>\n",
       "      <td>126</td>\n",
       "    </tr>\n",
       "  </tbody>\n",
       "</table>\n",
       "<p>2178 rows × 13 columns</p>\n",
       "</div>"
      ],
      "text/plain": [
       "      season  workingday  weather   temp   atemp  humidity  windspeed    year  \\\n",
       "0        1.0         1.0      2.0   6.56   9.090      80.0     8.9981  2011.0   \n",
       "1        2.0         1.0      2.0  14.76  16.665      71.0    19.0012  2011.0   \n",
       "2        3.0         1.0      3.0  24.60  27.275      88.0     8.9981  2011.0   \n",
       "3        2.0         1.0      1.0  16.40  20.455      56.0    23.9994  2011.0   \n",
       "4        4.0         1.0      2.0  22.14  25.760      49.0     8.9981  2012.0   \n",
       "...      ...         ...      ...    ...     ...       ...        ...     ...   \n",
       "2173     1.0         1.0      1.0  12.30  13.635      61.0    19.9995  2012.0   \n",
       "2174     1.0         1.0      1.0  28.70  31.820      39.0    16.9979  2012.0   \n",
       "2175     2.0         1.0      1.0  18.86  22.725      72.0    15.0013  2011.0   \n",
       "2176     1.0         1.0      1.0  12.30  13.635      42.0    31.0009  2012.0   \n",
       "2177     3.0         1.0      1.0  26.24  30.305      65.0    16.9979  2011.0   \n",
       "\n",
       "      month   day  hour  predictions  y_test  \n",
       "0       2.0   4.0   9.0   -33.966973     127  \n",
       "1       4.0   8.0  10.0    59.236799      73  \n",
       "2       9.0   7.0   9.0   112.625486     190  \n",
       "3       4.0   4.0   1.0    44.829705      11  \n",
       "4      10.0  17.0  13.0   303.039383     310  \n",
       "...     ...   ...   ...          ...     ...  \n",
       "2173    3.0   7.0   1.0    76.753725       5  \n",
       "2174    3.0  15.0  17.0   356.228964     713  \n",
       "2175    5.0   6.0  22.0   195.791837     151  \n",
       "2176    1.0  18.0  13.0   197.740066     130  \n",
       "2177    9.0   1.0  23.0   294.246801     126  \n",
       "\n",
       "[2178 rows x 13 columns]"
      ]
     },
     "execution_count": 120,
     "metadata": {},
     "output_type": "execute_result"
    }
   ],
   "source": [
    "\n",
    "X_test_df"
   ]
  },
  {
   "cell_type": "code",
   "execution_count": 121,
   "id": "7a545420",
   "metadata": {},
   "outputs": [
    {
     "data": {
      "image/png": "[encoded data removed]",
      "text/plain": [
       "<Figure size 1440x720 with 4 Axes>"
      ]
     },
     "metadata": {
      "needs_background": "light"
     },
     "output_type": "display_data"
    }
   ],
   "source": [
    "plt.figure(figsize=(20,10))\n",
    "plt.subplot(2,2,1)\n",
    "sns.lineplot(x=X_test_df['temp'], y=X_test_df['predictions'])\n",
    "\n",
    "plt.subplot(2,2,2)\n",
    "sns.lineplot(x=X_test_df['temp'], y=X_test_df['y_test'])\n",
    "\n",
    "plt.subplot(2,2,3)\n",
    "sns.lineplot(x=X_test_df['humidity'], y=X_test_df['predictions'])\n",
    "\n",
    "plt.subplot(2,2,4)\n",
    "sns.lineplot(x=X_test_df['humidity'], y=X_test_df['y_test'])\n",
    "\n",
    "plt.show()"
   ]
  },
  {
   "cell_type": "markdown",
   "id": "7c5fbab9",
   "metadata": {},
   "source": [
    "데이터 학습하는 것까지는 할 수 있었는데 모델함수 짜는 부분에서 아직 코딩 짜기가 너무 어려워서 구글에서 참고."
   ]
  }
 ],
 "metadata": {
  "kernelspec": {
   "display_name": "Python 3 (ipykernel)",
   "language": "python",
   "name": "python3"
  },
  "language_info": {
   "codemirror_mode": {
    "name": "ipython",
    "version": 3
   },
   "file_extension": ".py",
   "mimetype": "text/x-python",
   "name": "python",
   "nbconvert_exporter": "python",
   "pygments_lexer": "ipython3",
   "version": "3.9.7"
  }
 },
 "nbformat": 4,
 "nbformat_minor": 5
}
