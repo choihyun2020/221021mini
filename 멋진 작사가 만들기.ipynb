{
 "cells": [
  {
   "cell_type": "markdown",
   "id": "f2853992",
   "metadata": {},
   "source": [
    "# 멋진 작사가 만들기\n"
   ]
  },
  {
   "cell_type": "markdown",
   "id": "22712ac4",
   "metadata": {},
   "source": [
    "## 라이브러리 확인"
   ]
  },
  {
   "cell_type": "code",
   "execution_count": 54,
   "id": "5cedab9c",
   "metadata": {},
   "outputs": [],
   "source": [
    "import os\n",
    "import glob\n",
    "import re\n",
    "import matplotlib.pyplot as plt\n",
    "import numpy as np\n",
    "\n",
    "import tensorflow as tf\n",
    "from sklearn.model_selection import train_test_split"
   ]
  },
  {
   "cell_type": "markdown",
   "id": "898394c9",
   "metadata": {},
   "source": [
    "## 데이터 셋팅"
   ]
  },
  {
   "cell_type": "code",
   "execution_count": 55,
   "id": "0ed55fde",
   "metadata": {},
   "outputs": [],
   "source": [
    "def preprocess_sentence(sentence):\n",
    "    sentence = sentence.lower().strip()       \n",
    "    sentence = re.sub(r\"([?.!,¿])\", r\" \\1 \", sentence)    \n",
    "    sentence = re.sub(r'[\" \"]+', \" \", sentence)     \n",
    "    sentence = re.sub(r\"[^a-zA-Z?.!,¿]+\", \" \", sentence)  \n",
    "    sentence = sentence.strip()\n",
    "    sentence = ' ' + sentence + ' '      \n",
    "    \n",
    "    return sentence"
   ]
  },
  {
   "cell_type": "code",
   "execution_count": 56,
   "id": "aa3e9675",
   "metadata": {},
   "outputs": [],
   "source": [
    "def tokenize(corpus):\n",
    "    tokenizer = tf.keras.preprocessing.text.Tokenizer(\n",
    "        num_words=7000,  \n",
    "        filters=' ',    \n",
    "        oov_token=\"\"  \n",
    "    )\n",
    "    tokenizer.fit_on_texts(corpus)   # 우리가 구축한 corpus로부터 Tokenizer가 사전을 자동구축하게 됩니다.\n",
    "\n",
    "    # 이후 tokenizer를 활용하여 모델에 입력할 데이터셋을 구축하게 됩니다.\n",
    "    tensor = tokenizer.texts_to_sequences(corpus)   # tokenizer는 구축한 사전으로부터 corpus를 해석해 Tensor로 변환합니다.\n",
    "\n",
    "    # 입력 데이터의 시퀀스 길이를 일정하게 맞추기 위한 padding  메소드를 제공합니다.\n",
    "    # maxlen의 디폴트값은 None입니다. 이 경우 corpus의 가장 긴 문장을 기준으로 시퀀스 길이가 맞춰집니다.\n",
    "    tensor = tf.keras.preprocessing.sequence.pad_sequences(tensor, padding='post', maxlen=15)  \n",
    "\n",
    "    print(tensor,tokenizer)\n",
    "    return tensor, tokenizer"
   ]
  },
  {
   "cell_type": "code",
   "execution_count": 57,
   "id": "e6bea424",
   "metadata": {},
   "outputs": [],
   "source": [
    "def plot_curve(epochs, hist, list_of_metrics):\n",
    "    \n",
    "    fig, ax = plt.subplots(1,2,figsize = (12, 8))\n",
    "    \n",
    "    for i in range(len(ax)):\n",
    "        ax[i].set_xlabel('Epochs')\n",
    "        ax[i].set_ylabel('Value')\n",
    "        \n",
    "        for n in range(len(list_of_metrics)):\n",
    "            if i == 0:\n",
    "                y = hist[list_of_metrics[n]]\n",
    "                if n == 0:\n",
    "                    ax[i].plot(epochs, y, label=\"train\")\n",
    "                else:\n",
    "                    ax[i].plot(epochs, y, label=\"val\")\n",
    "                ax[i].set_title('Loss')\n",
    "                ax[i].legend(loc='upper right')\n",
    "                if n == 1:\n",
    "                    break\n",
    "            else:\n",
    "                if n >= 2:\n",
    "                    y = hist[list_of_metrics[n]]\n",
    "                    if n == 2:\n",
    "                        ax[i].plot(epochs, y, label=\"train\")\n",
    "                    else:\n",
    "                        ax[i].plot(epochs, y, label=\"val\")\n",
    "                    ax[i].set_title('Accuracy')\n",
    "                    ax[i].legend(loc='lower right')\n",
    "                    \n",
    "    plt.show()"
   ]
  },
  {
   "cell_type": "code",
   "execution_count": 58,
   "id": "70fb852f",
   "metadata": {},
   "outputs": [],
   "source": [
    "def generate_text(model, tokenizer, init_sentence=\"\", max_len=20):\n",
    "\n",
    "    test_input = tokenizer.texts_to_sequences([init_sentence])\n",
    "    test_tensor = tf.convert_to_tensor(test_input, dtype=tf.int64)\n",
    "    end_token = tokenizer.word_index[\"\"]\n",
    "\n",
    "    while True:\n",
    "        predict = model(test_tensor)  # 입력받은 문장의 텐서를 입력합니다. \n",
    "        predict_word = tf.argmax(tf.nn.softmax(predict, axis=-1), axis=-1)[:, -1]    \n",
    "\n",
    "        test_tensor = tf.concat([test_tensor, \n",
    "        tf.expand_dims(predict_word, axis=0)], axis=-1)\n",
    "\n",
    "        if predict_word.numpy()[0] == end_token: break\n",
    "        if test_tensor.shape[1] >= max_len: break\n",
    "\n",
    "    generated = \"\"\n",
    "\n",
    "    for word_index in test_tensor[0].numpy():\n",
    "        generated += tokenizer.index_word[word_index] + \" \"\n",
    "\n",
    "    return generated "
   ]
  },
  {
   "cell_type": "code",
   "execution_count": 59,
   "id": "627a289d",
   "metadata": {},
   "outputs": [
    {
     "name": "stdout",
     "output_type": "stream",
     "text": [
      "데이터 크기: 187088\n",
      "Examples:\n",
      " [\"Busted flat in Baton Rouge, waitin' for a train\", \"And I's feelin' near as faded as my jeans\", 'Bobby thumbed a diesel down, just before it rained']\n"
     ]
    }
   ],
   "source": [
    "txt_file_path = os.getenv('HOME')+'/aiffel//lyricist/data/lyrics/*'\n",
    "\n",
    "txt_list = glob.glob(txt_file_path)\n",
    "\n",
    "raw_corpus = []\n",
    "\n",
    "# 여러개의 txt 파일을 모두 읽어서 raw_corpus 에 담습니다.\n",
    "for txt_file in txt_list:\n",
    "    with open(txt_file, \"r\") as f:\n",
    "        raw = f.read().splitlines()\n",
    "        raw_corpus.extend(raw)\n",
    "\n",
    "print(\"데이터 크기:\", len(raw_corpus))\n",
    "print(\"Examples:\\n\", raw_corpus[:3])"
   ]
  },
  {
   "cell_type": "code",
   "execution_count": 60,
   "id": "3a1ddf21",
   "metadata": {},
   "outputs": [
    {
     "data": {
      "text/plain": [
       "[' busted flat in baton rouge , waitin for a train ',\n",
       " ' and i s feelin near as faded as my jeans ',\n",
       " ' bobby thumbed a diesel down , just before it rained ',\n",
       " ' it rode us all the way to new orleans i pulled my harpoon out of my dirty red bandanna ',\n",
       " ' i was playin soft while bobby sang the blues , yeah ',\n",
       " ' windshield wipers slappin time , i was holdin bobby s hand in mine ',\n",
       " ' we sang every song that driver knew freedom s just another word for nothin left to lose ',\n",
       " ' nothin , don t mean nothin hon if it ain t free , no no ',\n",
       " ' and , feelin good was easy , lord , when he sang the blues ',\n",
       " ' you know , feelin good was good enough for me ']"
      ]
     },
     "execution_count": 60,
     "metadata": {},
     "output_type": "execute_result"
    }
   ],
   "source": [
    "corpus = []\n",
    "\n",
    "for sentence in raw_corpus:\n",
    "    if len(sentence) == 0: continue\n",
    "    if sentence[-1] == \":\": continue\n",
    "        \n",
    "    corpus.append(preprocess_sentence(sentence))\n",
    "        \n",
    "corpus[:10]"
   ]
  },
  {
   "cell_type": "code",
   "execution_count": 61,
   "id": "a44dd71f",
   "metadata": {},
   "outputs": [
    {
     "name": "stdout",
     "output_type": "stream",
     "text": [
      "[[3602 1689   12 ...    0    0    0]\n",
      " [   6    3   14 ...    0    0    0]\n",
      " [ 802    1    7 ...    0    0    0]\n",
      " ...\n",
      " [   3   20  712 ... 4176    2    0]\n",
      " [   3   20  712 ... 4176    2    0]\n",
      " [   3   20  712 ... 4176   18    0]] <keras_preprocessing.text.Tokenizer object at 0x7f9c27b31a90>\n"
     ]
    }
   ],
   "source": [
    "tensor, tokenizer = tokenize(corpus)"
   ]
  },
  {
   "cell_type": "code",
   "execution_count": 62,
   "id": "fb6d9499",
   "metadata": {},
   "outputs": [
    {
     "name": "stdout",
     "output_type": "stream",
     "text": [
      "[3602 1689   12    1 3993    2 1098   26    7  679    0    0    0    0]\n",
      "[1689   12    1 3993    2 1098   26    7  679    0    0    0    0    0]\n"
     ]
    }
   ],
   "source": [
    "src_input = tensor[:, :-1]  \n",
    "tgt_input = tensor[:, 1:]    \n",
    "\n",
    "print(src_input[0])\n",
    "print(tgt_input[0])"
   ]
  },
  {
   "cell_type": "code",
   "execution_count": 63,
   "id": "b5400c06",
   "metadata": {},
   "outputs": [],
   "source": [
    "enc_train, enc_val, dec_train, dec_val = train_test_split(src_input, tgt_input, test_size=0.2, random_state=2020)"
   ]
  },
  {
   "cell_type": "code",
   "execution_count": 64,
   "id": "5fe977a6",
   "metadata": {},
   "outputs": [],
   "source": [
    "BUFFER_SIZE = len(src_input)\n",
    "BATCH_SIZE = 256\n",
    "steps_per_epoch = len(src_input) // BATCH_SIZE\n",
    "\n",
    "VOCAB_SIZE = tokenizer.num_words + 1 "
   ]
  },
  {
   "cell_type": "code",
   "execution_count": 65,
   "id": "0fdc8de8",
   "metadata": {},
   "outputs": [
    {
     "data": {
      "text/plain": [
       "<BatchDataset shapes: ((256, 14), (256, 14)), types: (tf.int32, tf.int32)>"
      ]
     },
     "execution_count": 65,
     "metadata": {},
     "output_type": "execute_result"
    }
   ],
   "source": [
    "dataset = tf.data.Dataset.from_tensor_slices((enc_train, dec_train)).shuffle(BUFFER_SIZE)\n",
    "dataset = dataset.batch(BATCH_SIZE, drop_remainder=True)\n",
    "dataset"
   ]
  },
  {
   "cell_type": "code",
   "execution_count": 66,
   "id": "35d31254",
   "metadata": {},
   "outputs": [
    {
     "data": {
      "text/plain": [
       "<BatchDataset shapes: ((256, 14), (256, 14)), types: (tf.int32, tf.int32)>"
      ]
     },
     "execution_count": 66,
     "metadata": {},
     "output_type": "execute_result"
    }
   ],
   "source": [
    "val_dataset = tf.data.Dataset.from_tensor_slices((enc_val, dec_val)).shuffle(BUFFER_SIZE)\n",
    "val_dataset = val_dataset.batch(BATCH_SIZE, drop_remainder=True)\n",
    "val_dataset"
   ]
  },
  {
   "cell_type": "markdown",
   "id": "80806fb5",
   "metadata": {},
   "source": [
    "## 모델 학습\n"
   ]
  },
  {
   "cell_type": "code",
   "execution_count": 67,
   "id": "f3f4ee16",
   "metadata": {},
   "outputs": [],
   "source": [
    "class TextGenerator(tf.keras.Model):\n",
    "    def __init__(self, vocab_size, embedding_size, hidden_size):\n",
    "        super(TextGenerator, self).__init__()\n",
    "        \n",
    "        self.embedding = tf.keras.layers.Embedding(vocab_size, embedding_size)\n",
    "        self.rnn_1 = tf.keras.layers.LSTM(hidden_size, return_sequences=True)\n",
    "        self.drop1 = tf.keras.layers.Dropout(0.3)\n",
    "        self.rnn_2 = tf.keras.layers.LSTM(hidden_size, return_sequences=True)\n",
    "        self.linear = tf.keras.layers.Dense(vocab_size)\n",
    "        \n",
    "    def call(self, x):\n",
    "        out = self.embedding(x)\n",
    "        out = self.rnn_1(out)\n",
    "        out = self.drop1(out)\n",
    "        out = self.rnn_2(out)\n",
    "        out = self.linear(out)\n",
    "        \n",
    "        return out\n",
    "    \n",
    "embedding_size = 2048\n",
    "hidden_size = 2048\n",
    "model = TextGenerator(tokenizer.num_words + 1, embedding_size , hidden_size)"
   ]
  },
  {
   "cell_type": "code",
   "execution_count": 68,
   "id": "4e22a341",
   "metadata": {},
   "outputs": [
    {
     "data": {
      "text/plain": [
       "<tf.Tensor: shape=(256, 14, 7001), dtype=float32, numpy=\n",
       "array([[[-1.40274467e-04,  1.15720140e-04,  5.71893062e-04, ...,\n",
       "          2.02883757e-03,  3.88143642e-04, -1.30820263e-04],\n",
       "        [-1.78507849e-04,  3.95364681e-04,  5.47354342e-04, ...,\n",
       "          3.84186953e-03,  9.47056804e-04,  6.15734598e-06],\n",
       "        [-5.25217329e-04,  9.85348015e-04,  1.75583205e-04, ...,\n",
       "          5.22084069e-03,  1.19616336e-03, -5.61682973e-04],\n",
       "        ...,\n",
       "        [-3.43791419e-03,  1.14908768e-02, -2.94147478e-03, ...,\n",
       "          6.67383149e-03, -3.20917432e-04,  1.18555815e-03],\n",
       "        [-3.73143773e-03,  1.28370607e-02, -3.15822684e-03, ...,\n",
       "          6.67496724e-03, -6.13140874e-04,  1.24532857e-03],\n",
       "        [-3.95714166e-03,  1.39760636e-02, -3.28202476e-03, ...,\n",
       "          6.67741522e-03, -9.32941388e-04,  1.27227989e-03]],\n",
       "\n",
       "       [[-3.40777478e-04,  8.15521518e-04,  6.12877848e-05, ...,\n",
       "          2.03594464e-04,  9.24713313e-05,  3.54862168e-05],\n",
       "        [-1.04351995e-04,  1.38705049e-03, -5.16798755e-04, ...,\n",
       "          2.65711169e-05,  2.61838548e-04, -1.09589564e-04],\n",
       "        [ 5.81244298e-04,  1.22783531e-03, -5.75954095e-04, ...,\n",
       "          5.89901138e-05,  2.23835130e-04, -5.07296063e-04],\n",
       "        ...,\n",
       "        [-2.58082058e-03,  1.64686725e-03, -2.04843725e-03, ...,\n",
       "          3.50083993e-03, -1.53747248e-03,  2.68931361e-03],\n",
       "        [-2.90489313e-03,  3.09449108e-03, -2.45461776e-03, ...,\n",
       "          4.00455808e-03, -1.03943597e-03,  2.39927089e-03],\n",
       "        [-3.13616171e-03,  4.91704140e-03, -2.85879662e-03, ...,\n",
       "          4.52048006e-03, -6.10582007e-04,  2.20683194e-03]],\n",
       "\n",
       "       [[-1.25241595e-05, -1.02089725e-04, -4.67322214e-04, ...,\n",
       "          2.65811541e-04, -1.30109896e-04, -7.64545635e-04],\n",
       "        [-1.85568861e-05,  1.18630624e-05, -2.98070983e-04, ...,\n",
       "          4.49460407e-04, -2.54923420e-04, -1.42018439e-03],\n",
       "        [-1.21181039e-03, -4.33021778e-04, -1.40022748e-04, ...,\n",
       "          1.53413377e-04,  8.45265342e-04, -1.66672934e-03],\n",
       "        ...,\n",
       "        [-2.85239751e-03, -5.92868368e-04, -1.97358686e-03, ...,\n",
       "         -1.08116760e-03,  3.85826454e-03, -1.44940591e-03],\n",
       "        [-1.82942348e-03, -8.86626309e-04, -2.91939056e-03, ...,\n",
       "         -1.16350700e-03,  3.31412652e-03, -1.67694630e-03],\n",
       "        [-9.48001398e-04,  1.35668422e-04, -2.90819048e-03, ...,\n",
       "         -4.09149681e-04,  2.42421008e-03, -1.05295132e-03]],\n",
       "\n",
       "       ...,\n",
       "\n",
       "       [[-5.97339938e-04,  3.86335800e-04, -3.66880733e-04, ...,\n",
       "         -5.98820043e-05, -2.87799106e-04,  1.27249383e-04],\n",
       "        [-4.16086317e-04,  2.38188644e-04, -2.44454684e-04, ...,\n",
       "         -3.04003654e-04, -5.07063989e-04, -3.17175989e-04],\n",
       "        [-2.53827166e-04,  3.86217056e-04,  1.42543693e-04, ...,\n",
       "         -1.04481552e-03, -1.35349506e-03, -7.28469167e-04],\n",
       "        ...,\n",
       "        [-1.67517713e-03,  1.50380433e-02, -3.55247967e-03, ...,\n",
       "          5.69261331e-03, -1.78512221e-03,  1.80951160e-04],\n",
       "        [-1.92494784e-03,  1.58731285e-02, -3.59507883e-03, ...,\n",
       "          6.09082961e-03, -2.02873535e-03,  3.17717291e-04],\n",
       "        [-2.13614921e-03,  1.65720861e-02, -3.58578470e-03, ...,\n",
       "          6.40496612e-03, -2.28384556e-03,  4.03936487e-04]],\n",
       "\n",
       "       [[ 5.40971814e-04, -1.73034379e-04,  5.47876523e-04, ...,\n",
       "         -4.94515298e-05, -1.21189594e-04, -1.09572189e-04],\n",
       "        [ 1.16942078e-03, -3.13216064e-04,  1.05162535e-03, ...,\n",
       "          2.10398488e-04,  3.63854168e-04, -5.52415033e-04],\n",
       "        [ 9.84040787e-04, -9.12960735e-04,  6.92375703e-04, ...,\n",
       "          6.88533823e-04,  5.53173653e-04, -1.01191807e-03],\n",
       "        ...,\n",
       "        [-3.62844253e-03,  1.03952745e-02, -3.91377462e-03, ...,\n",
       "          7.95077812e-03,  5.13069608e-06,  1.30185043e-03],\n",
       "        [-3.78380809e-03,  1.18397148e-02, -3.94886686e-03, ...,\n",
       "          8.23772512e-03, -3.72355717e-04,  1.31007354e-03],\n",
       "        [-3.87460366e-03,  1.30921053e-02, -3.91226308e-03, ...,\n",
       "          8.40843935e-03, -7.70279148e-04,  1.27642800e-03]],\n",
       "\n",
       "       [[-4.46958700e-04,  3.08094081e-04,  4.27429623e-04, ...,\n",
       "         -1.93673346e-04, -1.34819129e-04, -2.18222813e-05],\n",
       "        [-9.56867880e-04,  1.33395265e-03,  4.98003617e-04, ...,\n",
       "         -7.34598259e-04, -4.70130442e-04,  6.44764747e-04],\n",
       "        [-1.24249968e-03,  1.10593403e-03, -1.29887601e-04, ...,\n",
       "         -1.22199053e-04, -6.41266990e-04,  1.51899760e-03],\n",
       "        ...,\n",
       "        [-2.41750549e-03,  1.40720084e-02, -3.96488700e-03, ...,\n",
       "          7.25594396e-03, -1.23413303e-03,  3.10859177e-03],\n",
       "        [-2.55691237e-03,  1.49445627e-02, -3.89831234e-03, ...,\n",
       "          7.43283005e-03, -1.57621456e-03,  2.87766964e-03],\n",
       "        [-2.66461913e-03,  1.56909563e-02, -3.79953813e-03, ...,\n",
       "          7.54532358e-03, -1.91179093e-03,  2.61956872e-03]]],\n",
       "      dtype=float32)>"
      ]
     },
     "execution_count": 68,
     "metadata": {},
     "output_type": "execute_result"
    }
   ],
   "source": [
    "for src_sample, tgt_sample in dataset.take(1): break\n",
    "model(src_sample)"
   ]
  },
  {
   "cell_type": "code",
   "execution_count": 69,
   "id": "cb83d915",
   "metadata": {},
   "outputs": [
    {
     "name": "stdout",
     "output_type": "stream",
     "text": [
      "Model: \"text_generator_3\"\n",
      "_________________________________________________________________\n",
      "Layer (type)                 Output Shape              Param #   \n",
      "=================================================================\n",
      "embedding_3 (Embedding)      multiple                  14338048  \n",
      "_________________________________________________________________\n",
      "lstm_6 (LSTM)                multiple                  33562624  \n",
      "_________________________________________________________________\n",
      "dropout_3 (Dropout)          multiple                  0         \n",
      "_________________________________________________________________\n",
      "lstm_7 (LSTM)                multiple                  33562624  \n",
      "_________________________________________________________________\n",
      "dense_3 (Dense)              multiple                  14345049  \n",
      "=================================================================\n",
      "Total params: 95,808,345\n",
      "Trainable params: 95,808,345\n",
      "Non-trainable params: 0\n",
      "_________________________________________________________________\n"
     ]
    }
   ],
   "source": [
    "model.summary()"
   ]
  },
  {
   "cell_type": "code",
   "execution_count": 70,
   "id": "98814e42",
   "metadata": {},
   "outputs": [],
   "source": [
    "optimizer = tf.keras.optimizers.Adam(learning_rate=0.001)\n",
    "loss = tf.keras.losses.SparseCategoricalCrossentropy(\n",
    "    from_logits=True,\n",
    "    reduction='none'\n",
    ")\n",
    "\n",
    "model.compile(loss=loss, optimizer=optimizer, metrics=['accuracy'])"
   ]
  },
  {
   "cell_type": "code",
   "execution_count": 72,
   "id": "88b18ad8",
   "metadata": {},
   "outputs": [
    {
     "name": "stdout",
     "output_type": "stream",
     "text": [
      "Epoch 1/4\n",
      "549/549 [==============================] - 284s 518ms/step - loss: 1.2350 - accuracy: 0.7354 - val_loss: 1.8766 - val_accuracy: 0.6730\n",
      "Epoch 2/4\n",
      "549/549 [==============================] - 285s 518ms/step - loss: 1.0378 - accuracy: 0.7727 - val_loss: 1.8671 - val_accuracy: 0.6844\n",
      "Epoch 3/4\n",
      "549/549 [==============================] - 285s 518ms/step - loss: 0.8948 - accuracy: 0.8017 - val_loss: 1.8767 - val_accuracy: 0.6915\n",
      "Epoch 4/4\n",
      "549/549 [==============================] - 285s 518ms/step - loss: 0.7947 - accuracy: 0.8234 - val_loss: 1.9016 - val_accuracy: 0.6967\n"
     ]
    }
   ],
   "source": [
    "history = model.fit(dataset,\n",
    "          epochs=4,\n",
    "          validation_data=val_dataset,\n",
    "          verbose=1)"
   ]
  },
  {
   "cell_type": "code",
   "execution_count": 73,
   "id": "98d4e42b",
   "metadata": {},
   "outputs": [
    {
     "data": {
      "image/png": "[encoded data removed]",
      "text/plain": [
       "<Figure size 864x576 with 2 Axes>"
      ]
     },
     "metadata": {
      "needs_background": "light"
     },
     "output_type": "display_data"
    }
   ],
   "source": [
    "plot_curve(history.epoch, history.history, ['loss', 'val_loss', 'accuracy', 'val_accuracy'])"
   ]
  },
  {
   "cell_type": "code",
   "execution_count": 82,
   "id": "e6a7f0eb",
   "metadata": {},
   "outputs": [
    {
     "data": {
      "text/plain": [
       "'i am the  '"
      ]
     },
     "execution_count": 82,
     "metadata": {},
     "output_type": "execute_result"
    }
   ],
   "source": [
    "generate_text(model, tokenizer, init_sentence=\" i am\", max_len=20)"
   ]
  },
  {
   "cell_type": "code",
   "execution_count": null,
   "id": "2b72457d",
   "metadata": {},
   "outputs": [],
   "source": []
  }
 ],
 "metadata": {
  "kernelspec": {
   "display_name": "Python 3 (ipykernel)",
   "language": "python",
   "name": "python3"
  },
  "language_info": {
   "codemirror_mode": {
    "name": "ipython",
    "version": 3
   },
   "file_extension": ".py",
   "mimetype": "text/x-python",
   "name": "python",
   "nbconvert_exporter": "python",
   "pygments_lexer": "ipython3",
   "version": "3.9.7"
  }
 },
 "nbformat": 4,
 "nbformat_minor": 5
}
