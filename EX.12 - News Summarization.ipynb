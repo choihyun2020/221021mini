{
 "cells": [
  {
   "cell_type": "markdown",
   "id": "ced61e26",
   "metadata": {},
   "source": [
    "# 12. 뉴스 요약봇 만들기"
   ]
  },
  {
   "cell_type": "markdown",
   "id": "6e516507",
   "metadata": {},
   "source": [
    "## Import"
   ]
  },
  {
   "cell_type": "code",
   "execution_count": 1,
   "id": "2d51be83",
   "metadata": {},
   "outputs": [],
   "source": [
    "import os\n",
    "import numpy as np\n",
    "import pandas as pd\n",
    "import re\n",
    "import matplotlib.pyplot as plt\n",
    "import nltk\n",
    "from nltk.corpus import stopwords\n",
    "from bs4 import BeautifulSoup \n",
    "import urllib.request\n",
    "import requests\n",
    "from summa.summarizer import summarize\n",
    "\n",
    "from tensorflow.keras.preprocessing.text import Tokenizer \n",
    "from tensorflow.keras.preprocessing.sequence import pad_sequences\n",
    "from tensorflow.keras.layers import Input, LSTM, Embedding, Dense, Concatenate\n",
    "from tensorflow.keras.models import Model\n",
    "from tensorflow.keras.callbacks import EarlyStopping, ModelCheckpoint\n"
   ]
  },
  {
   "cell_type": "markdown",
   "id": "2ead2867",
   "metadata": {},
   "source": [
    "## 데이터 수집"
   ]
  },
  {
   "cell_type": "code",
   "execution_count": 2,
   "id": "0c16466d",
   "metadata": {},
   "outputs": [
    {
     "data": {
      "text/html": [
       "<div>\n",
       "<style scoped>\n",
       "    .dataframe tbody tr th:only-of-type {\n",
       "        vertical-align: middle;\n",
       "    }\n",
       "\n",
       "    .dataframe tbody tr th {\n",
       "        vertical-align: top;\n",
       "    }\n",
       "\n",
       "    .dataframe thead th {\n",
       "        text-align: right;\n",
       "    }\n",
       "</style>\n",
       "<table border=\"1\" class=\"dataframe\">\n",
       "  <thead>\n",
       "    <tr style=\"text-align: right;\">\n",
       "      <th></th>\n",
       "      <th>headlines</th>\n",
       "      <th>text</th>\n",
       "    </tr>\n",
       "  </thead>\n",
       "  <tbody>\n",
       "    <tr>\n",
       "      <th>89399</th>\n",
       "      <td>Younis Khan set to coach Afghanistan team: ACB...</td>\n",
       "      <td>Former Pakistan captain Younis Khan will coach...</td>\n",
       "    </tr>\n",
       "    <tr>\n",
       "      <th>21701</th>\n",
       "      <td>Steve Smith walks before being given out LBW o...</td>\n",
       "      <td>Australia's Steve Smith walked before being gi...</td>\n",
       "    </tr>\n",
       "    <tr>\n",
       "      <th>92491</th>\n",
       "      <td>TN teacher sold jewellery to give students mod...</td>\n",
       "      <td>A teacher in a Tamil Nadu government school, A...</td>\n",
       "    </tr>\n",
       "    <tr>\n",
       "      <th>82624</th>\n",
       "      <td>Ex-bureaucrats slam Govt in open letter over c...</td>\n",
       "      <td>Over 60 retired IAS and IPS officers have writ...</td>\n",
       "    </tr>\n",
       "    <tr>\n",
       "      <th>91281</th>\n",
       "      <td>BCCI denies Indian cricketers' payments held u...</td>\n",
       "      <td>BCCI's Committee of Administrators chief Vinod...</td>\n",
       "    </tr>\n",
       "    <tr>\n",
       "      <th>94477</th>\n",
       "      <td>Why live in democracy if there's no freedom of...</td>\n",
       "      <td>Rakhi Sawant has said that it's pointless livi...</td>\n",
       "    </tr>\n",
       "    <tr>\n",
       "      <th>97390</th>\n",
       "      <td>White Helmets are part of al-Qaeda, claims Syr...</td>\n",
       "      <td>Syrian President Bashar al-Assad has slammed v...</td>\n",
       "    </tr>\n",
       "    <tr>\n",
       "      <th>50848</th>\n",
       "      <td>Man fined for eating foie gras, watching film ...</td>\n",
       "      <td>French police have imposed a fine of Ã¢ÂÂ¬750...</td>\n",
       "    </tr>\n",
       "    <tr>\n",
       "      <th>27604</th>\n",
       "      <td>Finch posts highest-ever T20I score, gets out ...</td>\n",
       "      <td>Australian captain Aaron Finch slammed 172(76)...</td>\n",
       "    </tr>\n",
       "    <tr>\n",
       "      <th>72802</th>\n",
       "      <td>EU nations agree to control migration flow fro...</td>\n",
       "      <td>France, Germany, Italy, and Spain have agreed ...</td>\n",
       "    </tr>\n",
       "  </tbody>\n",
       "</table>\n",
       "</div>"
      ],
      "text/plain": [
       "                                               headlines  \\\n",
       "89399  Younis Khan set to coach Afghanistan team: ACB...   \n",
       "21701  Steve Smith walks before being given out LBW o...   \n",
       "92491  TN teacher sold jewellery to give students mod...   \n",
       "82624  Ex-bureaucrats slam Govt in open letter over c...   \n",
       "91281  BCCI denies Indian cricketers' payments held u...   \n",
       "94477  Why live in democracy if there's no freedom of...   \n",
       "97390  White Helmets are part of al-Qaeda, claims Syr...   \n",
       "50848  Man fined for eating foie gras, watching film ...   \n",
       "27604  Finch posts highest-ever T20I score, gets out ...   \n",
       "72802  EU nations agree to control migration flow fro...   \n",
       "\n",
       "                                                    text  \n",
       "89399  Former Pakistan captain Younis Khan will coach...  \n",
       "21701  Australia's Steve Smith walked before being gi...  \n",
       "92491  A teacher in a Tamil Nadu government school, A...  \n",
       "82624  Over 60 retired IAS and IPS officers have writ...  \n",
       "91281  BCCI's Committee of Administrators chief Vinod...  \n",
       "94477  Rakhi Sawant has said that it's pointless livi...  \n",
       "97390  Syrian President Bashar al-Assad has slammed v...  \n",
       "50848  French police have imposed a fine of Ã¢ÂÂ¬750...  \n",
       "27604  Australian captain Aaron Finch slammed 172(76)...  \n",
       "72802  France, Germany, Italy, and Spain have agreed ...  "
      ]
     },
     "execution_count": 2,
     "metadata": {},
     "output_type": "execute_result"
    }
   ],
   "source": [
    "urllib.request.urlretrieve(\"https://raw.githubusercontent.com/sunnysai12345/News_Summary/master/news_summary_more.csv\", filename=\"news_summary_more.csv\")\n",
    "data = pd.read_csv('news_summary_more.csv', encoding='iso-8859-1')\n",
    "data.sample(10)\n"
   ]
  },
  {
   "cell_type": "markdown",
   "id": "cc2d49bc",
   "metadata": {},
   "source": [
    "## 데이터 전처리"
   ]
  },
  {
   "cell_type": "code",
   "execution_count": 3,
   "id": "34d3d341",
   "metadata": {},
   "outputs": [
    {
     "name": "stdout",
     "output_type": "stream",
     "text": [
      "text 열에서 중복을 배제한 유일한 샘플의 수 : 98360\n",
      "headlines 열에서 중복을 배제한 유일한 샘플의 수 : 98280\n"
     ]
    }
   ],
   "source": [
    "print('text 열에서 중복을 배제한 유일한 샘플의 수 :', data['text'].nunique())\n",
    "print('headlines 열에서 중복을 배제한 유일한 샘플의 수 :', data['headlines'].nunique())\n"
   ]
  },
  {
   "cell_type": "code",
   "execution_count": 4,
   "id": "8358a091",
   "metadata": {},
   "outputs": [
    {
     "name": "stdout",
     "output_type": "stream",
     "text": [
      "전체 샘플수 : 98360\n"
     ]
    }
   ],
   "source": [
    "data.drop_duplicates(subset = ['text'], inplace = True)\n",
    "print('전체 샘플수 :',(len(data)))\n"
   ]
  },
  {
   "cell_type": "code",
   "execution_count": 5,
   "id": "c490e475",
   "metadata": {},
   "outputs": [
    {
     "name": "stdout",
     "output_type": "stream",
     "text": [
      "headlines    0\n",
      "text         0\n",
      "dtype: int64\n"
     ]
    }
   ],
   "source": [
    "print(data.isnull().sum())"
   ]
  },
  {
   "cell_type": "code",
   "execution_count": 6,
   "id": "d77c9a7f",
   "metadata": {},
   "outputs": [
    {
     "name": "stdout",
     "output_type": "stream",
     "text": [
      "전체 샘플수 : 98360\n"
     ]
    }
   ],
   "source": [
    "data.dropna(axis = 0, inplace = True)\n",
    "print('전체 샘플수 :',(len(data)))"
   ]
  },
  {
   "cell_type": "code",
   "execution_count": 7,
   "id": "e53008bf",
   "metadata": {},
   "outputs": [
    {
     "name": "stdout",
     "output_type": "stream",
     "text": [
      "정규화 사전의 수:  120\n"
     ]
    }
   ],
   "source": [
    "contractions = {\"ain't\": \"is not\", \"aren't\": \"are not\",\"can't\": \"cannot\", \"'cause\": \"because\", \"could've\": \"could have\", \"couldn't\": \"could not\",\n",
    "                           \"didn't\": \"did not\",  \"doesn't\": \"does not\", \"don't\": \"do not\", \"hadn't\": \"had not\", \"hasn't\": \"has not\", \"haven't\": \"have not\",\n",
    "                           \"he'd\": \"he would\",\"he'll\": \"he will\", \"he's\": \"he is\", \"how'd\": \"how did\", \"how'd'y\": \"how do you\", \"how'll\": \"how will\", \"how's\": \"how is\",\n",
    "                           \"I'd\": \"I would\", \"I'd've\": \"I would have\", \"I'll\": \"I will\", \"I'll've\": \"I will have\",\"I'm\": \"I am\", \"I've\": \"I have\", \"i'd\": \"i would\",\n",
    "                           \"i'd've\": \"i would have\", \"i'll\": \"i will\",  \"i'll've\": \"i will have\",\"i'm\": \"i am\", \"i've\": \"i have\", \"isn't\": \"is not\", \"it'd\": \"it would\",\n",
    "                           \"it'd've\": \"it would have\", \"it'll\": \"it will\", \"it'll've\": \"it will have\",\"it's\": \"it is\", \"let's\": \"let us\", \"ma'am\": \"madam\",\n",
    "                           \"mayn't\": \"may not\", \"might've\": \"might have\",\"mightn't\": \"might not\",\"mightn't've\": \"might not have\", \"must've\": \"must have\",\n",
    "                           \"mustn't\": \"must not\", \"mustn't've\": \"must not have\", \"needn't\": \"need not\", \"needn't've\": \"need not have\",\"o'clock\": \"of the clock\",\n",
    "                           \"oughtn't\": \"ought not\", \"oughtn't've\": \"ought not have\", \"shan't\": \"shall not\", \"sha'n't\": \"shall not\", \"shan't've\": \"shall not have\",\n",
    "                           \"she'd\": \"she would\", \"she'd've\": \"she would have\", \"she'll\": \"she will\", \"she'll've\": \"she will have\", \"she's\": \"she is\",\n",
    "                           \"should've\": \"should have\", \"shouldn't\": \"should not\", \"shouldn't've\": \"should not have\", \"so've\": \"so have\",\"so's\": \"so as\",\n",
    "                           \"this's\": \"this is\",\"that'd\": \"that would\", \"that'd've\": \"that would have\", \"that's\": \"that is\", \"there'd\": \"there would\",\n",
    "                           \"there'd've\": \"there would have\", \"there's\": \"there is\", \"here's\": \"here is\",\"they'd\": \"they would\", \"they'd've\": \"they would have\",\n",
    "                           \"they'll\": \"they will\", \"they'll've\": \"they will have\", \"they're\": \"they are\", \"they've\": \"they have\", \"to've\": \"to have\",\n",
    "                           \"wasn't\": \"was not\", \"we'd\": \"we would\", \"we'd've\": \"we would have\", \"we'll\": \"we will\", \"we'll've\": \"we will have\", \"we're\": \"we are\",\n",
    "                           \"we've\": \"we have\", \"weren't\": \"were not\", \"what'll\": \"what will\", \"what'll've\": \"what will have\", \"what're\": \"what are\",\n",
    "                           \"what's\": \"what is\", \"what've\": \"what have\", \"when's\": \"when is\", \"when've\": \"when have\", \"where'd\": \"where did\", \"where's\": \"where is\",\n",
    "                           \"where've\": \"where have\", \"who'll\": \"who will\", \"who'll've\": \"who will have\", \"who's\": \"who is\", \"who've\": \"who have\",\n",
    "                           \"why's\": \"why is\", \"why've\": \"why have\", \"will've\": \"will have\", \"won't\": \"will not\", \"won't've\": \"will not have\",\n",
    "                           \"would've\": \"would have\", \"wouldn't\": \"would not\", \"wouldn't've\": \"would not have\", \"y'all\": \"you all\",\n",
    "                           \"y'all'd\": \"you all would\",\"y'all'd've\": \"you all would have\",\"y'all're\": \"you all are\",\"y'all've\": \"you all have\",\n",
    "                           \"you'd\": \"you would\", \"you'd've\": \"you would have\", \"you'll\": \"you will\", \"you'll've\": \"you will have\",\n",
    "                           \"you're\": \"you are\", \"you've\": \"you have\"}\n",
    "\n",
    "print(\"정규화 사전의 수: \",len(contractions))\n"
   ]
  },
  {
   "cell_type": "code",
   "execution_count": 8,
   "id": "3f9a37b9",
   "metadata": {},
   "outputs": [
    {
     "name": "stderr",
     "output_type": "stream",
     "text": [
      "[nltk_data] Downloading package stopwords to /aiffel/nltk_data...\n",
      "[nltk_data]   Unzipping corpora/stopwords.zip.\n"
     ]
    },
    {
     "data": {
      "text/plain": [
       "True"
      ]
     },
     "execution_count": 8,
     "metadata": {},
     "output_type": "execute_result"
    }
   ],
   "source": [
    "nltk.download('stopwords')"
   ]
  },
  {
   "cell_type": "code",
   "execution_count": 9,
   "id": "bf02e6d5",
   "metadata": {},
   "outputs": [
    {
     "name": "stdout",
     "output_type": "stream",
     "text": [
      "불용어 개수 : 179\n",
      "['i', 'me', 'my', 'myself', 'we', 'our', 'ours', 'ourselves', 'you', \"you're\", \"you've\", \"you'll\", \"you'd\", 'your', 'yours', 'yourself', 'yourselves', 'he', 'him', 'his', 'himself', 'she', \"she's\", 'her', 'hers', 'herself', 'it', \"it's\", 'its', 'itself', 'they', 'them', 'their', 'theirs', 'themselves', 'what', 'which', 'who', 'whom', 'this', 'that', \"that'll\", 'these', 'those', 'am', 'is', 'are', 'was', 'were', 'be', 'been', 'being', 'have', 'has', 'had', 'having', 'do', 'does', 'did', 'doing', 'a', 'an', 'the', 'and', 'but', 'if', 'or', 'because', 'as', 'until', 'while', 'of', 'at', 'by', 'for', 'with', 'about', 'against', 'between', 'into', 'through', 'during', 'before', 'after', 'above', 'below', 'to', 'from', 'up', 'down', 'in', 'out', 'on', 'off', 'over', 'under', 'again', 'further', 'then', 'once', 'here', 'there', 'when', 'where', 'why', 'how', 'all', 'any', 'both', 'each', 'few', 'more', 'most', 'other', 'some', 'such', 'no', 'nor', 'not', 'only', 'own', 'same', 'so', 'than', 'too', 'very', 's', 't', 'can', 'will', 'just', 'don', \"don't\", 'should', \"should've\", 'now', 'd', 'll', 'm', 'o', 're', 've', 'y', 'ain', 'aren', \"aren't\", 'couldn', \"couldn't\", 'didn', \"didn't\", 'doesn', \"doesn't\", 'hadn', \"hadn't\", 'hasn', \"hasn't\", 'haven', \"haven't\", 'isn', \"isn't\", 'ma', 'mightn', \"mightn't\", 'mustn', \"mustn't\", 'needn', \"needn't\", 'shan', \"shan't\", 'shouldn', \"shouldn't\", 'wasn', \"wasn't\", 'weren', \"weren't\", 'won', \"won't\", 'wouldn', \"wouldn't\"]\n"
     ]
    }
   ],
   "source": [
    "print('불용어 개수 :', len(stopwords.words('english') ))\n",
    "print(stopwords.words('english'))\n"
   ]
  },
  {
   "cell_type": "code",
   "execution_count": 11,
   "id": "502cdc84",
   "metadata": {},
   "outputs": [],
   "source": [
    "def preprocess_sentence(sentence, remove_stopwords=True):\n",
    "    sentence = sentence.lower() # 텍스트 소문자화\n",
    "    sentence = BeautifulSoup(sentence, \"lxml\").text\n",
    "    sentence = re.sub(r'\\([^)]*\\)', '', sentence) \n",
    "    sentence = re.sub('\"','', sentence) # 쌍따옴표 \" 제거\n",
    "    sentence = ' '.join([contractions[t] if t in contractions else t for t in sentence.split(\" \")]) # 약어 정규화\n",
    "    sentence = re.sub(r\"'s\\b\",\"\",sentence) # 소유격 제거. Ex) roland's -> roland\n",
    "    sentence = re.sub(\"[^a-zA-Z]\", \" \", sentence) # 영어 외 문자(숫자, 특수문자 등) 공백으로 변환\n",
    "    sentence = re.sub('[m]{2,}', 'mm', sentence) # m이 3개 이상이면 2개로 변경. Ex) ummmmmmm yeah -> umm yeah\n",
    "    \n",
    "    # 불용어 제거 (test)\n",
    "    if remove_stopwords:\n",
    "        tokens = ' '.join(word for word in sentence.split() if not word in stopwords.words('english') if len(word) > 1)\n",
    "    # 불용어 미제거 (headlines)\n",
    "    else:\n",
    "        tokens = ' '.join(word for word in sentence.split() if len(word) > 1)\n",
    "    return tokens"
   ]
  },
  {
   "cell_type": "code",
   "execution_count": 12,
   "id": "c4db9d9a",
   "metadata": {},
   "outputs": [
    {
     "data": {
      "text/plain": [
       "'upGrad learner switches to career in ML & Al with 90% salary hike'"
      ]
     },
     "execution_count": 12,
     "metadata": {},
     "output_type": "execute_result"
    }
   ],
   "source": [
    "data.sample(1)\n",
    "data['headlines'][0]"
   ]
  },
  {
   "cell_type": "code",
   "execution_count": 13,
   "id": "744d3008",
   "metadata": {},
   "outputs": [
    {
     "name": "stdout",
     "output_type": "stream",
     "text": [
      "Saurav Kant, an alumnus of upGrad and IIIT-B's PG Program in Machine learning and Artificial Intelligence, was a Sr Systems Engineer at Infosys with almost 5 years of work experience. The program and upGrad's 360-degree career support helped him transition to a Data Scientist at Tech Mahindra with 90% salary hike. upGrad's Online Power Learning has powered 3 lakh+ careers.\n",
      "upGrad learner switches to career in ML & Al with 90% salary hike\n",
      "\n",
      "saurav kant alumnus upgrad iiit pg program machine learning artificial intelligence sr systems engineer infosys almost years work experience program upgrad degree career support helped transition data scientist tech mahindra salary hike upgrad online power learning powered lakh careers\n",
      "upgrad learner switches to career in ml al with salary hike\n"
     ]
    }
   ],
   "source": [
    "temp_text = data['text'][0]\n",
    "temp_headlines = data['headlines'][0]\n",
    "\n",
    "print(temp_text)\n",
    "print(temp_headlines)\n",
    "print()\n",
    "print(preprocess_sentence(temp_text))\n",
    "print(preprocess_sentence(temp_headlines, False))"
   ]
  },
  {
   "cell_type": "code",
   "execution_count": 14,
   "id": "6726a895",
   "metadata": {},
   "outputs": [
    {
     "data": {
      "text/plain": [
       "['saurav kant alumnus upgrad iiit pg program machine learning artificial intelligence sr systems engineer infosys almost years work experience program upgrad degree career support helped transition data scientist tech mahindra salary hike upgrad online power learning powered lakh careers',\n",
       " 'kunal shah credit card bill payment platform cred gave users chance win free food swiggy one year pranav kaushik delhi techie bagged reward spending cred coins users get one cred coin per rupee bill paid used avail rewards brands like ixigo bookmyshow ubereats cult fit',\n",
       " 'new zealand defeated india wickets fourth odi hamilton thursday win first match five match odi series india lost international match rohit sharma captaincy consecutive victories dating back march match witnessed india getting seventh lowest total odi cricket history',\n",
       " 'aegon life iterm insurance plan customers enjoy tax benefits premiums paid save taxes plan provides life cover age years also customers options insure critical illnesses disability accidental death benefit rider life cover age years',\n",
       " 'speaking sexual harassment allegations rajkumar hirani sonam kapoor said known hirani many years true metoo movement get derailed metoo movement always believe woman case need reserve judgment added hirani accused assistant worked sanju']"
      ]
     },
     "execution_count": 14,
     "metadata": {},
     "output_type": "execute_result"
    }
   ],
   "source": [
    "clean_text = []\n",
    "\n",
    "# 전체 Text 데이터에 대한 전처리 : 10분 이상 시간이 걸릴 수 있습니다. \n",
    "for s in data['text']:\n",
    "    clean_text.append(preprocess_sentence(s))\n",
    "\n",
    "# 전처리 후 출력\n",
    "clean_text[:5]"
   ]
  },
  {
   "cell_type": "code",
   "execution_count": 15,
   "id": "ffba871b",
   "metadata": {},
   "outputs": [
    {
     "data": {
      "text/plain": [
       "['upgrad learner switches to career in ml al with salary hike',\n",
       " 'delhi techie wins free food from swiggy for one year on cred',\n",
       " 'new zealand end rohit sharma led india match winning streak',\n",
       " 'aegon life iterm insurance plan helps customers save tax',\n",
       " 'have known hirani for yrs what if metoo claims are not true sonam']"
      ]
     },
     "execution_count": 15,
     "metadata": {},
     "output_type": "execute_result"
    }
   ],
   "source": [
    "clean_headlines = []\n",
    "\n",
    "# 전체 Summary 데이터에 대한 전처리 : 5분 이상 시간이 걸릴 수 있습니다. \n",
    "for s in data['headlines']:\n",
    "    clean_headlines.append(preprocess_sentence(s, False))\n",
    "\n",
    "clean_headlines[:5]"
   ]
  },
  {
   "cell_type": "code",
   "execution_count": 16,
   "id": "284efa9d",
   "metadata": {},
   "outputs": [],
   "source": [
    "data['text'] = clean_text\n",
    "data['headlines'] = clean_headlines\n",
    "\n",
    "# 빈 값을 Null 값으로 변환\n",
    "data.replace('', np.nan, inplace=True)"
   ]
  },
  {
   "cell_type": "code",
   "execution_count": 17,
   "id": "7a1611dc",
   "metadata": {},
   "outputs": [
    {
     "data": {
      "text/plain": [
       "headlines    0\n",
       "text         0\n",
       "dtype: int64"
      ]
     },
     "execution_count": 17,
     "metadata": {},
     "output_type": "execute_result"
    }
   ],
   "source": [
    "data.isnull().sum()"
   ]
  },
  {
   "cell_type": "code",
   "execution_count": 18,
   "id": "caa437d8",
   "metadata": {},
   "outputs": [
    {
     "name": "stdout",
     "output_type": "stream",
     "text": [
      "전체 샘플수 : 98360\n"
     ]
    }
   ],
   "source": [
    "data.dropna(axis=0, inplace=True)\n",
    "print('전체 샘플수 :',(len(data)))#데이터 전처리 함수"
   ]
  },
  {
   "cell_type": "markdown",
   "id": "eafd773b",
   "metadata": {},
   "source": [
    "### 샘플 최대 길이"
   ]
  },
  {
   "cell_type": "code",
   "execution_count": 19,
   "id": "d91c9125",
   "metadata": {},
   "outputs": [
    {
     "name": "stdout",
     "output_type": "stream",
     "text": [
      "텍스트의 최소 길이 : 1\n",
      "텍스트의 최대 길이 : 60\n",
      "텍스트의 평균 길이 : 35.09968483123221\n",
      "요약의 최소 길이 : 1\n",
      "요약의 최대 길이 : 16\n",
      "요약의 평균 길이 : 9.299532330215534\n"
     ]
    },
    {
     "data": {
      "image/png": "[encoded data removed]",
      "text/plain": [
       "<Figure size 432x288 with 2 Axes>"
      ]
     },
     "metadata": {
      "needs_background": "light"
     },
     "output_type": "display_data"
    },
    {
     "data": {
      "image/png": "[encoded data removed]",
      "text/plain": [
       "<Figure size 432x288 with 1 Axes>"
      ]
     },
     "metadata": {
      "needs_background": "light"
     },
     "output_type": "display_data"
    },
    {
     "data": {
      "image/png": "[encoded data removed]",
      "text/plain": [
       "<Figure size 432x288 with 1 Axes>"
      ]
     },
     "metadata": {
      "needs_background": "light"
     },
     "output_type": "display_data"
    }
   ],
   "source": [
    "text_len = [len(s.split()) for s in data['text']]\n",
    "headlines_len = [len(s.split()) for s in data['headlines']]\n",
    "\n",
    "print('텍스트의 최소 길이 : {}'.format(np.min(text_len)))\n",
    "print('텍스트의 최대 길이 : {}'.format(np.max(text_len)))\n",
    "print('텍스트의 평균 길이 : {}'.format(np.mean(text_len)))\n",
    "print('요약의 최소 길이 : {}'.format(np.min(headlines_len)))\n",
    "print('요약의 최대 길이 : {}'.format(np.max(headlines_len)))\n",
    "print('요약의 평균 길이 : {}'.format(np.mean(headlines_len)))\n",
    "\n",
    "plt.subplot(1,2,1)\n",
    "plt.boxplot(headlines_len)\n",
    "plt.title('headlines')\n",
    "plt.subplot(1,2,2)\n",
    "plt.boxplot(text_len)\n",
    "plt.title('Text')\n",
    "plt.tight_layout()\n",
    "plt.show()\n",
    "\n",
    "plt.title('headlines')\n",
    "plt.hist(headlines_len, bins = 40)\n",
    "plt.xlabel('length of samples')\n",
    "plt.ylabel('number of samples')\n",
    "plt.show()\n",
    "\n",
    "plt.title('Text')\n",
    "plt.hist(text_len, bins = 40)\n",
    "plt.xlabel('length of samples')\n",
    "plt.ylabel('number of samples')\n",
    "plt.show()"
   ]
  },
  {
   "cell_type": "code",
   "execution_count": 20,
   "id": "7639c3ae",
   "metadata": {},
   "outputs": [],
   "source": [
    "text_max_len = 50\n",
    "headlines_max_len = 8"
   ]
  },
  {
   "cell_type": "code",
   "execution_count": 21,
   "id": "7d3dd836",
   "metadata": {},
   "outputs": [],
   "source": [
    "def below_threshold_len(max_len, nested_list):\n",
    "  cnt = 0\n",
    "  for s in nested_list:\n",
    "    if(len(s.split()) <= max_len):\n",
    "        cnt = cnt + 1\n",
    "  print('전체 샘플 중 길이가 %s 이하인 샘플의 비율: %s'%(max_len, (cnt / len(nested_list))))\n"
   ]
  },
  {
   "cell_type": "code",
   "execution_count": 22,
   "id": "f2a73d57",
   "metadata": {},
   "outputs": [
    {
     "name": "stdout",
     "output_type": "stream",
     "text": [
      "전체 샘플 중 길이가 50 이하인 샘플의 비율: 0.9998576657177715\n",
      "전체 샘플 중 길이가 8 이하인 샘플의 비율: 0.2755693371289142\n"
     ]
    }
   ],
   "source": [
    "below_threshold_len(text_max_len, data['text'])\n",
    "below_threshold_len(headlines_max_len,  data['headlines'])"
   ]
  },
  {
   "cell_type": "code",
   "execution_count": 23,
   "id": "40ba75b0",
   "metadata": {},
   "outputs": [
    {
     "name": "stdout",
     "output_type": "stream",
     "text": [
      "전체 샘플수 : 27105\n"
     ]
    }
   ],
   "source": [
    "data = data[data['text'].apply(lambda x: len(x.split()) <= text_max_len)]\n",
    "data = data[data['headlines'].apply(lambda x: len(x.split()) <= headlines_max_len)]\n",
    "print('전체 샘플수 :',(len(data)))"
   ]
  },
  {
   "cell_type": "markdown",
   "id": "767c1981",
   "metadata": {},
   "source": [
    "### 시작 토큰 종료  토큰  추가"
   ]
  },
  {
   "cell_type": "code",
   "execution_count": 24,
   "id": "b3a068a3",
   "metadata": {},
   "outputs": [
    {
     "data": {
      "text/html": [
       "<div>\n",
       "<style scoped>\n",
       "    .dataframe tbody tr th:only-of-type {\n",
       "        vertical-align: middle;\n",
       "    }\n",
       "\n",
       "    .dataframe tbody tr th {\n",
       "        vertical-align: top;\n",
       "    }\n",
       "\n",
       "    .dataframe thead th {\n",
       "        text-align: right;\n",
       "    }\n",
       "</style>\n",
       "<table border=\"1\" class=\"dataframe\">\n",
       "  <thead>\n",
       "    <tr style=\"text-align: right;\">\n",
       "      <th></th>\n",
       "      <th>headlines</th>\n",
       "      <th>text</th>\n",
       "      <th>decoder_input</th>\n",
       "      <th>decoder_target</th>\n",
       "    </tr>\n",
       "  </thead>\n",
       "  <tbody>\n",
       "    <tr>\n",
       "      <th>19</th>\n",
       "      <td>odisha cm patnaik controls mining mafia union ...</td>\n",
       "      <td>union minister dharmendra pradhan wednesday cl...</td>\n",
       "      <td>sostoken odisha cm patnaik controls mining maf...</td>\n",
       "      <td>odisha cm patnaik controls mining mafia union ...</td>\n",
       "    </tr>\n",
       "    <tr>\n",
       "      <th>21</th>\n",
       "      <td>isro unveils bengaluru centre for manned space...</td>\n",
       "      <td>indian space research organisation wednesday u...</td>\n",
       "      <td>sostoken isro unveils bengaluru centre for man...</td>\n",
       "      <td>isro unveils bengaluru centre for manned space...</td>\n",
       "    </tr>\n",
       "    <tr>\n",
       "      <th>22</th>\n",
       "      <td>killed injured in saudi arabia floods</td>\n",
       "      <td>least people killed others injured saudi arabi...</td>\n",
       "      <td>sostoken killed injured in saudi arabia floods</td>\n",
       "      <td>killed injured in saudi arabia floods eostoken</td>\n",
       "    </tr>\n",
       "    <tr>\n",
       "      <th>29</th>\n",
       "      <td>seat cushions from missing plane carrying foot...</td>\n",
       "      <td>investigators searching lost plane carrying ar...</td>\n",
       "      <td>sostoken seat cushions from missing plane carr...</td>\n",
       "      <td>seat cushions from missing plane carrying foot...</td>\n",
       "    </tr>\n",
       "    <tr>\n",
       "      <th>36</th>\n",
       "      <td>agustawestland scam accused rajiv saxena extra...</td>\n",
       "      <td>agustawestland chopper scam co accused rajiv s...</td>\n",
       "      <td>sostoken agustawestland scam accused rajiv sax...</td>\n",
       "      <td>agustawestland scam accused rajiv saxena extra...</td>\n",
       "    </tr>\n",
       "  </tbody>\n",
       "</table>\n",
       "</div>"
      ],
      "text/plain": [
       "                                            headlines  \\\n",
       "19  odisha cm patnaik controls mining mafia union ...   \n",
       "21  isro unveils bengaluru centre for manned space...   \n",
       "22              killed injured in saudi arabia floods   \n",
       "29  seat cushions from missing plane carrying foot...   \n",
       "36  agustawestland scam accused rajiv saxena extra...   \n",
       "\n",
       "                                                 text  \\\n",
       "19  union minister dharmendra pradhan wednesday cl...   \n",
       "21  indian space research organisation wednesday u...   \n",
       "22  least people killed others injured saudi arabi...   \n",
       "29  investigators searching lost plane carrying ar...   \n",
       "36  agustawestland chopper scam co accused rajiv s...   \n",
       "\n",
       "                                        decoder_input  \\\n",
       "19  sostoken odisha cm patnaik controls mining maf...   \n",
       "21  sostoken isro unveils bengaluru centre for man...   \n",
       "22     sostoken killed injured in saudi arabia floods   \n",
       "29  sostoken seat cushions from missing plane carr...   \n",
       "36  sostoken agustawestland scam accused rajiv sax...   \n",
       "\n",
       "                                       decoder_target  \n",
       "19  odisha cm patnaik controls mining mafia union ...  \n",
       "21  isro unveils bengaluru centre for manned space...  \n",
       "22     killed injured in saudi arabia floods eostoken  \n",
       "29  seat cushions from missing plane carrying foot...  \n",
       "36  agustawestland scam accused rajiv saxena extra...  "
      ]
     },
     "execution_count": 24,
     "metadata": {},
     "output_type": "execute_result"
    }
   ],
   "source": [
    "data['decoder_input'] = data['headlines'].apply(lambda x : 'sostoken '+ x)\n",
    "data['decoder_target'] = data['headlines'].apply(lambda x : x + ' eostoken')\n",
    "data.head()"
   ]
  },
  {
   "cell_type": "code",
   "execution_count": 25,
   "id": "1aa1a11d",
   "metadata": {},
   "outputs": [],
   "source": [
    "encoder_input = np.array(data['text']) # 인코더의 입력\n",
    "decoder_input = np.array(data['decoder_input']) # 디코더의 입력\n",
    "decoder_target = np.array(data['decoder_target']) # 디코더의 레이블\n"
   ]
  },
  {
   "cell_type": "code",
   "execution_count": 26,
   "id": "ecc07910",
   "metadata": {},
   "outputs": [
    {
     "name": "stdout",
     "output_type": "stream",
     "text": [
      "[15347 19393  5270 ... 19216 26355  8857]\n"
     ]
    }
   ],
   "source": [
    "indices = np.arange(encoder_input.shape[0])\n",
    "np.random.shuffle(indices)\n",
    "print(indices)"
   ]
  },
  {
   "cell_type": "code",
   "execution_count": 27,
   "id": "f14410c3",
   "metadata": {},
   "outputs": [],
   "source": [
    "encoder_input = encoder_input[indices]\n",
    "decoder_input = decoder_input[indices]\n",
    "decoder_target = decoder_target[indices]"
   ]
  },
  {
   "cell_type": "code",
   "execution_count": 28,
   "id": "346df705",
   "metadata": {},
   "outputs": [
    {
     "name": "stdout",
     "output_type": "stream",
     "text": [
      "테스트 데이터의 수 : 5421\n"
     ]
    }
   ],
   "source": [
    "n_of_val = int(len(encoder_input)*0.2)\n",
    "print('테스트 데이터의 수 :',n_of_val)"
   ]
  },
  {
   "cell_type": "code",
   "execution_count": 29,
   "id": "2cbdb758",
   "metadata": {},
   "outputs": [
    {
     "name": "stdout",
     "output_type": "stream",
     "text": [
      "훈련 데이터의 개수 : 21684\n",
      "훈련 레이블의 개수 : 21684\n",
      "테스트 데이터의 개수 : 5421\n",
      "테스트 레이블의 개수 : 5421\n"
     ]
    }
   ],
   "source": [
    "encoder_input_train = encoder_input[:-n_of_val]\n",
    "decoder_input_train = decoder_input[:-n_of_val]\n",
    "decoder_target_train = decoder_target[:-n_of_val]\n",
    "\n",
    "encoder_input_test = encoder_input[-n_of_val:]\n",
    "decoder_input_test = decoder_input[-n_of_val:]\n",
    "decoder_target_test = decoder_target[-n_of_val:]\n",
    "\n",
    "print('훈련 데이터의 개수 :', len(encoder_input_train))\n",
    "print('훈련 레이블의 개수 :',len(decoder_input_train))\n",
    "print('테스트 데이터의 개수 :',len(encoder_input_test))\n",
    "print('테스트 레이블의 개수 :',len(decoder_input_test))"
   ]
  },
  {
   "cell_type": "markdown",
   "id": "3fdddf11",
   "metadata": {},
   "source": [
    "### 단어 집함 만들기 및 정수 인코딩"
   ]
  },
  {
   "cell_type": "code",
   "execution_count": 30,
   "id": "f7b1fd56",
   "metadata": {},
   "outputs": [],
   "source": [
    "src_tokenizer = Tokenizer() # 토크나이저 정의\n",
    "src_tokenizer.fit_on_texts(encoder_input_train) # 입력된 데이터로부터 단어 집합 생성\n"
   ]
  },
  {
   "cell_type": "code",
   "execution_count": 31,
   "id": "66cf1331",
   "metadata": {},
   "outputs": [
    {
     "name": "stdout",
     "output_type": "stream",
     "text": [
      "단어 집합(vocabulary)의 크기 : 42537\n",
      "등장 빈도가 6번 이하인 희귀 단어의 수: 30869\n",
      "단어 집합에서 희귀 단어를 제외시킬 경우의 단어 집합의 크기 11668\n",
      "단어 집합에서 희귀 단어의 비율: 72.5697627947434\n",
      "전체 등장 빈도에서 희귀 단어 등장 빈도 비율: 8.320792386319875\n"
     ]
    }
   ],
   "source": [
    "threshold = 7\n",
    "total_cnt = len(src_tokenizer.word_index) # 단어의 수\n",
    "rare_cnt = 0 # 등장 빈도수가 threshold보다 작은 단어의 개수를 카운트\n",
    "total_freq = 0 # 훈련 데이터의 전체 단어 빈도수 총 합\n",
    "rare_freq = 0 # 등장 빈도수가 threshold보다 작은 단어의 등장 빈도수의 총 합\n",
    "\n",
    "# 단어와 빈도수의 쌍(pair)을 key와 value로 받는다.\n",
    "for key, value in src_tokenizer.word_counts.items():\n",
    "    total_freq = total_freq + value\n",
    "\n",
    "    # 단어의 등장 빈도수가 threshold보다 작으면\n",
    "    if(value < threshold):\n",
    "        rare_cnt = rare_cnt + 1\n",
    "        rare_freq = rare_freq + value\n",
    "\n",
    "print('단어 집합(vocabulary)의 크기 :',total_cnt)\n",
    "print('등장 빈도가 %s번 이하인 희귀 단어의 수: %s'%(threshold - 1, rare_cnt))\n",
    "print('단어 집합에서 희귀 단어를 제외시킬 경우의 단어 집합의 크기 %s'%(total_cnt - rare_cnt))\n",
    "print(\"단어 집합에서 희귀 단어의 비율:\", (rare_cnt / total_cnt)*100)\n",
    "print(\"전체 등장 빈도에서 희귀 단어 등장 빈도 비율:\", (rare_freq / total_freq)*100)\n"
   ]
  },
  {
   "cell_type": "code",
   "execution_count": 32,
   "id": "92fe7c65",
   "metadata": {},
   "outputs": [],
   "source": [
    "src_vocab = 8000\n",
    "src_tokenizer = Tokenizer(num_words = src_vocab) # 단어 집합의 크기를 8,000으로 제한\n",
    "src_tokenizer.fit_on_texts(encoder_input_train) # 단어 집합 재생성.\n"
   ]
  },
  {
   "cell_type": "code",
   "execution_count": 33,
   "id": "4824c6a7",
   "metadata": {},
   "outputs": [
    {
     "name": "stdout",
     "output_type": "stream",
     "text": [
      "[[460, 1014, 6474, 9, 4675, 477, 106, 1839, 644, 185, 9, 838, 106, 320, 460, 907, 33, 2825, 2337, 2478, 106, 647, 3779, 274, 869, 310], [1425, 1840, 45, 77, 908, 73, 2303, 211, 1713, 31, 113, 1425, 18, 1558, 685, 771, 1401, 3153, 1840, 1425, 610, 41, 7, 2055, 63, 14, 51, 1172, 586, 6, 2647, 334, 222], [35, 43, 47, 531, 7367, 88, 363, 328, 7747, 575, 759, 2826, 3154, 5071, 130, 3621, 2029, 6, 1463, 2875, 66, 25, 469, 341, 2233]]\n"
     ]
    }
   ],
   "source": [
    "# 텍스트 시퀀스를 정수 시퀀스로 변환\n",
    "encoder_input_train = src_tokenizer.texts_to_sequences(encoder_input_train) \n",
    "encoder_input_test = src_tokenizer.texts_to_sequences(encoder_input_test)\n",
    "\n",
    "#잘 진행되었는지 샘플 출력\n",
    "print(encoder_input_train[:3])"
   ]
  },
  {
   "cell_type": "code",
   "execution_count": 34,
   "id": "cb4d9d88",
   "metadata": {},
   "outputs": [],
   "source": [
    "tar_tokenizer = Tokenizer()\n",
    "tar_tokenizer.fit_on_texts(decoder_input_train)"
   ]
  },
  {
   "cell_type": "code",
   "execution_count": 35,
   "id": "da9e4f18",
   "metadata": {},
   "outputs": [
    {
     "name": "stdout",
     "output_type": "stream",
     "text": [
      "단어 집합(vocabulary)의 크기 : 18891\n",
      "등장 빈도가 5번 이하인 희귀 단어의 수: 14248\n",
      "단어 집합에서 희귀 단어를 제외시킬 경우의 단어 집합의 크기 4643\n",
      "단어 집합에서 희귀 단어의 비율: 75.42215869991001\n",
      "전체 등장 빈도에서 희귀 단어 등장 빈도 비율: 14.089177442721468\n"
     ]
    }
   ],
   "source": [
    "threshold = 6\n",
    "total_cnt = len(tar_tokenizer.word_index) # 단어의 수\n",
    "rare_cnt = 0 # 등장 빈도수가 threshold보다 작은 단어의 개수를 카운트\n",
    "total_freq = 0 # 훈련 데이터의 전체 단어 빈도수 총 합\n",
    "rare_freq = 0 # 등장 빈도수가 threshold보다 작은 단어의 등장 빈도수의 총 합\n",
    "\n",
    "# 단어와 빈도수의 쌍(pair)을 key와 value로 받는다.\n",
    "for key, value in tar_tokenizer.word_counts.items():\n",
    "    total_freq = total_freq + value\n",
    "\n",
    "    # 단어의 등장 빈도수가 threshold보다 작으면\n",
    "    if(value < threshold):\n",
    "        rare_cnt = rare_cnt + 1\n",
    "        rare_freq = rare_freq + value\n",
    "\n",
    "print('단어 집합(vocabulary)의 크기 :',total_cnt)\n",
    "print('등장 빈도가 %s번 이하인 희귀 단어의 수: %s'%(threshold - 1, rare_cnt))\n",
    "print('단어 집합에서 희귀 단어를 제외시킬 경우의 단어 집합의 크기 %s'%(total_cnt - rare_cnt))\n",
    "print(\"단어 집합에서 희귀 단어의 비율:\", (rare_cnt / total_cnt)*100)\n",
    "print(\"전체 등장 빈도에서 희귀 단어 등장 빈도 비율:\", (rare_freq / total_freq)*100)\n"
   ]
  },
  {
   "cell_type": "code",
   "execution_count": 36,
   "id": "f8cb9bcc",
   "metadata": {},
   "outputs": [
    {
     "name": "stdout",
     "output_type": "stream",
     "text": [
      "input\n",
      "input  [[1, 135, 1150, 720, 3, 92, 44], [1, 630, 499, 488, 229, 4, 1064, 153, 92], [1, 1532, 22, 276, 5, 329, 1195], [1, 143, 364, 1462, 739, 16, 344], [1, 1616, 1065, 203, 521]]\n",
      "target\n",
      "decoder  [[135, 1150, 720, 3, 92, 44, 2], [630, 499, 488, 229, 4, 1064, 153, 92, 2], [1532, 22, 276, 5, 329, 1195, 2], [143, 364, 1462, 739, 16, 344, 2], [1616, 1065, 203, 521, 2]]\n"
     ]
    }
   ],
   "source": [
    "tar_vocab = 2000\n",
    "tar_tokenizer = Tokenizer(num_words = tar_vocab) \n",
    "tar_tokenizer.fit_on_texts(decoder_input_train)\n",
    "tar_tokenizer.fit_on_texts(decoder_target_train)\n",
    "\n",
    "# 텍스트 시퀀스를 정수 시퀀스로 변환\n",
    "decoder_input_train = tar_tokenizer.texts_to_sequences(decoder_input_train) \n",
    "decoder_target_train = tar_tokenizer.texts_to_sequences(decoder_target_train)\n",
    "decoder_input_test = tar_tokenizer.texts_to_sequences(decoder_input_test)\n",
    "decoder_target_test = tar_tokenizer.texts_to_sequences(decoder_target_test)\n",
    "\n",
    "#잘 변환되었는지 확인\n",
    "print('input')\n",
    "print('input ',decoder_input_train[:5])\n",
    "print('target')\n",
    "print('decoder ',decoder_target_train[:5])\n"
   ]
  },
  {
   "cell_type": "code",
   "execution_count": 37,
   "id": "703da312",
   "metadata": {},
   "outputs": [
    {
     "name": "stdout",
     "output_type": "stream",
     "text": [
      "삭제할 훈련 데이터의 개수 : 11\n",
      "삭제할 테스트 데이터의 개수 : 1\n",
      "훈련 데이터의 개수 : 21673\n",
      "훈련 레이블의 개수 : 21673\n",
      "테스트 데이터의 개수 : 5420\n",
      "테스트 레이블의 개수 : 5420\n"
     ]
    }
   ],
   "source": [
    "drop_train = [index for index, sentence in enumerate(decoder_input_train) if len(sentence) == 1]\n",
    "drop_test = [index for index, sentence in enumerate(decoder_input_test) if len(sentence) == 1]\n",
    "\n",
    "print('삭제할 훈련 데이터의 개수 :',len(drop_train))\n",
    "print('삭제할 테스트 데이터의 개수 :',len(drop_test))\n",
    "\n",
    "encoder_input_train = np.delete(encoder_input_train, drop_train, axis=0)\n",
    "decoder_input_train = np.delete(decoder_input_train, drop_train, axis=0)\n",
    "decoder_target_train = np.delete(decoder_target_train, drop_train, axis=0)\n",
    "\n",
    "encoder_input_test = np.delete(encoder_input_test, drop_test, axis=0)\n",
    "decoder_input_test = np.delete(decoder_input_test, drop_test, axis=0)\n",
    "decoder_target_test = np.delete(decoder_target_test, drop_test, axis=0)\n",
    "\n",
    "print('훈련 데이터의 개수 :', len(encoder_input_train))\n",
    "print('훈련 레이블의 개수 :',len(decoder_input_train))\n",
    "print('테스트 데이터의 개수 :',len(encoder_input_test))\n",
    "print('테스트 레이블의 개수 :',len(decoder_input_test))"
   ]
  },
  {
   "cell_type": "markdown",
   "id": "95815574",
   "metadata": {},
   "source": [
    "### 패딩"
   ]
  },
  {
   "cell_type": "code",
   "execution_count": 38,
   "id": "fef74b04",
   "metadata": {},
   "outputs": [],
   "source": [
    "encoder_input_train = pad_sequences(encoder_input_train, maxlen = text_max_len, padding='post')\n",
    "encoder_input_test = pad_sequences(encoder_input_test, maxlen = text_max_len, padding='post')\n",
    "decoder_input_train = pad_sequences(decoder_input_train, maxlen = headlines_max_len, padding='post')\n",
    "decoder_target_train = pad_sequences(decoder_target_train, maxlen = headlines_max_len, padding='post')\n",
    "decoder_input_test = pad_sequences(decoder_input_test, maxlen = headlines_max_len, padding='post')\n",
    "decoder_target_test = pad_sequences(decoder_target_test, maxlen = headlines_max_len, padding='post')\n"
   ]
  },
  {
   "cell_type": "markdown",
   "id": "98118d00",
   "metadata": {},
   "source": [
    "## 모델 설계"
   ]
  },
  {
   "cell_type": "markdown",
   "id": "d08148a8",
   "metadata": {},
   "source": [
    "### 인코더"
   ]
  },
  {
   "cell_type": "code",
   "execution_count": 39,
   "id": "083a03f5",
   "metadata": {},
   "outputs": [
    {
     "name": "stdout",
     "output_type": "stream",
     "text": [
      "WARNING:tensorflow:Layer lstm will not use cuDNN kernels since it doesn't meet the criteria. It will use a generic GPU kernel as fallback when running on GPU.\n",
      "WARNING:tensorflow:Layer lstm_1 will not use cuDNN kernels since it doesn't meet the criteria. It will use a generic GPU kernel as fallback when running on GPU.\n",
      "WARNING:tensorflow:Layer lstm_2 will not use cuDNN kernels since it doesn't meet the criteria. It will use a generic GPU kernel as fallback when running on GPU.\n"
     ]
    }
   ],
   "source": [
    "# 인코더 설계 시작\n",
    "embedding_dim = 128\n",
    "hidden_size = 256\n",
    "\n",
    "# 인코더\n",
    "encoder_inputs = Input(shape=(text_max_len,))\n",
    "\n",
    "# 인코더의 임베딩 층\n",
    "enc_emb = Embedding(src_vocab, embedding_dim)(encoder_inputs)\n",
    "\n",
    "# 인코더의 LSTM 1\n",
    "encoder_lstm1 = LSTM(hidden_size, return_sequences=True, return_state=True ,dropout = 0.4, recurrent_dropout = 0.4)\n",
    "encoder_output1, state_h1, state_c1 = encoder_lstm1(enc_emb)\n",
    "\n",
    "# 인코더의 LSTM 2\n",
    "encoder_lstm2 = LSTM(hidden_size, return_sequences=True, return_state=True, dropout=0.4, recurrent_dropout=0.4)\n",
    "encoder_output2, state_h2, state_c2 = encoder_lstm2(encoder_output1)\n",
    "\n",
    "# 인코더의 LSTM 3\n",
    "encoder_lstm3 = LSTM(hidden_size, return_state=True, return_sequences=True, dropout=0.4, recurrent_dropout=0.4)\n",
    "encoder_outputs, state_h, state_c= encoder_lstm3(encoder_output2)\n"
   ]
  },
  {
   "cell_type": "markdown",
   "id": "beb5a72e",
   "metadata": {},
   "source": [
    "### 디코더"
   ]
  },
  {
   "cell_type": "code",
   "execution_count": 40,
   "id": "0cd3205f",
   "metadata": {},
   "outputs": [
    {
     "name": "stdout",
     "output_type": "stream",
     "text": [
      "WARNING:tensorflow:Layer lstm_3 will not use cuDNN kernels since it doesn't meet the criteria. It will use a generic GPU kernel as fallback when running on GPU.\n",
      "Model: \"model\"\n",
      "__________________________________________________________________________________________________\n",
      "Layer (type)                    Output Shape         Param #     Connected to                     \n",
      "==================================================================================================\n",
      "input_1 (InputLayer)            [(None, 50)]         0                                            \n",
      "__________________________________________________________________________________________________\n",
      "embedding (Embedding)           (None, 50, 128)      1024000     input_1[0][0]                    \n",
      "__________________________________________________________________________________________________\n",
      "lstm (LSTM)                     [(None, 50, 256), (N 394240      embedding[0][0]                  \n",
      "__________________________________________________________________________________________________\n",
      "input_2 (InputLayer)            [(None, None)]       0                                            \n",
      "__________________________________________________________________________________________________\n",
      "lstm_1 (LSTM)                   [(None, 50, 256), (N 525312      lstm[0][0]                       \n",
      "__________________________________________________________________________________________________\n",
      "embedding_1 (Embedding)         (None, None, 128)    256000      input_2[0][0]                    \n",
      "__________________________________________________________________________________________________\n",
      "lstm_2 (LSTM)                   [(None, 50, 256), (N 525312      lstm_1[0][0]                     \n",
      "__________________________________________________________________________________________________\n",
      "lstm_3 (LSTM)                   [(None, None, 256),  394240      embedding_1[0][0]                \n",
      "                                                                 lstm_2[0][1]                     \n",
      "                                                                 lstm_2[0][2]                     \n",
      "__________________________________________________________________________________________________\n",
      "dense (Dense)                   (None, None, 2000)   514000      lstm_3[0][0]                     \n",
      "==================================================================================================\n",
      "Total params: 3,633,104\n",
      "Trainable params: 3,633,104\n",
      "Non-trainable params: 0\n",
      "__________________________________________________________________________________________________\n"
     ]
    }
   ],
   "source": [
    "# 디코더 설계\n",
    "decoder_inputs = Input(shape=(None,))\n",
    "\n",
    "# 디코더의 임베딩 층\n",
    "dec_emb_layer = Embedding(tar_vocab, embedding_dim)\n",
    "dec_emb = dec_emb_layer(decoder_inputs)\n",
    "\n",
    "# 디코더의 LSTM\n",
    "decoder_lstm = LSTM(hidden_size, return_sequences = True, return_state = True, dropout = 0.4, recurrent_dropout=0.2)\n",
    "decoder_outputs, _, _ = decoder_lstm(dec_emb, initial_state = [state_h, state_c])\n",
    "\n",
    "# 디코더의 출력층\n",
    "decoder_softmax_layer = Dense(tar_vocab, activation = 'softmax')\n",
    "decoder_softmax_outputs = decoder_softmax_layer(decoder_outputs) \n",
    "\n",
    "# 모델 정의\n",
    "model = Model([encoder_inputs, decoder_inputs], decoder_softmax_outputs)\n",
    "model.summary()"
   ]
  },
  {
   "cell_type": "markdown",
   "id": "12354f01",
   "metadata": {},
   "source": [
    "## 어텐션 메커니즘 사용하기"
   ]
  },
  {
   "cell_type": "code",
   "execution_count": 41,
   "id": "7250cf74",
   "metadata": {},
   "outputs": [],
   "source": [
    "urllib.request.urlretrieve(\"https://raw.githubusercontent.com/thushv89/attention_keras/master/src/layers/attention.py\", filename=\"attention.py\")\n",
    "from attention import AttentionLayer"
   ]
  },
  {
   "cell_type": "code",
   "execution_count": 42,
   "id": "59ba25f8",
   "metadata": {},
   "outputs": [
    {
     "name": "stdout",
     "output_type": "stream",
     "text": [
      "Model: \"model_1\"\n",
      "__________________________________________________________________________________________________\n",
      "Layer (type)                    Output Shape         Param #     Connected to                     \n",
      "==================================================================================================\n",
      "input_1 (InputLayer)            [(None, 50)]         0                                            \n",
      "__________________________________________________________________________________________________\n",
      "embedding (Embedding)           (None, 50, 128)      1024000     input_1[0][0]                    \n",
      "__________________________________________________________________________________________________\n",
      "lstm (LSTM)                     [(None, 50, 256), (N 394240      embedding[0][0]                  \n",
      "__________________________________________________________________________________________________\n",
      "input_2 (InputLayer)            [(None, None)]       0                                            \n",
      "__________________________________________________________________________________________________\n",
      "lstm_1 (LSTM)                   [(None, 50, 256), (N 525312      lstm[0][0]                       \n",
      "__________________________________________________________________________________________________\n",
      "embedding_1 (Embedding)         (None, None, 128)    256000      input_2[0][0]                    \n",
      "__________________________________________________________________________________________________\n",
      "lstm_2 (LSTM)                   [(None, 50, 256), (N 525312      lstm_1[0][0]                     \n",
      "__________________________________________________________________________________________________\n",
      "lstm_3 (LSTM)                   [(None, None, 256),  394240      embedding_1[0][0]                \n",
      "                                                                 lstm_2[0][1]                     \n",
      "                                                                 lstm_2[0][2]                     \n",
      "__________________________________________________________________________________________________\n",
      "attention_layer (AttentionLayer ((None, None, 256),  131328      lstm_2[0][0]                     \n",
      "                                                                 lstm_3[0][0]                     \n",
      "__________________________________________________________________________________________________\n",
      "concat_layer (Concatenate)      (None, None, 512)    0           lstm_3[0][0]                     \n",
      "                                                                 attention_layer[0][0]            \n",
      "__________________________________________________________________________________________________\n",
      "dense_1 (Dense)                 (None, None, 2000)   1026000     concat_layer[0][0]               \n",
      "==================================================================================================\n",
      "Total params: 4,276,432\n",
      "Trainable params: 4,276,432\n",
      "Non-trainable params: 0\n",
      "__________________________________________________________________________________________________\n"
     ]
    }
   ],
   "source": [
    "# 어텐션 층(어텐션 함수)\n",
    "attn_layer = AttentionLayer(name='attention_layer')\n",
    "# 인코더와 디코더의 모든 time step의 hidden state를 어텐션 층에 전달하고 결과를 리턴\n",
    "attn_out, attn_states = attn_layer([encoder_outputs, decoder_outputs])\n",
    "\n",
    "# 어텐션의 결과와 디코더의 hidden state들을 연결\n",
    "decoder_concat_input = Concatenate(axis = -1, name='concat_layer')([decoder_outputs, attn_out])\n",
    "\n",
    "# 디코더의 출력층\n",
    "decoder_softmax_layer = Dense(tar_vocab, activation='softmax')\n",
    "decoder_softmax_outputs = decoder_softmax_layer(decoder_concat_input)\n",
    "\n",
    "# 모델 정의\n",
    "model = Model([encoder_inputs, decoder_inputs], decoder_softmax_outputs)\n",
    "model.summary()"
   ]
  },
  {
   "cell_type": "markdown",
   "id": "bf1ef7d7",
   "metadata": {},
   "source": [
    "## 훈련"
   ]
  },
  {
   "cell_type": "code",
   "execution_count": 43,
   "id": "8fdf5fd7",
   "metadata": {},
   "outputs": [
    {
     "name": "stdout",
     "output_type": "stream",
     "text": [
      "Epoch 1/50\n",
      "85/85 [==============================] - 79s 725ms/step - loss: 4.9311 - val_loss: 4.4717\n",
      "Epoch 2/50\n",
      "85/85 [==============================] - 60s 709ms/step - loss: 4.4994 - val_loss: 4.2860\n",
      "Epoch 3/50\n",
      "85/85 [==============================] - 60s 706ms/step - loss: 4.3276 - val_loss: 4.1783\n",
      "Epoch 4/50\n",
      "85/85 [==============================] - 60s 703ms/step - loss: 4.1745 - val_loss: 4.0330\n",
      "Epoch 5/50\n",
      "85/85 [==============================] - 60s 701ms/step - loss: 4.0308 - val_loss: 3.9509\n",
      "Epoch 6/50\n",
      "85/85 [==============================] - 60s 706ms/step - loss: 3.9091 - val_loss: 3.8404\n",
      "Epoch 7/50\n",
      "85/85 [==============================] - 60s 706ms/step - loss: 3.7857 - val_loss: 3.7720\n",
      "Epoch 8/50\n",
      "85/85 [==============================] - 60s 710ms/step - loss: 3.6649 - val_loss: 3.6803\n",
      "Epoch 9/50\n",
      "85/85 [==============================] - 60s 704ms/step - loss: 3.5532 - val_loss: 3.6148\n",
      "Epoch 10/50\n",
      "85/85 [==============================] - 59s 699ms/step - loss: 3.4495 - val_loss: 3.5520\n",
      "Epoch 11/50\n",
      "85/85 [==============================] - 60s 704ms/step - loss: 3.3542 - val_loss: 3.5221\n",
      "Epoch 12/50\n",
      "85/85 [==============================] - 60s 702ms/step - loss: 3.2633 - val_loss: 3.4780\n",
      "Epoch 13/50\n",
      "85/85 [==============================] - 59s 699ms/step - loss: 3.1792 - val_loss: 3.4304\n",
      "Epoch 14/50\n",
      "85/85 [==============================] - 60s 705ms/step - loss: 3.1041 - val_loss: 3.4030\n",
      "Epoch 15/50\n",
      "85/85 [==============================] - 60s 701ms/step - loss: 3.0320 - val_loss: 3.3935\n",
      "Epoch 16/50\n",
      "85/85 [==============================] - 59s 697ms/step - loss: 2.9623 - val_loss: 3.3666\n",
      "Epoch 17/50\n",
      "85/85 [==============================] - 60s 702ms/step - loss: 2.8971 - val_loss: 3.3506\n",
      "Epoch 18/50\n",
      "85/85 [==============================] - 59s 697ms/step - loss: 2.8355 - val_loss: 3.3393\n",
      "Epoch 19/50\n",
      "85/85 [==============================] - 60s 707ms/step - loss: 2.7753 - val_loss: 3.3328\n",
      "Epoch 20/50\n",
      "85/85 [==============================] - 60s 703ms/step - loss: 2.7185 - val_loss: 3.3143\n",
      "Epoch 21/50\n",
      "85/85 [==============================] - 60s 706ms/step - loss: 2.6627 - val_loss: 3.3063\n",
      "Epoch 22/50\n",
      "85/85 [==============================] - 60s 709ms/step - loss: 2.6059 - val_loss: 3.3194\n",
      "Epoch 23/50\n",
      "85/85 [==============================] - 60s 705ms/step - loss: 2.5530 - val_loss: 3.3004\n",
      "Epoch 24/50\n",
      "85/85 [==============================] - 60s 703ms/step - loss: 2.5012 - val_loss: 3.3019\n",
      "Epoch 25/50\n",
      "85/85 [==============================] - 60s 702ms/step - loss: 2.4546 - val_loss: 3.3044\n",
      "Epoch 00025: early stopping\n"
     ]
    }
   ],
   "source": [
    "model.compile(optimizer='rmsprop', loss='sparse_categorical_crossentropy')\n",
    "es = EarlyStopping(monitor='val_loss', mode='min', verbose=1, patience = 2)\n",
    "history = model.fit(x = [encoder_input_train, decoder_input_train], y = decoder_target_train, \\\n",
    "          validation_data = ([encoder_input_test, decoder_input_test], decoder_target_test),\n",
    "          batch_size = 256, callbacks=[es], epochs = 50)"
   ]
  },
  {
   "cell_type": "code",
   "execution_count": 44,
   "id": "4862d78e",
   "metadata": {},
   "outputs": [
    {
     "data": {
      "image/png": "[encoded data removed]",
      "text/plain": [
       "<Figure size 432x288 with 1 Axes>"
      ]
     },
     "metadata": {
      "needs_background": "light"
     },
     "output_type": "display_data"
    }
   ],
   "source": [
    "plt.plot(history.history['loss'], label='train')\n",
    "plt.plot(history.history['val_loss'], label='test')\n",
    "plt.legend()\n",
    "plt.show()"
   ]
  },
  {
   "cell_type": "markdown",
   "id": "4313be4a",
   "metadata": {},
   "source": [
    "### 인퍼런스 모델 "
   ]
  },
  {
   "cell_type": "code",
   "execution_count": 45,
   "id": "24e6a4bb",
   "metadata": {},
   "outputs": [],
   "source": [
    "src_index_to_word = src_tokenizer.index_word # 원문 단어 집합에서 정수 -> 단어를 얻음\n",
    "tar_word_to_index = tar_tokenizer.word_index # 요약 단어 집합에서 단어 -> 정수를 얻음\n",
    "tar_index_to_word = tar_tokenizer.index_word # 요약 단어 집합에서 정수 -> 단어를 얻음\n"
   ]
  },
  {
   "cell_type": "code",
   "execution_count": 46,
   "id": "8845aab3",
   "metadata": {},
   "outputs": [],
   "source": [
    "# 인코더 설계\n",
    "encoder_model = Model(inputs=encoder_inputs, outputs=[encoder_outputs, state_h, state_c])\n",
    "\n",
    "# 이전 시점의 상태들을 저장하는 텐서\n",
    "decoder_state_input_h = Input(shape=(hidden_size,))\n",
    "decoder_state_input_c = Input(shape=(hidden_size,))\n",
    "\n",
    "dec_emb2 = dec_emb_layer(decoder_inputs)\n",
    "# 문장의 다음 단어를 예측하기 위해서 초기 상태(initial_state)를 이전 시점의 상태로 사용. 이는 뒤의 함수 decode_sequence()에 구현\n",
    "# 훈련 과정에서와 달리 LSTM의 리턴하는 은닉 상태와 셀 상태인 state_h와 state_c를 버리지 않음.\n",
    "decoder_outputs2, state_h2, state_c2 = decoder_lstm(dec_emb2, initial_state=[decoder_state_input_h, decoder_state_input_c])\n"
   ]
  },
  {
   "cell_type": "code",
   "execution_count": 47,
   "id": "bbdffe1b",
   "metadata": {},
   "outputs": [],
   "source": [
    "# 어텐션 함수\n",
    "decoder_hidden_state_input = Input(shape=(text_max_len, hidden_size))\n",
    "attn_out_inf, attn_states_inf = attn_layer([decoder_hidden_state_input, decoder_outputs2])\n",
    "decoder_inf_concat = Concatenate(axis=-1, name='concat')([decoder_outputs2, attn_out_inf])\n",
    "\n",
    "# 디코더의 출력층\n",
    "decoder_outputs2 = decoder_softmax_layer(decoder_inf_concat) \n",
    "\n",
    "# 최종 디코더 모델\n",
    "decoder_model = Model(\n",
    "    [decoder_inputs] + [decoder_hidden_state_input,decoder_state_input_h, decoder_state_input_c],\n",
    "    [decoder_outputs2] + [state_h2, state_c2])\n"
   ]
  },
  {
   "cell_type": "code",
   "execution_count": 48,
   "id": "54231efc",
   "metadata": {},
   "outputs": [],
   "source": [
    "def decode_sequence(input_seq):\n",
    "    # 입력으로부터 인코더의 상태를 얻음\n",
    "    e_out, e_h, e_c = encoder_model.predict(input_seq)\n",
    "\n",
    "     # 에 해당하는 토큰 생성\n",
    "    target_seq = np.zeros((1,1))\n",
    "    target_seq[0, 0] = tar_word_to_index['sostoken']\n",
    "\n",
    "    stop_condition = False\n",
    "    decoded_sentence = ''\n",
    "    while not stop_condition: # stop_condition이 True가 될 때까지 루프 반복\n",
    "\n",
    "        output_tokens, h, c = decoder_model.predict([target_seq] + [e_out, e_h, e_c])\n",
    "        sampled_token_index = np.argmax(output_tokens[0, -1, :])\n",
    "        sampled_token = tar_index_to_word[sampled_token_index]\n",
    "\n",
    "        if(sampled_token!='eostoken'):\n",
    "            decoded_sentence += ' '+sampled_token\n",
    "\n",
    "        #  에 도달하거나 최대 길이를 넘으면 중단.\n",
    "        if (sampled_token == 'eostoken'  or len(decoded_sentence.split()) >= (headlines_max_len-1)):\n",
    "            stop_condition = True\n",
    "\n",
    "        # 길이가 1인 타겟 시퀀스를 업데이트\n",
    "        target_seq = np.zeros((1,1))\n",
    "        target_seq[0, 0] = sampled_token_index\n",
    "\n",
    "        # 상태를 업데이트 합니다.\n",
    "        e_h, e_c = h, c\n",
    "\n",
    "    return decoded_sentence"
   ]
  },
  {
   "cell_type": "markdown",
   "id": "6aa36843",
   "metadata": {},
   "source": [
    "### 모델 테스트"
   ]
  },
  {
   "cell_type": "code",
   "execution_count": 49,
   "id": "5d240e02",
   "metadata": {},
   "outputs": [],
   "source": [
    "# 원문의 정수 시퀀스를 텍스트 시퀀스로 변환\n",
    "def seq2text(input_seq):\n",
    "    temp=''\n",
    "    for i in input_seq:\n",
    "        if(i!=0):\n",
    "            temp = temp + src_index_to_word[i]+' '\n",
    "    return temp\n",
    "\n",
    "# 요약문의 정수 시퀀스를 텍스트 시퀀스로 변환\n",
    "def seq2summary(input_seq):\n",
    "    temp=''\n",
    "    for i in input_seq:\n",
    "        if((i!=0 and i!=tar_word_to_index['sostoken']) and i!=tar_word_to_index['eostoken']):\n",
    "            temp = temp + tar_index_to_word[i] + ' '\n",
    "    return temp"
   ]
  },
  {
   "cell_type": "code",
   "execution_count": 50,
   "id": "4cd66349",
   "metadata": {},
   "outputs": [
    {
     "name": "stdout",
     "output_type": "stream",
     "text": [
      "원문 : country largest lender state bank india process closing nine foreign branches part overseas operations unless make sense us operating particularly foreign locations md gupta said notably sbi foreign offices spread across countries \n",
      "실제 요약 : sbi to shut foreign to cut costs \n",
      "예측 요약 :  sbi to bank cryptocurrencies in india\n",
      "\n",
      "\n",
      "원문 : ranveer singh said deepika padukone calm like buddhist recalling chennai express hai shooting ki ram leela added cannot think actor today time double ranveer said extremely warm genuine kind person \n",
      "실제 요약 : deepika is like ranveer singh \n",
      "예측 요약 :  deepika ranveer to be in\n",
      "\n",
      "\n",
      "원문 : price world largest cryptocurrency bitcoin surpassed mark first time ever wednesday hitting fresh record high digital currency surged year date rising less start notably one bitcoin valued three days back ten days back \n",
      "실제 요약 : bitcoin crosses for the first time ever \n",
      "예측 요약 :  bitcoin price by in\n",
      "\n",
      "\n",
      "원문 : become first female receive oscar nomination year old history awards nominated work film job things women good said speaking nomination \n",
      "실제 요약 : st female \n",
      "예측 요약 :  world first boy aged\n",
      "\n",
      "\n",
      "원문 : britain prince wife third child together palace announced monday queen members families news palace said baby fifth line british grandfather prince charles father elder george \n",
      "실제 요약 : britain prince and third child \n",
      "예측 요약 :  brazilian woman accidentally shot dead for\n",
      "\n",
      "\n",
      "원문 : venezuela barred juan declared interim president leaving country bank accounts prohibited leaving caused harm peace republic president venezuela supreme tribunal justice said came us gave right control venezuela bank accounts us \n",
      "실제 요약 : venezuela bars self declared president from country \n",
      "예측 요약 :  turkey to leave new brexit\n",
      "\n",
      "\n",
      "원문 : according reports sushant singh rajput turned cream despite offered crore feels needs responsible kind products face said source talking actors sushant earlier said one skin another \n",
      "실제 요약 : sushant turns down cr report \n",
      "예측 요약 :  am crore in india\n",
      "\n",
      "\n",
      "원문 : indian fast bowler jasprit bumrah grandfather singh dead body river ahmedabad fire emergency services sunday year old reportedly come meet grandson missing since friday bumrah family reportedly denied singh meeting talking grandson \n",
      "실제 요약 : dead body found in river \n",
      "예측 요약 :  over killed in assam\n",
      "\n",
      "\n",
      "원문 : giant dog statue resembling us president donald trump placed outside shopping mall china mark chinese year dog notably trump born year dog occurs every years last year shopping centre unveiled giant also trump year \n",
      "실제 요약 : trump dog statue outside chinese \n",
      "예측 요약 :  trump threatens to trump\n",
      "\n",
      "\n",
      "원문 : american file hosting service initial public offering could come later year would make biggest ipo technology company since snapchat valued almost billion private round snapchat ipo valued company billion earlier year \n",
      "실제 요약 : for biggest tech ipo since snapchat \n",
      "예측 요약 :  to buy for\n",
      "\n",
      "\n",
      "원문 : delhi authorities postponed demolition temple allegedly built illegally east delhi delhi high court ordered demolition tuesday public works department said postponed august due administrative reasons comes religious group warned protests temple demolished reports said \n",
      "실제 요약 : of illegally built temple in delhi postponed \n",
      "예측 요약 :  delhi police to file complaint against\n",
      "\n",
      "\n",
      "원문 : us based boeing retained position world largest seventh year row delivering record aircraft overall company saw net orders valued billion boeing followed european rival airbus delivered aircraft last year \n",
      "실제 요약 : world largest for th straight year \n",
      "예측 요약 :  world largest world largest\n",
      "\n",
      "\n",
      "원문 : indian fast bowler sreesanth claimed comments playing country meant wanted play foreign cricket emotional got carried away day meant cricket important would play countries said sreesanth \n",
      "실제 요약 : playing for other countries \n",
      "예측 요약 :  cricket team to be\n",
      "\n",
      "\n",
      "원문 : danish agriculture food council announced project make beer plan aims collect special storage music festival called used suggestions name beer include yellow \n",
      "실제 요약 : to make beer \n",
      "예측 요약 :  to be in\n",
      "\n",
      "\n",
      "원문 : since took brazil head coach june different players led team matches year old adopted policy captain leadership leading brazil world cup today fifth man lead brazil two world \n",
      "실제 요약 : different players have brazil in last games \n",
      "예측 요약 :  cricket cricket to\n",
      "\n",
      "\n",
      "원문 : white group denied permission burn cross georgia stone mountain park fears event may lead violence ceremony proposed commemorate cross burning stone mountain marked comes violence white nationalist rally virginia claimed life \n",
      "실제 요약 : denied permission to cross at park \n",
      "예측 요약 :  over lakh in kerala\n",
      "\n",
      "\n",
      "원문 : bengaluru based digital lending startup capital monday said raised million series funding round led silicon valley based capital saif partners sequoia india also participated funding last year startup raised million series round led creation investments raising total capital million months \n",
      "실제 요약 : startup raises million in series funding \n",
      "예측 요약 :  bengaluru based startup raises crore\n",
      "\n",
      "\n",
      "원문 : scientists made world smallest leonardo da size dna technique dubbed dna enabled scientists fold dna self structures using wide team also created life sized portrait sized portrait \n",
      "실제 요약 : world created using dna \n",
      "예측 요약 :  scientists discover of\n",
      "\n",
      "\n",
      "원문 : video us president donald trump hands portuguese counterpart de surfaced online viral footage showed portuguese president come car trump towards hands trump hosted portuguese president white house wednesday \n",
      "실제 요약 : video president power with trump \n",
      "예측 요약 :  trump putin to white\n",
      "\n",
      "\n",
      "원문 : online fashion marketplace crore series round funding seed investment platform venture founded mumbai based startup sources products including clothing shoes bags directly nearby outlets company raised undisclosed amount capital snapdeal co founders kunal bahl rohit bansal \n",
      "실제 요약 : fashion gets cr from \n",
      "예측 요약 :  online raises crore\n",
      "\n",
      "\n",
      "원문 : italian automaker ferrari launched ferrari delhi ex india price crore powered hp engine car go kmph seconds achieve top speed kmph upgrade california made debut ferrari th anniversary celebration last year italy \n",
      "실제 요약 : launched in india at crore \n",
      "예측 요약 :  bank profit rises to crore in\n",
      "\n",
      "\n",
      "원문 : karnataka cm siddaramaiah thursday accepted nine member committee design proposed official state flag committee set last year legal official state flag demands pro kannada activists centre proposal karnataka second state separate flag jammu kashmir \n",
      "실제 요약 : karnataka government unveils official state flag \n",
      "예측 요약 :  andhra pradesh cm announces reservation for\n",
      "\n",
      "\n",
      "원문 : meeting held delhi dalit muslim outfits discuss samaj party chief mayawati meet led siddiqui expelled bsp mayawati early year committee soon hold another meeting form joint front samaj contest elections siddiqui said \n",
      "실제 요약 : meet to plan \n",
      "예측 요약 :  up minister is\n",
      "\n",
      "\n",
      "원문 : cambridge attended defending champion andy murray first wimbledon match year edition defeated russian alexander also austrian tennis player visit first time tournament england tennis club \n",
      "실제 요약 : of attends first wimbledon match \n",
      "예측 요약 :  federer after wimbledon\n",
      "\n",
      "\n",
      "원문 : quarter planet land could become significantly global warming according china uk based study team studied global climate models identify areas could go dry estimated two affected regions could avoid significant warming limited pre industrial levels \n",
      "실제 요약 : global could of earth study \n",
      "예측 요약 :  to invest million in report\n",
      "\n",
      "\n",
      "원문 : total five maoists crpf personnel state police wednesday encounter jharkhand district encounter broken security forces conducting search operation jungle reports said meanwhile police officials said encounter still underway \n",
      "실제 요약 : killed in encounter with crpf in jharkhand \n",
      "예측 요약 :  crpf personnel killed in encounter\n",
      "\n",
      "\n",
      "원문 : delhi defeated bengal innings runs tuesday enter ranji trophy final first time since season delhi driven former captain gautam gambhir nd first class ton pacer seven wickets delhi appeared ranji trophy final times previously winning seven times \n",
      "실제 요약 : time champions delhi enter final after years \n",
      "예측 요약 :  becomes highest highest in ipl\n",
      "\n",
      "\n",
      "원문 : photograph aditya roy kapur shraddha kapoor aggarwal deepak featured film shared shraddha instagram shraddha aditya featured sequel film picture taken event mark mahesh bhatt mukesh bhatt production house films completing years \n",
      "실제 요약 : pic shows shraddha with film actors \n",
      "예측 요약 :  look from manikarnika kapoor\n",
      "\n",
      "\n",
      "원문 : based photographer travelled around africa created characters dressed debris spread awareness environmental problems characters dubbed earth aim humans power reverse done planet said series displayed international art fair switzerland \n",
      "실제 요약 : in pictures photographer about pollution \n",
      "예측 요약 :  world oldest found in\n",
      "\n",
      "\n",
      "원문 : bengaluru municipal corporation approved development km long cycle track area connects electronic city lane painted green red separated motor vehicles road directorate urban land transport sanctioned crore \n",
      "실제 요약 : bengaluru to get km long track \n",
      "예측 요약 :  bengaluru to get to\n",
      "\n",
      "\n",
      "원문 : prominent journalist russian radio station stabbed throat man monday employers said attacker acted personal claimed victim sexual assault journalist according reports later detained authorities \n",
      "실제 요약 : man journo over sexual assault reports \n",
      "예측 요약 :  saudi arabia journalist journo after journalist\n",
      "\n",
      "\n",
      "원문 : prime minister narendra modi sunday held hometown arrived second day gujarat visit later visited childhood school temple pm modi welcomed modi modi visit hometown first office \n",
      "실제 요약 : pm narendra modi visits holds \n",
      "예측 요약 :  pm modi announces pm modi\n",
      "\n",
      "\n",
      "원문 : eight uae convicted human trafficking abusing servants belgian court given month suspended jail terms fine crore case brought family escaped brussels hotel booked royals complained police \n",
      "실제 요약 : uae convicted of human \n",
      "예측 요약 :  university to ban in\n",
      "\n",
      "\n",
      "원문 : green driven princess diana auctioned lakh lakh less expected car princess drove km auction house called one photographed cars generation soon divorce \n",
      "실제 요약 : lakh less than \n",
      "예측 요약 :  sells for crore auctioned for crore\n",
      "\n",
      "\n",
      "원문 : rising pune supergiant restricted royal challengers bangalore putting ipl saturday steve smith manoj scored respectively help put total reply imran helped restrict rcb notably rcb captain virat kohli top scored ball \n",
      "실제 요약 : to while against \n",
      "예측 요약 :  what were the of in ipl\n",
      "\n",
      "\n",
      "원문 : india fourth richest person lakshmi mittal donated million harvard university donation establish fund south asia institute university leads harvard engagement south asian countries including india result institute would called lakshmi mittal south asia institute harvard university \n",
      "실제 요약 : donates million to harvard university \n",
      "예측 요약 :  indian origin startup raises million\n",
      "\n",
      "\n",
      "원문 : section assembly four people extended till december midnight sabarimala areas decision taken based reports special officer additional magistrate charge earlier orders issued november supposed place till wednesday night \n",
      "실제 요약 : section extended till december in sabarimala \n",
      "예측 요약 :  karnataka govt to get\n",
      "\n",
      "\n",
      "원문 : pakistan executed many prisoners since lifting death penalty becoming fifth world according report organisation working prisoners rights use death penalty failed curb crime including terrorism used political tool report claimed \n",
      "실제 요약 : pakistan conducts most in world report \n",
      "예측 요약 :  pakistan army to\n",
      "\n",
      "\n",
      "원문 : addressing conference us business school bjp mp subramanian swamy said fake news become kind cancer needs kind surgery talking information broadcasting ministry withdrawn order journalists found reporting fake news swamy supported pm narendra modi matter addressed press council india \n",
      "실제 요약 : fake news has become cancer needs surgery swamy \n",
      "예측 요약 :  tharoor files against for\n",
      "\n",
      "\n",
      "원문 : social media giant facebook messaging platform messenger monday announced five camera including video effect selfie mode messenger also added software based effect background images taken selfie camera platform also announced new holiday effects based augmented reality \n",
      "실제 요약 : facebook rolls out selfie video feature \n",
      "예측 요약 :  facebook working on hour\n",
      "\n",
      "\n",
      "원문 : french startup launched device room mining cryptocurrency ethereum heat generated two cards device priced company also provides smartphone app user keep track cryptocurrency device \n",
      "실제 요약 : french startup unveils that cryptocurrency \n",
      "예측 요약 :  startup launches its own cryptocurrency\n",
      "\n",
      "\n",
      "원문 : french court upheld ruling denying citizenship muslim woman refused shake hands official woman said religious beliefs allow shake hands male official government claimed behaviour showed french community denied citizenship \n",
      "실제 요약 : muslim woman who denied french citizenship \n",
      "예측 요약 :  supreme court allows to transgender\n",
      "\n",
      "\n",
      "원문 : volume digital transactions reached new peak billion january crossing billion mark december according rbi data transactions worth trillion carried month via digital means overall value transactions also second highest month past year \n",
      "실제 요약 : digital transactions rise to record billion in january \n",
      "예측 요약 :  to buy stake in billion\n",
      "\n",
      "\n",
      "원문 : microsoft denied claims complaints sexual harassment revealing fired employees last year complaints microsoft chief people officer said firm received harassment complaints us based workforce employees nearly people complained supported following investigation said \n",
      "실제 요약 : microsoft denies claims that it sexual harassment \n",
      "예측 요약 :  uber hires to harassment complaint against employee\n",
      "\n",
      "\n",
      "원문 : south central railway installed plastic bottle telangana andhra pradesh stations order promote environmental protection machines size bottles day bottles come fine plastic pieces make bags shirts \n",
      "실제 요약 : railways plastic at stations \n",
      "예측 요약 :  delhi to get for\n",
      "\n",
      "\n",
      "원문 : portrays game thrones took twitter reveal producer harvey weinstein made sexual advances said met second time asked come hotel room discuss script said harvey interested anything work added \n",
      "실제 요약 : got actress reveals weinstein sexually her \n",
      "예측 요약 :  shares picture with his\n",
      "\n",
      "\n",
      "원문 : friday losses india benchmark index bse sensex surged points close monday nifty closed higher points comes reports us china started negotiations improve us access chinese markets fears trade war \n",
      "실제 요약 : sensex surges points nifty closes above \n",
      "예측 요약 :  sensex falls points nifty hits record\n",
      "\n",
      "\n",
      "원문 : india inflation measured wholesale price index rose four month high april government data showed monday fuel power inflation grew month inflation fruits notably wholesale inflation march eight month low \n",
      "실제 요약 : inflation hits month high of in \n",
      "예측 요약 :  inflation hits month high of in\n",
      "\n",
      "\n",
      "원문 : train india first train sunday breached kmph speed limit test run top official said train breached kmph speed limit section official said major trials train expected commercial run january added \n",
      "실제 요약 : india st train crosses during \n",
      "예측 요약 :  train breaks train to train\n",
      "\n",
      "\n",
      "원문 : central information commission tuesday said delay pension senior citizens retired employees name aadhaar linking pension payments also amounts fundamental right life information commissioner ms noted \n",
      "실제 요약 : over aadhaar \n",
      "예측 요약 :  aadhaar not mandatory for aadhaar\n",
      "\n",
      "\n"
     ]
    }
   ],
   "source": [
    "for i in range(50, 100):\n",
    "    print(\"원문 :\", seq2text(encoder_input_test[i]))\n",
    "    print(\"실제 요약 :\", seq2summary(decoder_input_test[i]))\n",
    "    print(\"예측 요약 :\", decode_sequence(encoder_input_test[i].reshape(1, text_max_len)))\n",
    "    print(\"\\n\")"
   ]
  },
  {
   "cell_type": "markdown",
   "id": "a18ce0de",
   "metadata": {},
   "source": [
    "## Summa을 이용해서 추출적 요약"
   ]
  },
  {
   "cell_type": "markdown",
   "id": "4b9f7220",
   "metadata": {},
   "source": [
    "### 데이터 다운"
   ]
  },
  {
   "cell_type": "code",
   "execution_count": 51,
   "id": "9e13c140",
   "metadata": {},
   "outputs": [],
   "source": [
    "import requests\n",
    "from summa.summarizer import summarize"
   ]
  },
  {
   "cell_type": "code",
   "execution_count": 52,
   "id": "b18c6727",
   "metadata": {},
   "outputs": [],
   "source": [
    "text = requests.get('http://rare-technologies.com/the_matrix_synopsis.txt').text\n"
   ]
  },
  {
   "cell_type": "code",
   "execution_count": 53,
   "id": "85213fc7",
   "metadata": {
    "scrolled": true
   },
   "outputs": [
    {
     "name": "stdout",
     "output_type": "stream",
     "text": [
      "The screen is filled with green, cascading code which gives way to the title, The Matrix.\r\n",
      "\r\n",
      "A phone rings and text appears on the screen: \"Call trans opt: received. 2-19-98 13:24:18 REC: Log>\" As a conversation takes place between Trinity (Carrie-Anne Moss) and Cypher (Joe Pantoliano), two free humans, a table of random green numbers are being scanned and individual numbers selected, creating a series of digits not unlike an ordinary phone number, as if a code is being deciphered or a call is being traced.\r\n",
      "\r\n",
      "Trinity discusses some unknown person. Cypher taunts Trinity, suggesting she enjoys watching him. Trinity counters that \"Morpheus (Laurence Fishburne) says he may be 'the One',\" just as the sound of a number being selected alerts Trinity that someone may be tracing their call. She ends the call.\r\n",
      "\r\n",
      "Armed policemen move down a darkened, decrepit hallway in the Heart O' the City Hotel, their flashlight beam bouncing just ahead of them. They come to room 303, kick down the door and find a woman dressed in black, facing away from them. It's Trinity. She brings her hands up from the laptop she's working on at their command.\r\n",
      "\r\n",
      "Outside the hotel a car drives up and three agents appear in neatly pressed black suits. They are Agent Smith (Hugo Weaving), Agent Brown (Paul Goddard), and Agent Jones (Robert Taylor). Agent Smith and the presiding police lieutenant argue. Agent Smith admonishes the policeman that they were given specific orders to contact the agents first, for their\n"
     ]
    }
   ],
   "source": [
    "print(text[:1500])"
   ]
  },
  {
   "cell_type": "code",
   "execution_count": 54,
   "id": "5b6d0764",
   "metadata": {},
   "outputs": [
    {
     "name": "stdout",
     "output_type": "stream",
     "text": [
      "Summary\n",
      "Morpheus, Trinity, Neo, Apoc, Switch, Mouse and Cypher are jacked into the Matrix.\n",
      "Trinity brings the helicopter down to the floor that Morpheus is on and Neo opens fire on the three Agents.\n"
     ]
    }
   ],
   "source": [
    "print(\"Summary\")\n",
    "print(summarize(text, ratio = 0.005))"
   ]
  },
  {
   "cell_type": "code",
   "execution_count": 55,
   "id": "b475f730",
   "metadata": {},
   "outputs": [
    {
     "name": "stdout",
     "output_type": "stream",
     "text": [
      "Summary\n",
      "['Morpheus, Trinity, Neo, Apoc, Switch, Mouse and Cypher are jacked into the Matrix.', 'Trinity brings the helicopter down to the floor that Morpheus is on and Neo opens fire on the three Agents.']\n"
     ]
    }
   ],
   "source": [
    "print(\"Summary\")\n",
    "print(summarize(text, ratio = 0.005, split = True))"
   ]
  },
  {
   "cell_type": "code",
   "execution_count": 56,
   "id": "ec364103",
   "metadata": {},
   "outputs": [
    {
     "name": "stdout",
     "output_type": "stream",
     "text": [
      "Summary\n",
      "Trinity takes Neo to Morpheus.\n",
      "Morpheus, Trinity, Neo, Apoc, Switch, Mouse and Cypher are jacked into the Matrix.\n",
      "Trinity brings the helicopter down to the floor that Morpheus is on and Neo opens fire on the three Agents.\n"
     ]
    }
   ],
   "source": [
    "print(\"Summary\")\n",
    "print(summarize(text, words=50))"
   ]
  }
 ],
 "metadata": {
  "kernelspec": {
   "display_name": "Python 3 (ipykernel)",
   "language": "python",
   "name": "python3"
  },
  "language_info": {
   "codemirror_mode": {
    "name": "ipython",
    "version": 3
   },
   "file_extension": ".py",
   "mimetype": "text/x-python",
   "name": "python",
   "nbconvert_exporter": "python",
   "pygments_lexer": "ipython3",
   "version": "3.9.7"
  }
 },
 "nbformat": 4,
 "nbformat_minor": 5
}
